{
 "cells": [
  {
   "cell_type": "code",
   "execution_count": null,
   "id": "c235c098-27fd-4909-82f1-e06bd0d488ea",
   "metadata": {},
   "outputs": [],
   "source": [
    "import numpy as np\n",
    "import logging\n",
    "import iris.coord_systems\n",
    "import iris.fileformats\n",
    "from iris.util import equalise_attributes\n",
    "from iris.util import unify_time_units\n",
    "import iris.quickplot as qplt\n",
    "import iris.plot as iplt\n",
    "import matplotlib.pyplot as plt\n",
    "import datetime \n",
    "import iris.coord_categorisation\n",
    "import os\n",
    "import warnings\n",
    "from bokeh.palettes import Sunset8, TolYlOrBr9\n",
    "from bokeh.plotting import figure, show\n",
    "from bokeh.models import ColumnDataSource, HoverTool, Select, \\\n",
    "    LinearColorMapper, ColorBar, CheckboxGroup, Button, GeoJSONDataSource,\\\n",
    "    BasicTicker, PrintfTickFormatter\n",
    "import pandas as pd\n",
    "from bokeh.models import WMTSTileSource\n",
    "import xyzservices.providers as xyz\n",
    "import math\n",
    "\n",
    "warnings.filterwarnings(\"ignore\")\n",
    "%matplotlib tk"
   ]
  },
  {
   "cell_type": "code",
   "execution_count": 2,
   "id": "5bd82297-0c6c-4f24-b0e7-9d17610363a1",
   "metadata": {},
   "outputs": [],
   "source": [
    "# Function to convert lat lon to Web Mercator coordinates\n",
    "def lat_lon_to_web_mercator(lat, lon):\n",
    "    x = lon * 20037508.34 / 180\n",
    "    y = math.log(math.tan((90 + lat) * math.pi / 360)) / (math.pi / 180)\n",
    "    y = y * 20037508.34 / 180\n",
    "    return x, y"
   ]
  },
  {
   "cell_type": "code",
   "execution_count": 3,
   "id": "7301e47c-b5d3-455d-a560-792c6221dbf1",
   "metadata": {},
   "outputs": [],
   "source": [
    "def prepare_calendar(cube):\n",
    "    # Setting up the dates on data\n",
    "    for coord_name, coord_func in [('year', iris.coord_categorisation.add_year),\n",
    "                                   ('month_number', iris.coord_categorisation.add_month_number),\n",
    "                                   ('day_of_month', iris.coord_categorisation.add_day_of_month),\n",
    "                                   ('hour', iris.coord_categorisation.add_hour)]:\n",
    "        if not cube.coords(coord_name):\n",
    "            coord_func(cube, 'time', name=coord_name)\n",
    "    return cube\n",
    "\n",
    "def create_dates_dt(cube):\n",
    "    cube = prepare_calendar(cube)\n",
    "    cube_dates_dt = [datetime.datetime(y, m, d, h) for y, m, d, h in zip(cube.coord('year').points,\n",
    "                                                                   cube.coord('month_number').points,\n",
    "                                                                   cube.coord('day_of_month').points, \n",
    "                                                                   cube.coord('hour').points)]\n",
    "    return cube_dates_dt"
   ]
  },
  {
   "cell_type": "code",
   "execution_count": 4,
   "id": "10a375b0-fbbd-4e98-b870-a6ac1b8acb21",
   "metadata": {},
   "outputs": [],
   "source": [
    "date = datetime.datetime(2024, 2, 19, 0)\n",
    "ntimes_analysis = 332\n",
    "ntimes_forecast = 28"
   ]
  },
  {
   "cell_type": "code",
   "execution_count": 5,
   "id": "bd2e0752-2ffe-4afe-9ddc-fa1460c5fe14",
   "metadata": {},
   "outputs": [
    {
     "data": {
      "text/plain": [
       "<DimCoord: time / (hours since 1970-01-01 00:00:00)  [...]  shape(332,)>"
      ]
     },
     "execution_count": 5,
     "metadata": {},
     "output_type": "execute_result"
    }
   ],
   "source": [
    "analysis_cube =  iris.load_cube('/scratch/hadpx/SEA_monitoring/processed_SEA_data/analysis/eqwaves/precipitation_flux_analysis_20240219_00.nc')\n",
    "analysis_cube *= 3600.\n",
    "analysis_cube.coord('time')"
   ]
  },
  {
   "cell_type": "code",
   "execution_count": 90,
   "id": "5b34d39a-adcf-4614-b075-486bfe82f4a0",
   "metadata": {},
   "outputs": [],
   "source": [
    "forecast_files = ['/scratch/hadpx/SEA_monitoring/raw_data/mogreps/eqwaves/20240219/00/000/qg00T006.pp', '/scratch/hadpx/SEA_monitoring/raw_data/mogreps/eqwaves/20240219/00/000/qg00T012.pp', '/scratch/hadpx/SEA_monitoring/raw_data/mogreps/eqwaves/20240219/00/000/qg00T018.pp', '/scratch/hadpx/SEA_monitoring/raw_data/mogreps/eqwaves/20240219/00/000/qg00T024.pp', '/scratch/hadpx/SEA_monitoring/raw_data/mogreps/eqwaves/20240219/00/000/qg00T030.pp', '/scratch/hadpx/SEA_monitoring/raw_data/mogreps/eqwaves/20240219/00/000/qg00T036.pp', '/scratch/hadpx/SEA_monitoring/raw_data/mogreps/eqwaves/20240219/00/000/qg00T042.pp', '/scratch/hadpx/SEA_monitoring/raw_data/mogreps/eqwaves/20240219/00/000/qg00T048.pp', '/scratch/hadpx/SEA_monitoring/raw_data/mogreps/eqwaves/20240219/00/000/qg00T054.pp', '/scratch/hadpx/SEA_monitoring/raw_data/mogreps/eqwaves/20240219/00/000/qg00T060.pp', '/scratch/hadpx/SEA_monitoring/raw_data/mogreps/eqwaves/20240219/00/000/qg00T066.pp', '/scratch/hadpx/SEA_monitoring/raw_data/mogreps/eqwaves/20240219/00/000/qg00T072.pp', '/scratch/hadpx/SEA_monitoring/raw_data/mogreps/eqwaves/20240219/00/000/qg00T078.pp', '/scratch/hadpx/SEA_monitoring/raw_data/mogreps/eqwaves/20240219/00/000/qg00T084.pp', '/scratch/hadpx/SEA_monitoring/raw_data/mogreps/eqwaves/20240219/00/000/qg00T090.pp', '/scratch/hadpx/SEA_monitoring/raw_data/mogreps/eqwaves/20240219/00/000/qg00T096.pp', '/scratch/hadpx/SEA_monitoring/raw_data/mogreps/eqwaves/20240219/00/000/qg00T102.pp', '/scratch/hadpx/SEA_monitoring/raw_data/mogreps/eqwaves/20240219/00/000/qg00T108.pp', '/scratch/hadpx/SEA_monitoring/raw_data/mogreps/eqwaves/20240219/00/000/qg00T114.pp', '/scratch/hadpx/SEA_monitoring/raw_data/mogreps/eqwaves/20240219/00/000/qg00T120.pp', '/scratch/hadpx/SEA_monitoring/raw_data/mogreps/eqwaves/20240219/00/000/qg00T126.pp', '/scratch/hadpx/SEA_monitoring/raw_data/mogreps/eqwaves/20240219/00/000/qg00T132.pp', '/scratch/hadpx/SEA_monitoring/raw_data/mogreps/eqwaves/20240219/00/000/qg00T138.pp', '/scratch/hadpx/SEA_monitoring/raw_data/mogreps/eqwaves/20240219/00/000/qg00T144.pp', '/scratch/hadpx/SEA_monitoring/raw_data/mogreps/eqwaves/20240219/00/000/qg00T150.pp', '/scratch/hadpx/SEA_monitoring/raw_data/mogreps/eqwaves/20240219/00/000/qg00T156.pp', '/scratch/hadpx/SEA_monitoring/raw_data/mogreps/eqwaves/20240219/00/000/qg00T162.pp', '/scratch/hadpx/SEA_monitoring/raw_data/mogreps/eqwaves/20240219/00/000/qg00T168.pp']"
   ]
  },
  {
   "cell_type": "code",
   "execution_count": 91,
   "id": "7accd550-303f-4812-a486-ac056097b32b",
   "metadata": {},
   "outputs": [
    {
     "data": {
      "text/html": [
       "\n",
       "<style>\n",
       "  a.iris {\n",
       "      text-decoration: none !important;\n",
       "  }\n",
       "  table.iris {\n",
       "      white-space: pre;\n",
       "      border: 1px solid;\n",
       "      border-color: #9c9c9c;\n",
       "      font-family: monaco, monospace;\n",
       "  }\n",
       "  th.iris {\n",
       "      background: #303f3f;\n",
       "      color: #e0e0e0;\n",
       "      border-left: 1px solid;\n",
       "      border-color: #9c9c9c;\n",
       "      font-size: 1.05em;\n",
       "      min-width: 50px;\n",
       "      max-width: 125px;\n",
       "  }\n",
       "  tr.iris :first-child {\n",
       "      border-right: 1px solid #9c9c9c !important;\n",
       "  }\n",
       "  td.iris-title {\n",
       "      background: #d5dcdf;\n",
       "      border-top: 1px solid #9c9c9c;\n",
       "      font-weight: bold;\n",
       "  }\n",
       "  .iris-word-cell {\n",
       "      text-align: left !important;\n",
       "      white-space: pre;\n",
       "  }\n",
       "  .iris-subheading-cell {\n",
       "      padding-left: 2em !important;\n",
       "  }\n",
       "  .iris-inclusion-cell {\n",
       "      padding-right: 1em !important;\n",
       "  }\n",
       "  .iris-panel-body {\n",
       "      padding-top: 0px;\n",
       "  }\n",
       "  .iris-panel-title {\n",
       "      padding-left: 3em;\n",
       "  }\n",
       "  .iris-panel-title {\n",
       "      margin-top: 7px;\n",
       "  }\n",
       "</style>\n",
       "<table class=\"iris\" id=\"139741236147200\">\n",
       "    <tr class=\"iris\">\n",
       "<th class=\"iris iris-word-cell\">Precipitation Amount (kg m-2)</th>\n",
       "<th class=\"iris iris-word-cell\">--</th>\n",
       "<th class=\"iris iris-word-cell\">latitude</th>\n",
       "<th class=\"iris iris-word-cell\">longitude</th>\n",
       "</tr>\n",
       "    <tr class=\"iris\">\n",
       "<td class=\"iris-word-cell iris-subheading-cell\">Shape</td>\n",
       "<td class=\"iris iris-inclusion-cell\">28</td>\n",
       "<td class=\"iris iris-inclusion-cell\">49</td>\n",
       "<td class=\"iris iris-inclusion-cell\">360</td>\n",
       "</tr>\n",
       "    <tr class=\"iris\">\n",
       "    <td class=\"iris-title iris-word-cell\">Dimension coordinates</td>\n",
       "    <td class=\"iris-title\"></td>\n",
       "    <td class=\"iris-title\"></td>\n",
       "    <td class=\"iris-title\"></td>\n",
       "</tr>\n",
       "<tr class=\"iris\">\n",
       "    <td class=\"iris-word-cell iris-subheading-cell\">\tlatitude</td>\n",
       "    <td class=\"iris-inclusion-cell\">-</td>\n",
       "    <td class=\"iris-inclusion-cell\">x</td>\n",
       "    <td class=\"iris-inclusion-cell\">-</td>\n",
       "</tr>\n",
       "<tr class=\"iris\">\n",
       "    <td class=\"iris-word-cell iris-subheading-cell\">\tlongitude</td>\n",
       "    <td class=\"iris-inclusion-cell\">-</td>\n",
       "    <td class=\"iris-inclusion-cell\">-</td>\n",
       "    <td class=\"iris-inclusion-cell\">x</td>\n",
       "</tr>\n",
       "<tr class=\"iris\">\n",
       "    <td class=\"iris-title iris-word-cell\">Auxiliary coordinates</td>\n",
       "    <td class=\"iris-title\"></td>\n",
       "    <td class=\"iris-title\"></td>\n",
       "    <td class=\"iris-title\"></td>\n",
       "</tr>\n",
       "<tr class=\"iris\">\n",
       "    <td class=\"iris-word-cell iris-subheading-cell\">\tforecast_period</td>\n",
       "    <td class=\"iris-inclusion-cell\">x</td>\n",
       "    <td class=\"iris-inclusion-cell\">-</td>\n",
       "    <td class=\"iris-inclusion-cell\">-</td>\n",
       "</tr>\n",
       "<tr class=\"iris\">\n",
       "    <td class=\"iris-word-cell iris-subheading-cell\">\ttime</td>\n",
       "    <td class=\"iris-inclusion-cell\">x</td>\n",
       "    <td class=\"iris-inclusion-cell\">-</td>\n",
       "    <td class=\"iris-inclusion-cell\">-</td>\n",
       "</tr>\n",
       "<tr class=\"iris\">\n",
       "    <td class=\"iris-title iris-word-cell\">Scalar coordinates</td>\n",
       "    <td class=\"iris-title\"></td>\n",
       "    <td class=\"iris-title\"></td>\n",
       "    <td class=\"iris-title\"></td>\n",
       "</tr>\n",
       "<tr class=\"iris\">\n",
       "    <td class=\"iris-word-cell iris-subheading-cell\">\tforecast_reference_time</td>\n",
       "    <td class=\"iris-word-cell\" colspan=\"3\">2024-02-19 00:00:00</td>\n",
       "</tr>\n",
       "<tr class=\"iris\">\n",
       "    <td class=\"iris-title iris-word-cell\">Cell methods</td>\n",
       "    <td class=\"iris-title\"></td>\n",
       "    <td class=\"iris-title\"></td>\n",
       "    <td class=\"iris-title\"></td>\n",
       "</tr>\n",
       "<tr class=\"iris\">\n",
       "    <td class=\"iris-word-cell iris-subheading-cell\">\t0</td>\n",
       "    <td class=\"iris-word-cell\" colspan=\"3\">time: mean (interval: 1 hour)</td>\n",
       "</tr>\n",
       "<tr class=\"iris\">\n",
       "    <td class=\"iris-title iris-word-cell\">Attributes</td>\n",
       "    <td class=\"iris-title\"></td>\n",
       "    <td class=\"iris-title\"></td>\n",
       "    <td class=\"iris-title\"></td>\n",
       "</tr>\n",
       "<tr class=\"iris\">\n",
       "    <td class=\"iris-word-cell iris-subheading-cell\">\tSTASH</td>\n",
       "    <td class=\"iris-word-cell\" colspan=\"3\">m01s05i226</td>\n",
       "</tr>\n",
       "<tr class=\"iris\">\n",
       "    <td class=\"iris-word-cell iris-subheading-cell\">\tsource</td>\n",
       "    <td class=\"iris-word-cell\" colspan=\"3\">&#x27;Data from Met Office Unified Model&#x27;</td>\n",
       "</tr>\n",
       "<tr class=\"iris\">\n",
       "    <td class=\"iris-word-cell iris-subheading-cell\">\tum_version</td>\n",
       "    <td class=\"iris-word-cell\" colspan=\"3\">&#x27;11.9&#x27;</td>\n",
       "</tr>\n",
       "</table>\n",
       "        "
      ],
      "text/plain": [
       "<iris 'Cube' of precipitation_amount / (kg m-2) (-- : 28; latitude: 49; longitude: 360)>"
      ]
     },
     "execution_count": 91,
     "metadata": {},
     "output_type": "execute_result"
    }
   ],
   "source": [
    "forecast_cube = iris.load_cube(forecast_files, 'precipitation_amount')\n",
    "forecast_cube.data[1:] -= forecast_cube.data[:-1]\n",
    "forecast_cube = forecast_cube.regrid(analysis_cube, iris.analysis.Linear())\n",
    "forecast_cube"
   ]
  },
  {
   "cell_type": "code",
   "execution_count": 110,
   "id": "6d5858ec-1129-49bb-8d15-ac5794054bac",
   "metadata": {},
   "outputs": [
    {
     "name": "stdout",
     "output_type": "stream",
     "text": [
      "(332, 49, 360) (28, 49, 360)\n"
     ]
    },
    {
     "data": {
      "text/plain": [
       "datetime.datetime(2024, 2, 19, 0, 0)"
      ]
     },
     "execution_count": 110,
     "metadata": {},
     "output_type": "execute_result"
    }
   ],
   "source": [
    "print(analysis_cube.shape, forecast_cube.shape)\n",
    "#datetime_list = sorted([date + datetime.timedelta(hours=(i+1) * 6)\n",
    "#                                 for i in range(-1*ntimes_analysis, ntimes_forecast)])\n",
    "analysis_datetime_list = sorted([date + datetime.timedelta(hours=(i+1)* 6)\n",
    "                                 for i in range(-ntimes_analysis, 0)])\n",
    "\n",
    "forecast_datetime_list = sorted([date + datetime.timedelta(hours=(i+1)* 6)\n",
    "                                 for i in range(0, ntimes_forecast)])\n",
    "\n",
    "\n",
    "all_dates = analysis_datetime_list+forecast_datetime_list\n",
    "# Convert datetime values to Iris-compatible units\n",
    "time_units = 'hours since 1970-01-01 00:00:00'\n",
    "time_values = iris.util.cf_units.date2num(all_dates, time_units, calendar='gregorian')\n",
    "\n",
    "# Create time coordinate\n",
    "time_coord = iris.coords.DimCoord(time_values, standard_name='time', units=time_units)\n",
    "\n",
    "#analysis_datetime_list[-10:]\n",
    "#all_dates\n",
    "all_dates[-29]"
   ]
  },
  {
   "cell_type": "code",
   "execution_count": null,
   "id": "a34bd01e-3a49-4de2-84f8-05b17e4f3195",
   "metadata": {},
   "outputs": [],
   "source": []
  },
  {
   "cell_type": "code",
   "execution_count": 111,
   "id": "de038c6e-0157-493b-9554-26f3fad245a9",
   "metadata": {},
   "outputs": [
    {
     "name": "stdout",
     "output_type": "stream",
     "text": [
      "unknown / (kg m-2)                  (time: 360; latitude: 49; longitude: 360)\n",
      "    Dimension coordinates:\n",
      "        time                             x              -              -\n",
      "        latitude                         -              x              -\n",
      "        longitude                        -              -              x\n"
     ]
    }
   ],
   "source": [
    "concatenated_array = np.concatenate((analysis_cube.data, forecast_cube.data), axis=0)\n",
    "ndims = len(concatenated_array.shape)\n",
    "datetime_list = sorted([date + datetime.timedelta(hours=(i+1)* 6)\n",
    "                                 for i in range(-1*ntimes_analysis, ntimes_forecast)])\n",
    "# Convert datetime values to Iris-compatible units\n",
    "time_units = 'hours since 1970-01-01 00:00:00'\n",
    "time_values = iris.util.cf_units.date2num(datetime_list, time_units, calendar='gregorian')\n",
    "\n",
    "# Create time coordinate\n",
    "time_coord = iris.coords.DimCoord(time_values, standard_name='time', units=time_units)\n",
    "# build cube\n",
    "ndims = len(concatenated_array.shape)\n",
    "if ndims == 4:\n",
    "    concat_cube = iris.cube.Cube(\n",
    "        concatenated_array,\n",
    "        long_name=forecast_cube.long_name,\n",
    "        units=forecast_cube.units,\n",
    "        attributes=None,\n",
    "        dim_coords_and_dims=[(time_coord, 0), (forecast_cube.coord('pressure'), 1),\n",
    "                             (forecast_cube.coord('latitude'), 2),\n",
    "                             (forecast_cube.coord('longitude'), 3)]\n",
    "    )\n",
    "elif ndims == 3:\n",
    "    concat_cube = iris.cube.Cube(\n",
    "        concatenated_array,\n",
    "        long_name=forecast_cube.long_name,\n",
    "        units=forecast_cube.units,\n",
    "        attributes=None,\n",
    "        dim_coords_and_dims=[(time_coord, 0),\n",
    "                             (forecast_cube.coord('latitude'), 1),\n",
    "                             (forecast_cube.coord('longitude'), 2)]\n",
    "    )\n",
    "print(concat_cube)"
   ]
  },
  {
   "cell_type": "code",
   "execution_count": 69,
   "id": "8d071f83-4aa2-4a72-9090-6d689fce75cd",
   "metadata": {},
   "outputs": [
    {
     "data": {
      "text/html": [
       "\n",
       "<style>\n",
       "  a.iris {\n",
       "      text-decoration: none !important;\n",
       "  }\n",
       "  table.iris {\n",
       "      white-space: pre;\n",
       "      border: 1px solid;\n",
       "      border-color: #9c9c9c;\n",
       "      font-family: monaco, monospace;\n",
       "  }\n",
       "  th.iris {\n",
       "      background: #303f3f;\n",
       "      color: #e0e0e0;\n",
       "      border-left: 1px solid;\n",
       "      border-color: #9c9c9c;\n",
       "      font-size: 1.05em;\n",
       "      min-width: 50px;\n",
       "      max-width: 125px;\n",
       "  }\n",
       "  tr.iris :first-child {\n",
       "      border-right: 1px solid #9c9c9c !important;\n",
       "  }\n",
       "  td.iris-title {\n",
       "      background: #d5dcdf;\n",
       "      border-top: 1px solid #9c9c9c;\n",
       "      font-weight: bold;\n",
       "  }\n",
       "  .iris-word-cell {\n",
       "      text-align: left !important;\n",
       "      white-space: pre;\n",
       "  }\n",
       "  .iris-subheading-cell {\n",
       "      padding-left: 2em !important;\n",
       "  }\n",
       "  .iris-inclusion-cell {\n",
       "      padding-right: 1em !important;\n",
       "  }\n",
       "  .iris-panel-body {\n",
       "      padding-top: 0px;\n",
       "  }\n",
       "  .iris-panel-title {\n",
       "      padding-left: 3em;\n",
       "  }\n",
       "  .iris-panel-title {\n",
       "      margin-top: 7px;\n",
       "  }\n",
       "</style>\n",
       "<table class=\"iris\" id=\"139741375723936\">\n",
       "    <tr class=\"iris\">\n",
       "<th class=\"iris iris-word-cell\">Unknown (kg m-2)</th>\n",
       "<th class=\"iris iris-word-cell\">time</th>\n",
       "<th class=\"iris iris-word-cell\">latitude</th>\n",
       "<th class=\"iris iris-word-cell\">longitude</th>\n",
       "</tr>\n",
       "    <tr class=\"iris\">\n",
       "<td class=\"iris-word-cell iris-subheading-cell\">Shape</td>\n",
       "<td class=\"iris iris-inclusion-cell\">360</td>\n",
       "<td class=\"iris iris-inclusion-cell\">49</td>\n",
       "<td class=\"iris iris-inclusion-cell\">360</td>\n",
       "</tr>\n",
       "    <tr class=\"iris\">\n",
       "    <td class=\"iris-title iris-word-cell\">Dimension coordinates</td>\n",
       "    <td class=\"iris-title\"></td>\n",
       "    <td class=\"iris-title\"></td>\n",
       "    <td class=\"iris-title\"></td>\n",
       "</tr>\n",
       "<tr class=\"iris\">\n",
       "    <td class=\"iris-word-cell iris-subheading-cell\">\ttime</td>\n",
       "    <td class=\"iris-inclusion-cell\">x</td>\n",
       "    <td class=\"iris-inclusion-cell\">-</td>\n",
       "    <td class=\"iris-inclusion-cell\">-</td>\n",
       "</tr>\n",
       "<tr class=\"iris\">\n",
       "    <td class=\"iris-word-cell iris-subheading-cell\">\tlatitude</td>\n",
       "    <td class=\"iris-inclusion-cell\">-</td>\n",
       "    <td class=\"iris-inclusion-cell\">x</td>\n",
       "    <td class=\"iris-inclusion-cell\">-</td>\n",
       "</tr>\n",
       "<tr class=\"iris\">\n",
       "    <td class=\"iris-word-cell iris-subheading-cell\">\tlongitude</td>\n",
       "    <td class=\"iris-inclusion-cell\">-</td>\n",
       "    <td class=\"iris-inclusion-cell\">-</td>\n",
       "    <td class=\"iris-inclusion-cell\">x</td>\n",
       "</tr>\n",
       "</table>\n",
       "        "
      ],
      "text/plain": [
       "<iris 'Cube' of unknown / (kg m-2) (time: 360; latitude: 49; longitude: 360)>"
      ]
     },
     "execution_count": 69,
     "metadata": {},
     "output_type": "execute_result"
    }
   ],
   "source": [
    "dim_coords_and_dims = [(time_coord, 0)]\n",
    "for coord in analysis_cube.dim_coords[1:]:\n",
    "    dim_coords_and_dims.append((coord, analysis_cube.coord_dims(coord)[0]))\n",
    "concat_cube = iris.cube.Cube(\n",
    "            concatenated_array,\n",
    "            long_name=forecast_cube.long_name,\n",
    "            units=forecast_cube.units,\n",
    "            attributes=None,\n",
    "            dim_coords_and_dims=dim_coords_and_dims\n",
    "        )\n",
    "concat_cube"
   ]
  },
  {
   "cell_type": "code",
   "execution_count": 10,
   "id": "b2a79155-0d94-4e05-8579-544b22d005b3",
   "metadata": {},
   "outputs": [
    {
     "data": {
      "text/plain": [
       "['000',\n",
       " '001',\n",
       " '002',\n",
       " '003',\n",
       " '004',\n",
       " '005',\n",
       " '006',\n",
       " '007',\n",
       " '008',\n",
       " '009',\n",
       " '010',\n",
       " '011',\n",
       " '012',\n",
       " '013',\n",
       " '014',\n",
       " '015',\n",
       " '016',\n",
       " '017']"
      ]
     },
     "execution_count": 10,
     "metadata": {},
     "output_type": "execute_result"
    }
   ],
   "source": [
    "mem_labels = [f'{fc:03}' for fc in range(0, 18)]\n",
    "mem_labels"
   ]
  },
  {
   "cell_type": "code",
   "execution_count": 12,
   "id": "77d53bc1-efd1-4d7e-b8bf-a503e0638c4a",
   "metadata": {},
   "outputs": [],
   "source": [
    "outfile_dir = '/scratch/hadpx/SEA_monitoring/processed_SEA_data/mogreps/eqwaves/20240324_00'\n",
    "date_label = '20240324_00'\n",
    "precip_files = [os.path.join(outfile_dir, f'precipitation_flux_combined_{date_label}Z_{mem}.nc') for mem in mem_labels]\n",
    "precip_files = [file for file in precip_files if os.path.exists(file)]\n",
    "#precip_files"
   ]
  },
  {
   "cell_type": "code",
   "execution_count": 13,
   "id": "6dde2e4a-2628-40a1-accc-0cabd68d012c",
   "metadata": {},
   "outputs": [],
   "source": [
    "pr_cube = iris.load_cube(precip_files)"
   ]
  },
  {
   "cell_type": "code",
   "execution_count": 14,
   "id": "f9408833-8ddf-466a-880d-c37178e6c24c",
   "metadata": {},
   "outputs": [
    {
     "data": {
      "text/plain": [
       "'20240324 06Z'"
      ]
     },
     "execution_count": 14,
     "metadata": {},
     "output_type": "execute_result"
    }
   ],
   "source": [
    "#pr_ens_mean = pr_cube.collapsed('realization', iris.analysis.MEAN)\n",
    "times2plot = [t for t in range(-96, 174, 6)]\n",
    "pressures = ['850', '200']\n",
    "ntimes = len(times2plot)\n",
    "\n",
    "pr_cube = pr_cube[:,-ntimes:]\n",
    "# Assuming `times2plot` and `create_dates_dt(pr_cube)` are lists\n",
    "data = [(i, l, d) for i, l, d in zip(range(ntimes), times2plot, create_dates_dt(pr_cube))]\n",
    "\n",
    "# Creating DataFrame\n",
    "df = pd.DataFrame(data, columns=['Index', 'Lead', 'Date'])\n",
    "df.iloc[-28].Date.strftime('%Y%m%d %HZ')"
   ]
  },
  {
   "cell_type": "code",
   "execution_count": 15,
   "id": "052e4e0f-33a1-4060-8714-2cefcc8d617e",
   "metadata": {},
   "outputs": [],
   "source": [
    "thresholds = {'precip':5, \n",
    "              'Kelvin_850':-1*1e-6, 'Kelvin_200':-2*1e-6, \n",
    "              'WMRG_850':-1*1e-6, 'WMRG_200':-2*1e-6,\n",
    "              'R1_850':5*1e-6, 'R1_200':2*1e-6, \n",
    "              'R2_850':2.5*1e-6, 'R2_200':2*1e-6}"
   ]
  },
  {
   "cell_type": "code",
   "execution_count": 44,
   "id": "d1d6d1d9-1442-49a1-a252-3a1f8aaf0a9b",
   "metadata": {},
   "outputs": [
    {
     "data": {
      "text/plain": [
       "(<iris 'Cube' of unknown / (1) (time: 45; latitude: 49; longitude: 360)>,\n",
       " 'Probability of precipitation >= 5 mm day-1',\n",
       " 'Probability of WMRG divergence <= -1.0e-06 s-1')"
      ]
     },
     "execution_count": 44,
     "metadata": {},
     "output_type": "execute_result"
    }
   ],
   "source": [
    "wname = 'WMRG'\n",
    "pressure_level = 850\n",
    "\n",
    "shade_var = pr_cube.collapsed('realization', iris.analysis.PROPORTION,\n",
    "                               function=lambda values: values > thresholds['precip'])\n",
    "shade_cbar_title = f\"Probability of precipitation >= {thresholds['precip']} mm day-1\"\n",
    "\n",
    "if wname in ['Kelvin', 'WMRG']:\n",
    "    wave_files = [os.path.join(outfile_dir, f'div_wave_{wname}_{date_label}Z_{mem}.nc') for mem in mem_labels]\n",
    "    wave_files = [file for file in wave_files if os.path.exists(file)]\n",
    "    wave_variable = iris.load_cube(wave_files)\n",
    "    wave_variable = wave_variable.extract(iris.Constraint(pressure=float(pressure_level)))\n",
    "    wave_variable = wave_variable[:, -ntimes:]\n",
    "    contour_var = wave_variable.collapsed('realization', iris.analysis.PROPORTION,\n",
    "                               function=lambda values: values <= thresholds[f'{wname}_{pressure_level}'])\n",
    "    contour_cbar_title = f\"Probability of {wname} divergence <= {thresholds[f'{wname}_{pressure_level}']:0.1e} s-1\"\n",
    "elif wname in ['R1', 'R2']:\n",
    "    wave_files = [os.path.join(outfile_dir, f'vort_wave_{wname}_{date_label}Z_{mem}.nc') for mem in mem_labels]\n",
    "    wave_files = [file for file in wave_files if os.path.exists(file)]\n",
    "    \n",
    "    wave_variable = iris.load_cube(wave_files)\n",
    "    wave_variable = wave_variable.extract(iris.Constraint(pressure=float(pressure_level)))\n",
    "    wave_variable = wave_variable[:, -ntimes:]\n",
    "    contour_var = wave_variable.collapsed('realization', iris.analysis.PROPORTION,\n",
    "                               function=lambda values: values >= thresholds[f'{wname}_{pressure_level}'])\n",
    "    contour_cbar_title = f\"Probability of {wname} vorticity >= {thresholds[f'{wname}_{pressure_level}']:0.1e} s-1\"\n",
    "shade_var, shade_cbar_title, contour_cbar_title"
   ]
  },
  {
   "cell_type": "code",
   "execution_count": 17,
   "id": "a0d78463-3d31-4080-9229-349cc15356bc",
   "metadata": {},
   "outputs": [
    {
     "data": {
      "text/plain": [
       "'Probability of precipitation >= 5 mm day-1;  Probability of WMRG divergence <= -1.0e-06 s-1 \\nValid on 2024/03/24 06Z at T+6'"
      ]
     },
     "execution_count": 17,
     "metadata": {},
     "output_type": "execute_result"
    }
   ],
   "source": [
    "lead = 6\n",
    "t = df.loc[df['Lead']==lead].Index.values[0]\n",
    "date_string = df['Date'].loc[df['Lead']==lead].astype('O').tolist()[0].strftime('%Y/%m/%d %HZ')\n",
    "if int(lead) < 0:\n",
    "    figure_tite = f\"{shade_cbar_title};  {contour_cbar_title} \\nValid on {date_string} at T{lead}\"\n",
    "else:\n",
    "    figure_tite = f\"{shade_cbar_title};  {contour_cbar_title} \\nValid on {date_string} at T+{lead}\"\n",
    "figure_tite"
   ]
  },
  {
   "cell_type": "code",
   "execution_count": 18,
   "id": "2c9d1be3-5d62-471d-a826-119bdb7f8246",
   "metadata": {},
   "outputs": [
    {
     "name": "stdout",
     "output_type": "stream",
     "text": [
      "17\n"
     ]
    }
   ],
   "source": [
    "# Convert the numpy datetime64 object to a string in the desired format\n",
    "#date_string = np.datetime_as_string(filtered_date, unit='h')\n",
    "#date_string\n",
    "\n",
    "print(t)"
   ]
  },
  {
   "cell_type": "code",
   "execution_count": 37,
   "id": "1bc9d3da-bcb6-4add-8467-7b8edc5a163c",
   "metadata": {},
   "outputs": [
    {
     "data": {
      "text/html": [
       "<div style=\"display: table;\"><div style=\"display: table-row;\"><div style=\"display: table-cell;\"><b title=\"bokeh.models.sources.ColumnDataSource\">ColumnDataSource</b>(</div><div style=\"display: table-cell;\">id&nbsp;=&nbsp;'p2444', <span id=\"p2448\" style=\"cursor: pointer;\">&hellip;)</span></div></div><div class=\"p2447\" style=\"display: none;\"><div style=\"display: table-cell;\"></div><div style=\"display: table-cell;\">data&nbsp;=&nbsp;{'x': array([[  0.,   1.,   2., ..., 357., 358., 359.],\n",
       "       [  0.,   1.,   2., ..., 357., 358., 359.],\n",
       "       [  0.,   1.,   2., ..., 357., 358., 359.],\n",
       "       ...,\n",
       "       [  0.,   1.,   2., ..., 357., 358., 359.],\n",
       "       [  0.,   1.,   2., ..., 357., 358., 359.],\n",
       "       [  0.,   1.,   2., ..., 357., 358., 359.]]), 'y': array([[-24., -24., -24., ..., -24., -24., -24.],\n",
       "       [-23., -23., -23., ..., -23., -23., -23.],\n",
       "       [-22., -22., -22., ..., -22., -22., -22.],\n",
       "       ...,\n",
       "       [ 22.,  22.,  22., ...,  22.,  22.,  22.],\n",
       "       [ 23.,  23.,  23., ...,  23.,  23.,  23.],\n",
       "       [ 24.,  24.,  24., ...,  24.,  24.,  24.]]), 'shade_var': masked_array(\n",
       "  data=[[0.0, 0.0, 0.0, ..., 0.0, 0.0, 0.0],\n",
       "        [0.0, 0.0, 0.0, ..., 0.0, 0.0, 0.0],\n",
       "        [0.0, 0.0, 0.0, ..., 0.0, 0.0, 0.0],\n",
       "        ...,\n",
       "        [0.0, 0.0, 0.0, ..., 0.0, 0.0, 0.0],\n",
       "        [0.0, 0.0, 0.0, ..., 0.0, 0.0, 0.0],\n",
       "        [0.0, 0.0, 0.0, ..., 0.05555555555555555, 0.0, 0.0]],\n",
       "  mask=[[False, False, False, ..., False, False, False],\n",
       "        [False, False, False, ..., False, False, False],\n",
       "        [False, False, False, ..., False, False, False],\n",
       "        ...,\n",
       "        [False, False, False, ..., False, False, False],\n",
       "        [False, False, False, ..., False, False, False],\n",
       "        [False, False, False, ..., False, False, False]],\n",
       "  fill_value=1e+20)},</div></div><div class=\"p2447\" style=\"display: none;\"><div style=\"display: table-cell;\"></div><div style=\"display: table-cell;\">js_event_callbacks&nbsp;=&nbsp;{},</div></div><div class=\"p2447\" style=\"display: none;\"><div style=\"display: table-cell;\"></div><div style=\"display: table-cell;\">js_property_callbacks&nbsp;=&nbsp;{},</div></div><div class=\"p2447\" style=\"display: none;\"><div style=\"display: table-cell;\"></div><div style=\"display: table-cell;\">name&nbsp;=&nbsp;None,</div></div><div class=\"p2447\" style=\"display: none;\"><div style=\"display: table-cell;\"></div><div style=\"display: table-cell;\">selected&nbsp;=&nbsp;Selection(id='p2445', ...),</div></div><div class=\"p2447\" style=\"display: none;\"><div style=\"display: table-cell;\"></div><div style=\"display: table-cell;\">selection_policy&nbsp;=&nbsp;UnionRenderers(id='p2446', ...),</div></div><div class=\"p2447\" style=\"display: none;\"><div style=\"display: table-cell;\"></div><div style=\"display: table-cell;\">subscribed_events&nbsp;=&nbsp;PropertyValueSet(),</div></div><div class=\"p2447\" style=\"display: none;\"><div style=\"display: table-cell;\"></div><div style=\"display: table-cell;\">syncable&nbsp;=&nbsp;True,</div></div><div class=\"p2447\" style=\"display: none;\"><div style=\"display: table-cell;\"></div><div style=\"display: table-cell;\">tags&nbsp;=&nbsp;[])</div></div></div>\n",
       "<script>\n",
       "(function() {\n",
       "  let expanded = false;\n",
       "  const ellipsis = document.getElementById(\"p2448\");\n",
       "  ellipsis.addEventListener(\"click\", function() {\n",
       "    const rows = document.getElementsByClassName(\"p2447\");\n",
       "    for (let i = 0; i < rows.length; i++) {\n",
       "      const el = rows[i];\n",
       "      el.style.display = expanded ? \"none\" : \"table-row\";\n",
       "    }\n",
       "    ellipsis.innerHTML = expanded ? \"&hellip;)\" : \"&lsaquo;&lsaquo;&lsaquo;\";\n",
       "    expanded = !expanded;\n",
       "  });\n",
       "})();\n",
       "</script>\n"
      ],
      "text/plain": [
       "ColumnDataSource(id='p2444', ...)"
      ]
     },
     "execution_count": 37,
     "metadata": {},
     "output_type": "execute_result"
    }
   ],
   "source": [
    "source = ColumnDataSource(data=dict(\n",
    "    x=lons,\n",
    "    y=lats,\n",
    "    shade_var=shade_var,\n",
    "))\n",
    "source"
   ]
  },
  {
   "cell_type": "code",
   "execution_count": 43,
   "id": "5bf0b7d8-3981-4914-af37-016296910c2b",
   "metadata": {},
   "outputs": [],
   "source": [
    "from bokeh.palettes import Iridescent23, TolYlOrBr9, Bokeh8, Greys9, Blues9\n",
    "x_range = (0, 180)  # could be anything - e.g.(0,1)\n",
    "y_range = (-24, 24)\n",
    "\n",
    "# Plot setup\n",
    "plot_width=1100\n",
    "width = plot_width\n",
    "aspect = (max(x_range) - min(x_range)) / (max(y_range) - min(y_range))\n",
    "height = int(width / (0.6 * aspect))\n",
    "\n",
    "\n",
    "plot = figure(height=height, width=width, x_range=x_range, y_range=y_range,\n",
    "              tools=[\"pan, reset, save, wheel_zoom, hover\"], \n",
    "              x_axis_label='Longitude', y_axis_label='Latitude', aspect_scale=4, \n",
    "              title=figure_tite)\n",
    "\n",
    "# Specify the latitude and longitude range for the map\n",
    "'''\n",
    "min_lat, max_lat = -24, 24\n",
    "min_lon, max_lon = 0, 180\n",
    "\n",
    "# Convert the latitude and longitude range to Web Mercator coordinates\n",
    "min_x, min_y = lat_lon_to_web_mercator(min_lat, min_lon)\n",
    "max_x, max_y = lat_lon_to_web_mercator(max_lat, max_lon)\n",
    "\n",
    "# range bounds supplied in web mercator coordinates\n",
    "plot = figure(height=400, width=1600, x_range=(min_x, max_x), y_range=(min_y, max_y),\n",
    "              tools=[\"pan, reset, save, wheel_zoom, hover\"],\n",
    "              x_axis_label='Longitude', y_axis_label='Latitude',\n",
    "              x_axis_type=\"mercator\", y_axis_type=\"mercator\", aspect_scale=4)\n",
    "plot.add_tile(xyz.OpenStreetMap.Mapnik)\n",
    "'''\n",
    "\n",
    "plot.title.text_font_size = \"16pt\"\n",
    "\n",
    "shade_levels = np.arange(0.1, 1.1, 0.1)\n",
    "\n",
    "color_mapper_z = LinearColorMapper(palette='Iridescent23', low=shade_levels.min(), high=shade_levels.max())\n",
    "color_bar = ColorBar(color_mapper=color_mapper_z, major_label_text_font_size=\"12pt\",\n",
    "                     label_standoff=6, border_line_color=None, orientation=\"horizontal\",\n",
    "                     location=(0, 0), width=400, title=shade_cbar_title, title_text_font_size=\"14pt\")\n",
    "\n",
    "lons, lats = np.meshgrid(shade_var.coord('longitude').points, shade_var.coord('latitude').points)\n",
    "shade_var = shade_var.data[t]\n",
    "source = ColumnDataSource(data=dict(\n",
    "    x=[lons],\n",
    "    y=[lats],\n",
    "    shade_var=[shade_var],\n",
    "))\n",
    "plot.image(image=[shade_var], x=0, y=-24,\n",
    "           dw=360, dh=48, alpha=0.8,\n",
    "           color_mapper=color_mapper_z)\n",
    "# Define hover tooltips (replace 'shade_var' and 'hover_data' with your specific data and labels)\n",
    "hover = plot.select_one(HoverTool)\n",
    "\n",
    "TOOLTIPS = [\n",
    "    (\"(x,y)\", \"($x, $y)\"),\n",
    "    (\"desc\", \"@shade_var\"),\n",
    "]\n",
    "hover.tooltips = TOOLTIPS  # Example tooltip, customize as needed\n",
    "\n",
    "plot.add_layout(color_bar, 'below')\n",
    "\n",
    "\n",
    "\n",
    "\n",
    "\n",
    "\n",
    "contour_levels = np.arange(0.4, 1.2, 0.2)\n",
    "lons, lats = np.meshgrid(contour_var.coord('longitude').points, contour_var.coord('latitude').points)\n",
    "contour_renderer = plot.contour(lons, lats, contour_var.data[t], contour_levels, fill_color=None, fill_alpha=0.3, \n",
    "                                line_color=Bokeh8, line_alpha=0.5, line_width=5)\n",
    "colorbar = contour_renderer.construct_color_bar(major_label_text_font_size=\"12pt\", \n",
    "                                                orientation=\"horizontal\", location=(-500, -135), width=400,\n",
    "                                                title=contour_cbar_title, title_text_font_size=\"14pt\")\n",
    "plot.add_layout(colorbar, \"right\")\n",
    "\n",
    "with open(\"custom.geo.json\", \"r\") as f:\n",
    "    countries = GeoJSONDataSource(geojson=f.read())\n",
    "\n",
    "plot.patches(\"xs\", \"ys\", color=None, line_color=\"grey\", source=countries, alpha=0.75)\n",
    "\n",
    "show(plot)"
   ]
  },
  {
   "cell_type": "code",
   "execution_count": 32,
   "id": "71f4ac44-5ec8-4604-8ba1-c4adb84356ce",
   "metadata": {},
   "outputs": [
    {
     "data": {
      "text/plain": [
       "<cartopy.mpl.contour.GeoContourSet at 0x7febbd338520>"
      ]
     },
     "execution_count": 32,
     "metadata": {},
     "output_type": "execute_result"
    }
   ],
   "source": []
  },
  {
   "cell_type": "code",
   "execution_count": 17,
   "id": "f69391cd-a373-40ef-b4b1-779d64ef5579",
   "metadata": {},
   "outputs": [],
   "source": [
    "ens_mean = kelvin_div_cubes.collapsed('realization', iris.analysis.MEAN)"
   ]
  },
  {
   "cell_type": "code",
   "execution_count": 40,
   "id": "0aa1692c-a2ab-4260-b696-f9cc9e3cd783",
   "metadata": {},
   "outputs": [],
   "source": [
    "\n",
    "#precip_prob"
   ]
  },
  {
   "cell_type": "code",
   "execution_count": 30,
   "id": "10767380-3ee7-4db1-b017-d22dacab3040",
   "metadata": {},
   "outputs": [],
   "source": [
    "from bokeh.models import ColumnDataSource, GMapOptions\n",
    "from bokeh.plotting import gmap, show\n",
    "\n",
    "map_options = GMapOptions(lat=0., lng=100.7394, map_type=\"roadmap\", zoom=2)\n",
    "\n",
    "# For GMaps to function, Google requires you obtain and enable an API key:\n",
    "#\n",
    "#     https://developers.google.com/maps/documentation/javascript/get-api-key\n",
    "#\n",
    "# Replace the value below with your personal API key:\n",
    "p = gmap(\"GOOGLE_API_KEY\", map_options, title=\"Austin\")\n",
    "\n",
    "source = ColumnDataSource(\n",
    "    data=dict(lat=[ 30.29,  30.20,  30.29],\n",
    "              lon=[-97.70, -97.74, -97.78]),\n",
    ")\n",
    "\n",
    "p.scatter(x=\"lon\", y=\"lat\", size=15, fill_color=\"blue\", fill_alpha=0.8, source=source)\n",
    "\n",
    "show(p)"
   ]
  },
  {
   "cell_type": "code",
   "execution_count": 56,
   "id": "34e0bd67-5eb5-482d-8d9d-454bc9c7de45",
   "metadata": {},
   "outputs": [
    {
     "data": {
      "text/plain": [
       "<cartopy.mpl.contour.GeoContourSet at 0x7f4860fd7b50>"
      ]
     },
     "execution_count": 56,
     "metadata": {},
     "output_type": "execute_result"
    }
   ],
   "source": [
    "qplt.contourf(kelvin_div_cubes[:,t, 0].collapsed('realization', iris.analysis.PROPORTION,\n",
    "                               function=lambda values: values < -2*1e-6))"
   ]
  },
  {
   "cell_type": "code",
   "execution_count": 75,
   "id": "c64d8cc6-a920-4ee6-acb3-1ae7978b1bd9",
   "metadata": {},
   "outputs": [
    {
     "data": {
      "text/plain": [
       "((360, 49, 360), (49, 360))"
      ]
     },
     "execution_count": 75,
     "metadata": {},
     "output_type": "execute_result"
    }
   ],
   "source": [
    "lons, lats = np.meshgrid(precip_prob.coord('longitude').points, precip_prob.coord('latitude').points)\n",
    "precip_prob.shape, lats.shape"
   ]
  },
  {
   "cell_type": "code",
   "execution_count": null,
   "id": "7a0c1d06-c506-4ffd-a69f-77440db38603",
   "metadata": {},
   "outputs": [],
   "source": [
    "import tqdm"
   ]
  },
  {
   "cell_type": "code",
   "execution_count": 234,
   "id": "afc8ec8f-7f41-40da-9c98-6de486b6fb97",
   "metadata": {},
   "outputs": [],
   "source": []
  },
  {
   "cell_type": "code",
   "execution_count": 175,
   "id": "a986772a-de4a-48ce-962c-0357f80f4ae7",
   "metadata": {},
   "outputs": [
    {
     "name": "stdout",
     "output_type": "stream",
     "text": [
      "Web Mercator X: -111319.49079326664, Web Mercator Y: 0.0\n"
     ]
    }
   ],
   "source": []
  },
  {
   "cell_type": "code",
   "execution_count": 184,
   "id": "50fad4f5-e7b6-48d2-820d-51325e6a371a",
   "metadata": {},
   "outputs": [],
   "source": []
  },
  {
   "cell_type": "code",
   "execution_count": 141,
   "id": "a8803162-a614-4c65-86f3-3d63cd42634c",
   "metadata": {},
   "outputs": [],
   "source": []
  },
  {
   "cell_type": "code",
   "execution_count": 139,
   "id": "227b58a7-eea1-427b-9048-f8c3844ab23b",
   "metadata": {},
   "outputs": [
    {
     "data": {
      "text/plain": [
       "{'type': 'Polygon',\n",
       " 'coordinates': [[[61.210817, 35.650072],\n",
       "   [62.230651, 35.270664],\n",
       "   [62.984662, 35.404041],\n",
       "   [63.193538, 35.857166],\n",
       "   [63.982896, 36.007957],\n",
       "   [64.546479, 36.312073],\n",
       "   [64.746105, 37.111818],\n",
       "   [65.588948, 37.305217],\n",
       "   [65.745631, 37.661164],\n",
       "   [66.217385, 37.39379],\n",
       "   [66.518607, 37.362784],\n",
       "   [67.075782, 37.356144],\n",
       "   [67.83, 37.144994],\n",
       "   [68.135562, 37.023115],\n",
       "   [68.859446, 37.344336],\n",
       "   [69.196273, 37.151144],\n",
       "   [69.518785, 37.608997],\n",
       "   [70.116578, 37.588223],\n",
       "   [70.270574, 37.735165],\n",
       "   [70.376304, 38.138396],\n",
       "   [70.806821, 38.486282],\n",
       "   [71.348131, 38.258905],\n",
       "   [71.239404, 37.953265],\n",
       "   [71.541918, 37.905774],\n",
       "   [71.448693, 37.065645],\n",
       "   [71.844638, 36.738171],\n",
       "   [72.193041, 36.948288],\n",
       "   [72.63689, 37.047558],\n",
       "   [73.260056, 37.495257],\n",
       "   [73.948696, 37.421566],\n",
       "   [74.980002, 37.41999],\n",
       "   [75.158028, 37.133031],\n",
       "   [74.575893, 37.020841],\n",
       "   [74.067552, 36.836176],\n",
       "   [72.920025, 36.720007],\n",
       "   [71.846292, 36.509942],\n",
       "   [71.262348, 36.074388],\n",
       "   [71.498768, 35.650563],\n",
       "   [71.613076, 35.153203],\n",
       "   [71.115019, 34.733126],\n",
       "   [71.156773, 34.348911],\n",
       "   [70.881803, 33.988856],\n",
       "   [69.930543, 34.02012],\n",
       "   [70.323594, 33.358533],\n",
       "   [69.687147, 33.105499],\n",
       "   [69.262522, 32.501944],\n",
       "   [69.317764, 31.901412],\n",
       "   [68.926677, 31.620189],\n",
       "   [68.556932, 31.71331],\n",
       "   [67.792689, 31.58293],\n",
       "   [67.683394, 31.303154],\n",
       "   [66.938891, 31.304911],\n",
       "   [66.381458, 30.738899],\n",
       "   [66.346473, 29.887943],\n",
       "   [65.046862, 29.472181],\n",
       "   [64.350419, 29.560031],\n",
       "   [64.148002, 29.340819],\n",
       "   [63.550261, 29.468331],\n",
       "   [62.549857, 29.318572],\n",
       "   [60.874248, 29.829239],\n",
       "   [61.781222, 30.73585],\n",
       "   [61.699314, 31.379506],\n",
       "   [60.941945, 31.548075],\n",
       "   [60.863655, 32.18292],\n",
       "   [60.536078, 32.981269],\n",
       "   [60.9637, 33.528832],\n",
       "   [60.52843, 33.676446],\n",
       "   [60.803193, 34.404102],\n",
       "   [61.210817, 35.650072]]]}"
      ]
     },
     "execution_count": 139,
     "metadata": {},
     "output_type": "execute_result"
    }
   ],
   "source": [
    "countries_data['features'][0]['geometry'][]"
   ]
  },
  {
   "cell_type": "code",
   "execution_count": null,
   "id": "eda3ae68-eccb-4c4d-9289-21852d47547a",
   "metadata": {},
   "outputs": [],
   "source": []
  }
 ],
 "metadata": {
  "kernelspec": {
   "display_name": "Python 3 (ipykernel)",
   "language": "python",
   "name": "python3"
  },
  "language_info": {
   "codemirror_mode": {
    "name": "ipython",
    "version": 3
   },
   "file_extension": ".py",
   "mimetype": "text/x-python",
   "name": "python",
   "nbconvert_exporter": "python",
   "pygments_lexer": "ipython3",
   "version": "3.10.13"
  }
 },
 "nbformat": 4,
 "nbformat_minor": 5
}
