{
 "cells": [
  {
   "cell_type": "code",
   "execution_count": 58,
   "id": "88196339-be6d-45f5-b675-3fb7856e33dc",
   "metadata": {},
   "outputs": [],
   "source": [
    "import os\n",
    "import numpy as np\n",
    "import matplotlib as mpl\n",
    "import matplotlib.pyplot as plt\n",
    "from matplotlib.colors import BoundaryNorm\n",
    "import matplotlib.patches as mpatches\n",
    "import seaborn as sns\n",
    "import iris\n",
    "import iris.quickplot as qplt\n",
    "import iris.plot as iplt\n",
    "import cartopy.crs as ccrs\n",
    "%matplotlib tk"
   ]
  },
  {
   "cell_type": "code",
   "execution_count": 59,
   "id": "10d532d9-87fa-4e49-83b9-1e9641ad98ba",
   "metadata": {},
   "outputs": [],
   "source": [
    "paper_data_folder = '/project/MJO_GCSS/SoutheastAsia_data/ISV_paper_data'\n",
    "paper_plot_folder = './'"
   ]
  },
  {
   "cell_type": "code",
   "execution_count": 60,
   "id": "f5545360-3e61-42a9-b57c-31a0f57e260c",
   "metadata": {},
   "outputs": [
    {
     "data": {
      "text/plain": [
       "(-4.0, 4.0)"
      ]
     },
     "execution_count": 60,
     "metadata": {},
     "output_type": "execute_result"
    }
   ],
   "source": [
    "# Create 3x3 subplots\n",
    "x = 4\n",
    "y = 0.707107\n",
    "linewidth = 0.25\n",
    "fig = plt.figure()\n",
    "ax = fig.add_subplot(111, aspect='equal', facecolor='lightgrey')\n",
    "plt.plot(np.arange(10, 11))\n",
    "plt.plot([-x, -y], [-x, -y], 'k', lw=linewidth)\n",
    "plt.plot([y, x], [y, x], 'k', lw=linewidth)\n",
    "plt.plot([-x, -y], [x, y], 'k', lw=linewidth)\n",
    "plt.plot([y, x], [-y, -x], 'k', lw=linewidth)\n",
    "plt.plot([-x, -1], [0, 0], 'k', lw=linewidth)\n",
    "plt.plot([1, x], [0, 0], 'k', lw=linewidth)\n",
    "plt.plot([0, 0], [-x, -1], 'k', lw=linewidth)\n",
    "plt.plot([0, 0], [1, x], 'k', lw=linewidth)\n",
    "\n",
    "c = mpatches.Circle((0, 0), 1, fc=\"lightgrey\", ec=\"k\", lw=linewidth)\n",
    "ax.add_patch(c)\n",
    "\n",
    "plt.text(-3.75, -2, 'Phase 1', va='center', rotation=90, fontsize='smaller')\n",
    "plt.text(-2, -3.75, 'Phase 2', ha='center', fontsize='smaller')\n",
    "plt.text(2, -3.75, 'Phase 3', ha='center', fontsize='smaller')\n",
    "plt.text(3.75, -2, 'Phase 4', ha='center', va='center', rotation=90, fontsize='smaller')\n",
    "plt.text(3.75, 2, 'Phase 5', ha='center', va='center', rotation=90, fontsize='smaller')\n",
    "plt.text(2, 3.75, 'Phase 6', ha='center', va='center', fontsize='smaller')\n",
    "plt.text(-2, 3.75, 'Phase 7', ha='center', va='center', fontsize='smaller')\n",
    "plt.text(-3.75, 2, 'Phase 8', va='center', rotation=90, fontsize='smaller')\n",
    "\n",
    "plt.text(-4.75, 0, 'Western Hem, Africa', va='center', rotation=90)\n",
    "plt.text(0, -4.75, 'Indian Ocean', ha='center', rotation=0)\n",
    "plt.text(4.5, 0, 'Maritime continent', ha='center', va='center', rotation=90)\n",
    "plt.text(0, 4.5, 'Western Pacific', va='center', ha='center', rotation=0)\n",
    "\n",
    "plt.ylim(-x, x)\n",
    "plt.xlim(-x, x)"
   ]
  },
  {
   "cell_type": "code",
   "execution_count": 84,
   "id": "6f2ca3b3-5d4b-4129-97f6-dbe22de9734a",
   "metadata": {},
   "outputs": [
    {
     "data": {
      "text/plain": [
       "Bbox([[0.12573529411764706, 0.6535294117647059], [0.35220588235294115, 0.88]])"
      ]
     },
     "execution_count": 84,
     "metadata": {},
     "output_type": "execute_result"
    }
   ],
   "source": [
    "fig, axes = plt.subplots(3, 3, figsize=(10, 10), subplot_kw={'projection': ccrs.PlateCarree()})\n",
    "axes[0, 0].get_position()"
   ]
  },
  {
   "cell_type": "code",
   "execution_count": 133,
   "id": "2568a319-a8aa-4b3c-823b-f513bfb5cb5f",
   "metadata": {},
   "outputs": [
    {
     "data": {
      "text/plain": [
       "{1: [0.1, 0.1, 0.2, 0.15], 2: [0.1, 0.1, 0.2, 0.15]}"
      ]
     },
     "execution_count": 133,
     "metadata": {},
     "output_type": "execute_result"
    }
   ],
   "source": [
    "positions_dict = {1:[0.1, 0.1, 0.2, 0.15], 2:[0.1, 0.1, 0.2, 0.15]}\n",
    "positions_dict"
   ]
  },
  {
   "cell_type": "code",
   "execution_count": 131,
   "id": "c3e87f63-d379-4779-9c1b-3ea120a97024",
   "metadata": {},
   "outputs": [],
   "source": [
    "phase = 1\n",
    "file_name = os.path.join('/project/MJO_GCSS/SoutheastAsia_data/GPM/data_for_composites', f'pr_data_phase{phase}_anomaly.nc')\n",
    "phase_cube = iris.load_cube(file_name)"
   ]
  },
  {
   "cell_type": "code",
   "execution_count": 145,
   "id": "00b75215-b0c3-4d5f-abdb-75a0392d2fed",
   "metadata": {},
   "outputs": [],
   "source": [
    "fig = plt.figure(figsize=(10, 10))\n",
    "ax = fig.add_subplot(111, aspect='equal')#, facecolor='lightgrey')\n",
    "#plt.plot(np.arange(10, 11))\n",
    "plt.plot([-x, -y], [-x, -y], 'k', lw=linewidth)\n",
    "plt.plot([y, x], [y, x], 'k', lw=linewidth)\n",
    "plt.plot([-x, -y], [x, y], 'k', lw=linewidth)\n",
    "plt.plot([y, x], [-y, -x], 'k', lw=linewidth)\n",
    "plt.plot([-x, -1], [0, 0], 'k', lw=linewidth)\n",
    "plt.plot([1, x], [0, 0], 'k', lw=linewidth)\n",
    "plt.plot([0, 0], [-x, -1], 'k', lw=linewidth)\n",
    "plt.plot([0, 0], [1, x], 'k', lw=linewidth)\n",
    "\n",
    "c = mpatches.Circle((0, 0), 1, fc=\"lightgrey\", ec=\"k\", lw=linewidth)\n",
    "ax.add_patch(c)\n",
    "\n",
    "ax1 = fig.add_subplot(3,3,phase)\n",
    "# Set the position for the first subplot (ax)\n",
    "ax1.set_position([0.15, 0.222, 0.2, 0.15])\n",
    "ax1.plot(range(10))\n",
    "\n",
    "\n",
    "\n",
    "\n",
    "# Create a new subplot (ax2)\n",
    "#ax2 = fig.add_subplot(111, aspect='equal')\n",
    "\n",
    "# Set the position for the second subplot (ax2)\n",
    "#ax2.set_position([0.1, 0.5, 0.2, 0.4])\n",
    "#ax2.plot(range(10))\n",
    "\n",
    "plt.tight_layout()\n",
    "plt.show()"
   ]
  },
  {
   "cell_type": "code",
   "execution_count": 104,
   "id": "de4054da-ba96-46ef-9206-2b6bb154507c",
   "metadata": {},
   "outputs": [
    {
     "data": {
      "text/plain": [
       "[<matplotlib.lines.Line2D at 0x7efff4325ab0>]"
      ]
     },
     "execution_count": 104,
     "metadata": {},
     "output_type": "execute_result"
    }
   ],
   "source": []
  },
  {
   "cell_type": "code",
   "execution_count": 152,
   "id": "117ee07c-92f8-4c7a-951c-4f0e1db5260c",
   "metadata": {},
   "outputs": [
    {
     "name": "stderr",
     "output_type": "stream",
     "text": [
      "/var/tmp/ipykernel_100961/3983627628.py:38: UserWarning: This figure includes Axes that are not compatible with tight_layout, so results might be incorrect.\n",
      "  plt.tight_layout()\n"
     ]
    }
   ],
   "source": [
    "fig = plt.figure(figsize=(10, 10))\n",
    "x = 4\n",
    "y = 0.707107\n",
    "linewidth = 0.25\n",
    "\n",
    "# Original figure\n",
    "ax = fig.add_subplot(111, aspect='equal')\n",
    "ax.plot([-x, -y], [-x, -y], 'k', lw=linewidth)\n",
    "ax.plot([y, x], [y, x], 'k', lw=linewidth)\n",
    "ax.plot([-x, -y], [x, y], 'k', lw=linewidth)\n",
    "ax.plot([y, x], [-y, -x], 'k', lw=linewidth)\n",
    "ax.plot([-x, -1], [0, 0], 'k', lw=linewidth)\n",
    "ax.plot([1, x], [0, 0], 'k', lw=linewidth)\n",
    "ax.plot([0, 0], [-x, -1], 'k', lw=linewidth)\n",
    "ax.plot([0, 0], [1, x], 'k', lw=linewidth)\n",
    "\n",
    "circle = mpatches.Circle((0, 0), 1, fc=\"lightgrey\", ec=\"k\", lw=linewidth)\n",
    "ax.add_patch(circle)\n",
    "\n",
    "# Custom positions for subpanels\n",
    "positions = [\n",
    "    [0.1, 0.3, 0.2, 0.2],  # Subpanel 1\n",
    "    [0.4, 0.1, 0.2, 0.2],  # Subpanel 2\n",
    "    [0.7, 0.1, 0.2, 0.2],  # Subpanel 3\n",
    "    [0.1, 0.4, 0.2, 0.2],  # Subpanel 4\n",
    "    [0.4, 0.4, 0.2, 0.2],  # Subpanel 5\n",
    "    [0.7, 0.4, 0.2, 0.2],  # Subpanel 6\n",
    "    [0.1, 0.7, 0.2, 0.2],  # Subpanel 7\n",
    "    [0.4, 0.7, 0.2, 0.2]   # Subpanel 8\n",
    "]\n",
    "\n",
    "# Draw subpanels on top of the original figure\n",
    "for i, position in enumerate(positions):\n",
    "    subax = fig.add_axes(position)\n",
    "    subax.plot(range(10))\n",
    "    subax.set_title(f'Subpanel {i+1}')\n",
    "\n",
    "plt.tight_layout()\n",
    "plt.show()"
   ]
  },
  {
   "cell_type": "code",
   "execution_count": 33,
   "id": "d21d8050-f014-4b85-abbc-4af8912e1119",
   "metadata": {},
   "outputs": [
    {
     "ename": "IndexError",
     "evalue": "index 3 is out of bounds for axis 0 with size 3",
     "output_type": "error",
     "traceback": [
      "\u001b[0;31m---------------------------------------------------------------------------\u001b[0m",
      "\u001b[0;31mIndexError\u001b[0m                                Traceback (most recent call last)",
      "Cell \u001b[0;32mIn[33], line 1\u001b[0m\n\u001b[0;32m----> 1\u001b[0m \u001b[43maxes\u001b[49m\u001b[43m[\u001b[49m\u001b[43m(\u001b[49m\u001b[38;5;241;43m3\u001b[39;49m\u001b[43m,\u001b[49m\u001b[38;5;241;43m1\u001b[39;49m\u001b[43m)\u001b[49m\u001b[43m]\u001b[49m\n",
      "\u001b[0;31mIndexError\u001b[0m: index 3 is out of bounds for axis 0 with size 3"
     ]
    }
   ],
   "source": [
    "axes[(3,1)]"
   ]
  },
  {
   "cell_type": "code",
   "execution_count": 21,
   "id": "66b98a42-756e-41f8-8a10-9211ad3f763d",
   "metadata": {},
   "outputs": [],
   "source": [
    "# Create 3x3 subplots\n",
    "fig, axes = plt.subplots(3, 3, figsize=(10, 10))\n",
    "\n",
    "# Plot something on each subplot (replace this with your actual data)\n",
    "for i in range(3):\n",
    "    for j in range(3):\n",
    "        x = np.linspace(0, 2 * np.pi, 100)\n",
    "        y = np.sin((i + 1) * x) * np.cos((j + 1) * x)\n",
    "        axes[i, j].plot(x, y)\n",
    "        axes[i, j].set_title(f'Subplot ({i+1}, {j+1})')\n",
    "\n",
    "# Adjust layout\n",
    "plt.tight_layout()\n",
    "\n",
    "# Show the plot\n",
    "plt.show()"
   ]
  },
  {
   "cell_type": "code",
   "execution_count": null,
   "id": "a51519e5-b2a5-4529-bdcc-b06d0f4c82b8",
   "metadata": {},
   "outputs": [],
   "source": []
  }
 ],
 "metadata": {
  "kernelspec": {
   "display_name": "Python 3 (ipykernel)",
   "language": "python",
   "name": "python3"
  },
  "language_info": {
   "codemirror_mode": {
    "name": "ipython",
    "version": 3
   },
   "file_extension": ".py",
   "mimetype": "text/x-python",
   "name": "python",
   "nbconvert_exporter": "python",
   "pygments_lexer": "ipython3",
   "version": "3.10.12"
  }
 },
 "nbformat": 4,
 "nbformat_minor": 5
}
