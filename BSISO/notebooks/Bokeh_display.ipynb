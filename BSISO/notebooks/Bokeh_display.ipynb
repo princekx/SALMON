{
 "cells": [
  {
   "cell_type": "code",
   "execution_count": 77,
   "id": "a129ef24-e0ec-4720-98b7-14c4535384cc",
   "metadata": {},
   "outputs": [],
   "source": [
    "import numpy as np\n",
    "import glob, os, sys\n",
    "import copy\n",
    "import pandas as pd\n",
    "import datetime\n",
    "from bokeh.plotting import figure, output_file, show\n",
    "from bokeh.models import ColumnDataSource, HoverTool, Select, Div\n",
    "from bokeh.models import LabelSet\n",
    "from bokeh.models.glyphs import MultiLine, Text\n",
    "from bokeh.plotting import figure, output_file, show, output_notebook\n",
    "from PIL import Image"
   ]
  },
  {
   "cell_type": "code",
   "execution_count": 133,
   "id": "e252aa95-b103-4d50-99cc-bbe86290893e",
   "metadata": {},
   "outputs": [],
   "source": [
    "def make_combined_df(date, members):\n",
    "    date_label = date.strftime(\"%Y%m%d\")\n",
    "    bsiso_archive_dir = os.path.join('/project/MJO_GCSS/SEA_monitoring/processed_BSISO_data/glosea/bsiso_new/',\n",
    "                                     f'{date_label}')\n",
    "    dfs = []\n",
    "    for m, mem in enumerate(members):\n",
    "        bsiso_index_file_name = os.path.join(bsiso_archive_dir,\n",
    "                                             f'BSISO.{date_label}.fcast.{mem}.txt')\n",
    "        # Concatenate all DataFrames in the list along rows\n",
    "        pcs = pd.read_csv(bsiso_index_file_name)\n",
    "        # Append the computed PCs for the current member to the list\n",
    "        dfs.append(pcs)\n",
    "\n",
    "    combined_df = pd.concat(dfs, ignore_index=True)\n",
    "    return combined_df\n",
    "    \n",
    "def make_ens_mean_df(combined_df):\n",
    "    ens_mean_df = combined_df.groupby('date', as_index=False)[['PC1', '8_phases', 'PC2', 'amp']].mean()\n",
    "    return ens_mean_df"
   ]
  },
  {
   "cell_type": "code",
   "execution_count": 141,
   "id": "862e1c1d-a163-41c8-bc4a-ed19c18c2e37",
   "metadata": {},
   "outputs": [
    {
     "data": {
      "text/plain": [
       "70"
      ]
     },
     "execution_count": 141,
     "metadata": {},
     "output_type": "execute_result"
    }
   ],
   "source": [
    "date = datetime.datetime(2024, 5, 14)\n",
    "nanalysis2write = 40\n",
    "nforecasts = 30\n",
    "members = [str('%03d' % mem) for mem in range(4)]\n",
    "combined_df = make_combined_df(date, members)\n",
    "ens_mean_df = make_ens_mean_df(combined_df)\n",
    "#ens_mean_df.loc[ens_mean_df.date.todatetime() < date]\n",
    "len(ens_mean_df)"
   ]
  },
  {
   "cell_type": "code",
   "execution_count": 142,
   "id": "91be1154-4020-4ecc-8794-4ed0a98caa3e",
   "metadata": {},
   "outputs": [],
   "source": [
    "im = Image.open('../data/BSISO_Phases_BG.png')\n",
    "\n",
    "imarray = np.array(im.convert(\"RGBA\"))\n",
    "imarray = imarray[::-1]\n",
    "\n",
    "hover = HoverTool(tooltips=[\n",
    "    (\"Date\", \"@date\"),\n",
    "    (\"PC1\", \"@PC1\"),\n",
    "    (\"PC2\", \"@PC2\"),\n",
    "    (\"Phase\", \"@8_phases\"),\n",
    "    (\"Amp\", \"@amp\"),\n",
    "    (\"Label\", \"@label\"),\n",
    "    (\"Member\", \"@member\")\n",
    "], mode='mouse')\n",
    "\n",
    "p = figure(width=500, height=500, x_range=[-4, 4], y_range=[-4, 4], tools=[\"pan, reset, save, wheel_zoom, box_zoom\", hover])\n",
    "p.image_rgba(image=[imarray.view(\"uint32\").reshape(imarray.shape[:2])], x=-4.275, y=-4.275, dw=8.525, dh=8.52, alpha=0.8)\n",
    "\n",
    "for mem in members:\n",
    "    df = combined_df.loc[combined_df.mem==int(mem)][-(nforecasts):]\n",
    "    p.line('PC1', 'PC2', alpha=0.3, source=df)\n",
    "\n",
    "p.line('PC1', 'PC2', alpha=0.8, color='grey',line_width=3, source=ens_mean_df[-(nforecasts+5):-(nforecasts)])\n",
    "p.circle('PC1', 'PC2', alpha=0.8, color='grey',line_width=3, source=ens_mean_df[-(nforecasts+5):-(nforecasts)])\n",
    "p.line('PC1', 'PC2', alpha=0.8, line_width=3, source=ens_mean_df[-(nforecasts):])\n",
    "p.circle('PC1', 'PC2', radius=0.05, alpha=0.8, source=ens_mean_df[-(nforecasts):])\n",
    "show(p)"
   ]
  },
  {
   "cell_type": "code",
   "execution_count": 71,
   "id": "e4947200-bd4a-4ec9-9aed-59c28a80f676",
   "metadata": {},
   "outputs": [
    {
     "data": {
      "text/plain": [
       "8.55"
      ]
     },
     "execution_count": 71,
     "metadata": {},
     "output_type": "execute_result"
    }
   ],
   "source": [
    "4.275*2"
   ]
  },
  {
   "cell_type": "code",
   "execution_count": 19,
   "id": "5ef8ddc9-a22b-4873-b91f-c135a03d2727",
   "metadata": {},
   "outputs": [],
   "source": [
    "imarray = np.array(im.convert(\"RGBA\"))\n",
    "imarray = imarray[::-1, ::-1]"
   ]
  },
  {
   "cell_type": "code",
   "execution_count": 7,
   "id": "a1ed168b-b7f5-4e15-9016-c371083ae1db",
   "metadata": {},
   "outputs": [],
   "source": [
    "rmms_archive_dir = '/project/MJO_GCSS/MJO_monitoring/processed_MJO_data/mogreps/rmms_new/20240109'"
   ]
  },
  {
   "cell_type": "code",
   "execution_count": 8,
   "id": "4e4d599d-6360-4396-ad88-ac5332b173f2",
   "metadata": {},
   "outputs": [],
   "source": [
    "date = datetime.datetime(2024, 1, 9)\n",
    "# All ensemble members\n",
    "members = [str('%03d' % mem) for mem in range(36)]"
   ]
  },
  {
   "cell_type": "code",
   "execution_count": 9,
   "id": "076f73a1-40b2-47d2-b241-9ca450a0c940",
   "metadata": {},
   "outputs": [],
   "source": [
    "rmm_file_names = [os.path.join(rmms_archive_dir, f'createdPCs.15sn.{date.strftime(\"%Y%m%d\")}.fcast.{mem}.txt') for mem in members]"
   ]
  },
  {
   "cell_type": "code",
   "execution_count": 10,
   "id": "e76e1439-1298-4e53-873c-654e273474f7",
   "metadata": {},
   "outputs": [
    {
     "ename": "FileNotFoundError",
     "evalue": "[Errno 2] No such file or directory: '/project/MJO_GCSS/MJO_monitoring/processed_MJO_data/mogreps/rmms_new/20240109/createdPCs.15sn.20240109.fcast.000.txt'",
     "output_type": "error",
     "traceback": [
      "\u001b[0;31m---------------------------------------------------------------------------\u001b[0m",
      "\u001b[0;31mFileNotFoundError\u001b[0m                         Traceback (most recent call last)",
      "Cell \u001b[0;32mIn[10], line 1\u001b[0m\n\u001b[0;32m----> 1\u001b[0m df \u001b[38;5;241m=\u001b[39m \u001b[43mpd\u001b[49m\u001b[38;5;241;43m.\u001b[39;49m\u001b[43mread_csv\u001b[49m\u001b[43m(\u001b[49m\u001b[43mrmm_file_names\u001b[49m\u001b[43m[\u001b[49m\u001b[38;5;241;43m0\u001b[39;49m\u001b[43m]\u001b[49m\u001b[43m)\u001b[49m\n\u001b[1;32m      2\u001b[0m df[\u001b[38;5;124m'\u001b[39m\u001b[38;5;124mdate\u001b[39m\u001b[38;5;124m'\u001b[39m] \u001b[38;5;241m=\u001b[39m pd\u001b[38;5;241m.\u001b[39mto_datetime(df[[\u001b[38;5;124m'\u001b[39m\u001b[38;5;124myear\u001b[39m\u001b[38;5;124m'\u001b[39m, \u001b[38;5;124m'\u001b[39m\u001b[38;5;124mmonth\u001b[39m\u001b[38;5;124m'\u001b[39m, \u001b[38;5;124m'\u001b[39m\u001b[38;5;124mday\u001b[39m\u001b[38;5;124m'\u001b[39m]])\u001b[38;5;241m.\u001b[39mdt\u001b[38;5;241m.\u001b[39mstrftime(\u001b[38;5;124m'\u001b[39m\u001b[38;5;124m%\u001b[39m\u001b[38;5;124mY-\u001b[39m\u001b[38;5;124m%\u001b[39m\u001b[38;5;124mm-\u001b[39m\u001b[38;5;132;01m%d\u001b[39;00m\u001b[38;5;124m'\u001b[39m)\n",
      "File \u001b[0;32m/opt/scitools/conda/deployments/default-2023_11_28/lib/python3.10/site-packages/pandas/io/parsers/readers.py:948\u001b[0m, in \u001b[0;36mread_csv\u001b[0;34m(filepath_or_buffer, sep, delimiter, header, names, index_col, usecols, dtype, engine, converters, true_values, false_values, skipinitialspace, skiprows, skipfooter, nrows, na_values, keep_default_na, na_filter, verbose, skip_blank_lines, parse_dates, infer_datetime_format, keep_date_col, date_parser, date_format, dayfirst, cache_dates, iterator, chunksize, compression, thousands, decimal, lineterminator, quotechar, quoting, doublequote, escapechar, comment, encoding, encoding_errors, dialect, on_bad_lines, delim_whitespace, low_memory, memory_map, float_precision, storage_options, dtype_backend)\u001b[0m\n\u001b[1;32m    935\u001b[0m kwds_defaults \u001b[38;5;241m=\u001b[39m _refine_defaults_read(\n\u001b[1;32m    936\u001b[0m     dialect,\n\u001b[1;32m    937\u001b[0m     delimiter,\n\u001b[0;32m   (...)\u001b[0m\n\u001b[1;32m    944\u001b[0m     dtype_backend\u001b[38;5;241m=\u001b[39mdtype_backend,\n\u001b[1;32m    945\u001b[0m )\n\u001b[1;32m    946\u001b[0m kwds\u001b[38;5;241m.\u001b[39mupdate(kwds_defaults)\n\u001b[0;32m--> 948\u001b[0m \u001b[38;5;28;01mreturn\u001b[39;00m \u001b[43m_read\u001b[49m\u001b[43m(\u001b[49m\u001b[43mfilepath_or_buffer\u001b[49m\u001b[43m,\u001b[49m\u001b[43m \u001b[49m\u001b[43mkwds\u001b[49m\u001b[43m)\u001b[49m\n",
      "File \u001b[0;32m/opt/scitools/conda/deployments/default-2023_11_28/lib/python3.10/site-packages/pandas/io/parsers/readers.py:611\u001b[0m, in \u001b[0;36m_read\u001b[0;34m(filepath_or_buffer, kwds)\u001b[0m\n\u001b[1;32m    608\u001b[0m _validate_names(kwds\u001b[38;5;241m.\u001b[39mget(\u001b[38;5;124m\"\u001b[39m\u001b[38;5;124mnames\u001b[39m\u001b[38;5;124m\"\u001b[39m, \u001b[38;5;28;01mNone\u001b[39;00m))\n\u001b[1;32m    610\u001b[0m \u001b[38;5;66;03m# Create the parser.\u001b[39;00m\n\u001b[0;32m--> 611\u001b[0m parser \u001b[38;5;241m=\u001b[39m \u001b[43mTextFileReader\u001b[49m\u001b[43m(\u001b[49m\u001b[43mfilepath_or_buffer\u001b[49m\u001b[43m,\u001b[49m\u001b[43m \u001b[49m\u001b[38;5;241;43m*\u001b[39;49m\u001b[38;5;241;43m*\u001b[39;49m\u001b[43mkwds\u001b[49m\u001b[43m)\u001b[49m\n\u001b[1;32m    613\u001b[0m \u001b[38;5;28;01mif\u001b[39;00m chunksize \u001b[38;5;129;01mor\u001b[39;00m iterator:\n\u001b[1;32m    614\u001b[0m     \u001b[38;5;28;01mreturn\u001b[39;00m parser\n",
      "File \u001b[0;32m/opt/scitools/conda/deployments/default-2023_11_28/lib/python3.10/site-packages/pandas/io/parsers/readers.py:1448\u001b[0m, in \u001b[0;36mTextFileReader.__init__\u001b[0;34m(self, f, engine, **kwds)\u001b[0m\n\u001b[1;32m   1445\u001b[0m     \u001b[38;5;28mself\u001b[39m\u001b[38;5;241m.\u001b[39moptions[\u001b[38;5;124m\"\u001b[39m\u001b[38;5;124mhas_index_names\u001b[39m\u001b[38;5;124m\"\u001b[39m] \u001b[38;5;241m=\u001b[39m kwds[\u001b[38;5;124m\"\u001b[39m\u001b[38;5;124mhas_index_names\u001b[39m\u001b[38;5;124m\"\u001b[39m]\n\u001b[1;32m   1447\u001b[0m \u001b[38;5;28mself\u001b[39m\u001b[38;5;241m.\u001b[39mhandles: IOHandles \u001b[38;5;241m|\u001b[39m \u001b[38;5;28;01mNone\u001b[39;00m \u001b[38;5;241m=\u001b[39m \u001b[38;5;28;01mNone\u001b[39;00m\n\u001b[0;32m-> 1448\u001b[0m \u001b[38;5;28mself\u001b[39m\u001b[38;5;241m.\u001b[39m_engine \u001b[38;5;241m=\u001b[39m \u001b[38;5;28;43mself\u001b[39;49m\u001b[38;5;241;43m.\u001b[39;49m\u001b[43m_make_engine\u001b[49m\u001b[43m(\u001b[49m\u001b[43mf\u001b[49m\u001b[43m,\u001b[49m\u001b[43m \u001b[49m\u001b[38;5;28;43mself\u001b[39;49m\u001b[38;5;241;43m.\u001b[39;49m\u001b[43mengine\u001b[49m\u001b[43m)\u001b[49m\n",
      "File \u001b[0;32m/opt/scitools/conda/deployments/default-2023_11_28/lib/python3.10/site-packages/pandas/io/parsers/readers.py:1705\u001b[0m, in \u001b[0;36mTextFileReader._make_engine\u001b[0;34m(self, f, engine)\u001b[0m\n\u001b[1;32m   1703\u001b[0m     \u001b[38;5;28;01mif\u001b[39;00m \u001b[38;5;124m\"\u001b[39m\u001b[38;5;124mb\u001b[39m\u001b[38;5;124m\"\u001b[39m \u001b[38;5;129;01mnot\u001b[39;00m \u001b[38;5;129;01min\u001b[39;00m mode:\n\u001b[1;32m   1704\u001b[0m         mode \u001b[38;5;241m+\u001b[39m\u001b[38;5;241m=\u001b[39m \u001b[38;5;124m\"\u001b[39m\u001b[38;5;124mb\u001b[39m\u001b[38;5;124m\"\u001b[39m\n\u001b[0;32m-> 1705\u001b[0m \u001b[38;5;28mself\u001b[39m\u001b[38;5;241m.\u001b[39mhandles \u001b[38;5;241m=\u001b[39m \u001b[43mget_handle\u001b[49m\u001b[43m(\u001b[49m\n\u001b[1;32m   1706\u001b[0m \u001b[43m    \u001b[49m\u001b[43mf\u001b[49m\u001b[43m,\u001b[49m\n\u001b[1;32m   1707\u001b[0m \u001b[43m    \u001b[49m\u001b[43mmode\u001b[49m\u001b[43m,\u001b[49m\n\u001b[1;32m   1708\u001b[0m \u001b[43m    \u001b[49m\u001b[43mencoding\u001b[49m\u001b[38;5;241;43m=\u001b[39;49m\u001b[38;5;28;43mself\u001b[39;49m\u001b[38;5;241;43m.\u001b[39;49m\u001b[43moptions\u001b[49m\u001b[38;5;241;43m.\u001b[39;49m\u001b[43mget\u001b[49m\u001b[43m(\u001b[49m\u001b[38;5;124;43m\"\u001b[39;49m\u001b[38;5;124;43mencoding\u001b[39;49m\u001b[38;5;124;43m\"\u001b[39;49m\u001b[43m,\u001b[49m\u001b[43m \u001b[49m\u001b[38;5;28;43;01mNone\u001b[39;49;00m\u001b[43m)\u001b[49m\u001b[43m,\u001b[49m\n\u001b[1;32m   1709\u001b[0m \u001b[43m    \u001b[49m\u001b[43mcompression\u001b[49m\u001b[38;5;241;43m=\u001b[39;49m\u001b[38;5;28;43mself\u001b[39;49m\u001b[38;5;241;43m.\u001b[39;49m\u001b[43moptions\u001b[49m\u001b[38;5;241;43m.\u001b[39;49m\u001b[43mget\u001b[49m\u001b[43m(\u001b[49m\u001b[38;5;124;43m\"\u001b[39;49m\u001b[38;5;124;43mcompression\u001b[39;49m\u001b[38;5;124;43m\"\u001b[39;49m\u001b[43m,\u001b[49m\u001b[43m \u001b[49m\u001b[38;5;28;43;01mNone\u001b[39;49;00m\u001b[43m)\u001b[49m\u001b[43m,\u001b[49m\n\u001b[1;32m   1710\u001b[0m \u001b[43m    \u001b[49m\u001b[43mmemory_map\u001b[49m\u001b[38;5;241;43m=\u001b[39;49m\u001b[38;5;28;43mself\u001b[39;49m\u001b[38;5;241;43m.\u001b[39;49m\u001b[43moptions\u001b[49m\u001b[38;5;241;43m.\u001b[39;49m\u001b[43mget\u001b[49m\u001b[43m(\u001b[49m\u001b[38;5;124;43m\"\u001b[39;49m\u001b[38;5;124;43mmemory_map\u001b[39;49m\u001b[38;5;124;43m\"\u001b[39;49m\u001b[43m,\u001b[49m\u001b[43m \u001b[49m\u001b[38;5;28;43;01mFalse\u001b[39;49;00m\u001b[43m)\u001b[49m\u001b[43m,\u001b[49m\n\u001b[1;32m   1711\u001b[0m \u001b[43m    \u001b[49m\u001b[43mis_text\u001b[49m\u001b[38;5;241;43m=\u001b[39;49m\u001b[43mis_text\u001b[49m\u001b[43m,\u001b[49m\n\u001b[1;32m   1712\u001b[0m \u001b[43m    \u001b[49m\u001b[43merrors\u001b[49m\u001b[38;5;241;43m=\u001b[39;49m\u001b[38;5;28;43mself\u001b[39;49m\u001b[38;5;241;43m.\u001b[39;49m\u001b[43moptions\u001b[49m\u001b[38;5;241;43m.\u001b[39;49m\u001b[43mget\u001b[49m\u001b[43m(\u001b[49m\u001b[38;5;124;43m\"\u001b[39;49m\u001b[38;5;124;43mencoding_errors\u001b[39;49m\u001b[38;5;124;43m\"\u001b[39;49m\u001b[43m,\u001b[49m\u001b[43m \u001b[49m\u001b[38;5;124;43m\"\u001b[39;49m\u001b[38;5;124;43mstrict\u001b[39;49m\u001b[38;5;124;43m\"\u001b[39;49m\u001b[43m)\u001b[49m\u001b[43m,\u001b[49m\n\u001b[1;32m   1713\u001b[0m \u001b[43m    \u001b[49m\u001b[43mstorage_options\u001b[49m\u001b[38;5;241;43m=\u001b[39;49m\u001b[38;5;28;43mself\u001b[39;49m\u001b[38;5;241;43m.\u001b[39;49m\u001b[43moptions\u001b[49m\u001b[38;5;241;43m.\u001b[39;49m\u001b[43mget\u001b[49m\u001b[43m(\u001b[49m\u001b[38;5;124;43m\"\u001b[39;49m\u001b[38;5;124;43mstorage_options\u001b[39;49m\u001b[38;5;124;43m\"\u001b[39;49m\u001b[43m,\u001b[49m\u001b[43m \u001b[49m\u001b[38;5;28;43;01mNone\u001b[39;49;00m\u001b[43m)\u001b[49m\u001b[43m,\u001b[49m\n\u001b[1;32m   1714\u001b[0m \u001b[43m\u001b[49m\u001b[43m)\u001b[49m\n\u001b[1;32m   1715\u001b[0m \u001b[38;5;28;01massert\u001b[39;00m \u001b[38;5;28mself\u001b[39m\u001b[38;5;241m.\u001b[39mhandles \u001b[38;5;129;01mis\u001b[39;00m \u001b[38;5;129;01mnot\u001b[39;00m \u001b[38;5;28;01mNone\u001b[39;00m\n\u001b[1;32m   1716\u001b[0m f \u001b[38;5;241m=\u001b[39m \u001b[38;5;28mself\u001b[39m\u001b[38;5;241m.\u001b[39mhandles\u001b[38;5;241m.\u001b[39mhandle\n",
      "File \u001b[0;32m/opt/scitools/conda/deployments/default-2023_11_28/lib/python3.10/site-packages/pandas/io/common.py:863\u001b[0m, in \u001b[0;36mget_handle\u001b[0;34m(path_or_buf, mode, encoding, compression, memory_map, is_text, errors, storage_options)\u001b[0m\n\u001b[1;32m    858\u001b[0m \u001b[38;5;28;01melif\u001b[39;00m \u001b[38;5;28misinstance\u001b[39m(handle, \u001b[38;5;28mstr\u001b[39m):\n\u001b[1;32m    859\u001b[0m     \u001b[38;5;66;03m# Check whether the filename is to be opened in binary mode.\u001b[39;00m\n\u001b[1;32m    860\u001b[0m     \u001b[38;5;66;03m# Binary mode does not support 'encoding' and 'newline'.\u001b[39;00m\n\u001b[1;32m    861\u001b[0m     \u001b[38;5;28;01mif\u001b[39;00m ioargs\u001b[38;5;241m.\u001b[39mencoding \u001b[38;5;129;01mand\u001b[39;00m \u001b[38;5;124m\"\u001b[39m\u001b[38;5;124mb\u001b[39m\u001b[38;5;124m\"\u001b[39m \u001b[38;5;129;01mnot\u001b[39;00m \u001b[38;5;129;01min\u001b[39;00m ioargs\u001b[38;5;241m.\u001b[39mmode:\n\u001b[1;32m    862\u001b[0m         \u001b[38;5;66;03m# Encoding\u001b[39;00m\n\u001b[0;32m--> 863\u001b[0m         handle \u001b[38;5;241m=\u001b[39m \u001b[38;5;28;43mopen\u001b[39;49m\u001b[43m(\u001b[49m\n\u001b[1;32m    864\u001b[0m \u001b[43m            \u001b[49m\u001b[43mhandle\u001b[49m\u001b[43m,\u001b[49m\n\u001b[1;32m    865\u001b[0m \u001b[43m            \u001b[49m\u001b[43mioargs\u001b[49m\u001b[38;5;241;43m.\u001b[39;49m\u001b[43mmode\u001b[49m\u001b[43m,\u001b[49m\n\u001b[1;32m    866\u001b[0m \u001b[43m            \u001b[49m\u001b[43mencoding\u001b[49m\u001b[38;5;241;43m=\u001b[39;49m\u001b[43mioargs\u001b[49m\u001b[38;5;241;43m.\u001b[39;49m\u001b[43mencoding\u001b[49m\u001b[43m,\u001b[49m\n\u001b[1;32m    867\u001b[0m \u001b[43m            \u001b[49m\u001b[43merrors\u001b[49m\u001b[38;5;241;43m=\u001b[39;49m\u001b[43merrors\u001b[49m\u001b[43m,\u001b[49m\n\u001b[1;32m    868\u001b[0m \u001b[43m            \u001b[49m\u001b[43mnewline\u001b[49m\u001b[38;5;241;43m=\u001b[39;49m\u001b[38;5;124;43m\"\u001b[39;49m\u001b[38;5;124;43m\"\u001b[39;49m\u001b[43m,\u001b[49m\n\u001b[1;32m    869\u001b[0m \u001b[43m        \u001b[49m\u001b[43m)\u001b[49m\n\u001b[1;32m    870\u001b[0m     \u001b[38;5;28;01melse\u001b[39;00m:\n\u001b[1;32m    871\u001b[0m         \u001b[38;5;66;03m# Binary mode\u001b[39;00m\n\u001b[1;32m    872\u001b[0m         handle \u001b[38;5;241m=\u001b[39m \u001b[38;5;28mopen\u001b[39m(handle, ioargs\u001b[38;5;241m.\u001b[39mmode)\n",
      "\u001b[0;31mFileNotFoundError\u001b[0m: [Errno 2] No such file or directory: '/project/MJO_GCSS/MJO_monitoring/processed_MJO_data/mogreps/rmms_new/20240109/createdPCs.15sn.20240109.fcast.000.txt'"
     ]
    }
   ],
   "source": [
    "df = pd.read_csv(rmm_file_names[0])\n",
    "df['date'] = pd.to_datetime(df[['year', 'month', 'day']]).dt.strftime('%Y-%m-%d')"
   ]
  },
  {
   "cell_type": "code",
   "execution_count": null,
   "id": "8af3d93d-b115-49bb-b940-5f09a6cacc34",
   "metadata": {},
   "outputs": [],
   "source": [
    "def make_ens_mean_df(rmm_file_names):\n",
    "    # read one file\n",
    "    df = pd.read_csv(rmm_file_names[0])\n",
    "    df['date'] = pd.to_datetime(df[['year', 'month', 'day']]).dt.strftime('%Y-%m-%d')\n",
    "    # Make dummy for ensemble mean\n",
    "    ens_mean_df = df.copy()\n",
    "    # Loop through each CSV file, read it into a DataFrame, and concatenate to the combined_df\n",
    "    for col in ['rmm1', 'rmm2', 'amp']:\n",
    "        ens_mean_df[col] = np.array([pd.read_csv(file)[col] for file in rmm_file_names]).mean(axis=0)\n",
    "    # Phase has to be integer\n",
    "    ens_mean_df['phase'] = [int(x) for x in np.array([pd.read_csv(file)['phase'] for file in rmm_file_names]).mean(axis=0)]\n",
    "    return ens_mean_df"
   ]
  },
  {
   "cell_type": "code",
   "execution_count": null,
   "id": "c68ae8fb-e292-46bf-8390-b7319d03c996",
   "metadata": {},
   "outputs": [],
   "source": [
    "\n",
    "#ens_mean_df"
   ]
  },
  {
   "cell_type": "code",
   "execution_count": null,
   "id": "c057041d-33fb-48de-b710-02275157efdd",
   "metadata": {},
   "outputs": [],
   "source": [
    "# Set up plot\n",
    "hover = HoverTool(tooltips=[\n",
    "    (\"Date\", \"@date\"),\n",
    "    (\"RMM1\", \"@rmm1\"),\n",
    "    (\"RMM2\", \"@rmm2\"),\n",
    "    (\"Phase\", \"@phase\"),\n",
    "    (\"Amp\", \"@amp\"),\n",
    "    (\"Label\", \"@label\"),\n",
    "    (\"Member\", \"@member\")\n",
    "], mode='mouse')\n",
    "\n",
    "ens_mean_df = make_ens_mean_df(rmm_file_names)\n",
    "\n",
    "def make_plot(title=None):\n",
    "    '''\n",
    "    # Generates the axes and background for the data to be plot on\n",
    "    #\n",
    "    :param title:\n",
    "    :return:\n",
    "    '''\n",
    "    plot = figure(height=500, width=500, tools=[\"pan, reset, save, wheel_zoom, box_zoom\", hover],\n",
    "                     x_range=[-4, 4], y_range=[-4, 4])\n",
    "\n",
    "    plot.title.text = title\n",
    "\n",
    "    # Mark the 8 sectors\n",
    "    x = 4\n",
    "    y = 0.707107\n",
    "    linewidth = 0.25\n",
    "    plot.line([-x, -y], [-x, -y], line_width=0.5, line_alpha=0.6)\n",
    "    plot.line([y, x], [y, x], line_width=0.5, line_alpha=0.6)\n",
    "    plot.line([-x, -y], [x, y], line_width=0.5, line_alpha=0.6)\n",
    "    plot.line([y, x], [-y, -x], line_width=0.5, line_alpha=0.6)\n",
    "    plot.line([-x, -1], [0, 0], line_width=0.5, line_alpha=0.6)\n",
    "    plot.line([1, x], [0, 0], line_width=0.5, line_alpha=0.6)\n",
    "    plot.line([0, 0], [-x, -1], line_width=0.5, line_alpha=0.6)\n",
    "    plot.line([0, 0], [1, x], line_width=0.5, line_alpha=0.6)\n",
    "\n",
    "    xt, yt = 3., 1.5\n",
    "    phase_marker_source = ColumnDataSource(data=dict(xt=[-xt, -yt, yt, xt, xt, yt, -yt, -xt],\n",
    "                                                     yt=[-yt, -xt, -xt, -yt, yt, xt, xt, yt],\n",
    "                                                     phase_labels=[str(i) for i in range(1, 9)]))\n",
    "    labels = LabelSet(x='xt', y='yt', text='phase_labels', level='glyph',\n",
    "                      x_offset=0, y_offset=0, source=phase_marker_source,\n",
    "                      text_color='grey', text_font_size=\"30pt\", text_alpha=0.25)\n",
    "\n",
    "    plot.add_layout(labels)\n",
    "    plot.circle([0], [0], radius=1, color=\"white\", line_color='grey', alpha=0.6)\n",
    "\n",
    "    phase_name_source = ColumnDataSource(dict(x=[0, 0], y=[-3.75, 3.], text=['Indian \\n Ocean', 'Western \\n Pacific']))\n",
    "    glyph = Text(x=\"x\", y=\"y\", text=\"text\", angle=0., text_color=\"grey\", text_align='center', text_alpha=0.25)\n",
    "    plot.add_glyph(phase_name_source, glyph)\n",
    "\n",
    "    phase_name_source = ColumnDataSource(dict(x=[-3.], y=[0], text=['West. Hem\\n Africa']))\n",
    "    glyph = Text(x=\"x\", y=\"y\", text=\"text\", angle=np.pi / 2., text_color=\"grey\", text_align='center', text_alpha=0.25)\n",
    "    plot.add_glyph(phase_name_source, glyph)\n",
    "\n",
    "    phase_name_source = ColumnDataSource(dict(x=[3.], y=[0], text=['Maritime\\n continent']))\n",
    "    glyph = Text(x=\"x\", y=\"y\", text=\"text\", angle=-np.pi / 2., text_color=\"grey\", text_align='center', text_alpha=0.25)\n",
    "    plot.add_glyph(phase_name_source, glyph)\n",
    "\n",
    "    plot.xaxis[0].axis_label = 'RMM1'\n",
    "    plot.yaxis[0].axis_label = 'RMM2'\n",
    "\n",
    "    return plot\n",
    "\n",
    "df_analysis = df.loc[df['label']=='analysis']\n",
    "plot_mog = make_plot(title=f'MOGREPS MJO Forecasts {date.strftime(\"%Y-%m-%d\")}')\n",
    "plot_mog.line('rmm1', 'rmm2', source=df_analysis, name=\"analysis\", line_color='grey', line_width=5, line_alpha=0.8)\n",
    "plot_mog.circle('rmm1', 'rmm2', source=df_analysis, name=\"analysis_dots\", color='grey', radius=0.05,\n",
    "               alpha=0.8)\n",
    "\n",
    "for mem, rmm_file_name in enumerate(rmm_file_names):\n",
    "    df = pd.read_csv(rmm_file_name)\n",
    "    df['date'] = pd.to_datetime(df[['year', 'month', 'day']]).dt.strftime('%Y-%m-%d')\n",
    "    fcast_start_index = min(df.loc[df['label']=='forecast'].index)\n",
    "    # connect the forecasts to the analysis\n",
    "    df_forecast = df.iloc[fcast_start_index-1:]\n",
    "    \n",
    "    # Add member info\n",
    "    df_forecast['member'] = [mem for i in range(len(df_forecast))]\n",
    "    \n",
    "    plot_mog.line('rmm1', 'rmm2', source=df_forecast, name=\"analysis\", line_color='lightskyblue', line_width=2, line_alpha=0.5)\n",
    "    plot_mog.circle('rmm1', 'rmm2', source=df_forecast, name=\"analysis_dots\", color='lightskyblue', radius=0.02,\n",
    "                   alpha=0.5)\n",
    "\n",
    "# Plot ensemble mean\n",
    "fcast_start_index = min(ens_mean_df.loc[ens_mean_df['label']=='forecast'].index)\n",
    "# connect the forecasts to the analysis\n",
    "ens_mean_df = ens_mean_df.iloc[fcast_start_index-1:]\n",
    "# Add member info\n",
    "ens_mean_df['member'] = ['ens_mean' for i in range(len(ens_mean_df))]\n",
    "\n",
    "plot_mog.line('rmm1', 'rmm2', source=ens_mean_df, name=\"analysis\", line_color='navy', line_width=5, line_alpha=0.5)\n",
    "plot_mog.circle('rmm1', 'rmm2', source=ens_mean_df, name=\"analysis_dots\", color='navy', radius=0.05,\n",
    "                   alpha=0.3)\n",
    "\n",
    "# Specify the output file\n",
    "output_file(\"/net/home/h03/hadpx/public_html/Monitoring_dashboard/mjo/plot.html\")\n",
    "\n",
    "# Display the plot\n",
    "show(plot_mog)"
   ]
  },
  {
   "cell_type": "code",
   "execution_count": null,
   "id": "e08b009b-3707-4b5a-9e70-f48abacd90c0",
   "metadata": {},
   "outputs": [],
   "source": [
    "\n",
    "#rmm1s.shape"
   ]
  },
  {
   "cell_type": "code",
   "execution_count": null,
   "id": "a3ffbefb-5278-4840-a950-8f7c3d6991d5",
   "metadata": {},
   "outputs": [],
   "source": [
    "ens_mean_df = make_ens_mean_df(df)\n",
    "ens_mean_df"
   ]
  },
  {
   "cell_type": "code",
   "execution_count": 153,
   "id": "66e91f32-54e4-4147-9a8a-21b7545221cc",
   "metadata": {},
   "outputs": [],
   "source": [
    "results = [None, None, None, None, None, None, None, None, None, None, None, None, None, None, None, None, None, None, None, None, None, None, None, None, None, None, None, None, None, None, None, None, None, None, None, None, None, None, None, None, None, None, None, None, None, None, None, None, None, None, None, None, None, None, None, None, None, None, None, None, None, None, None, None, None, None, None, None, None, None, None, None, None, None, None, None, None, None, None, None, None, None, None, None, None, None, None, None, None, None, None, None, None, None, None, None, None, None, None, None, None, None, None, None, None, None, None, None, None, None, None, None, None, None, None, None, None, None, None, None, None, None, None, None, None, None, None, None, None, None, None, None, None, None, None, None, None, None, None, None, None, None, None, None, None, None, None, None, None, None, None, None, None, None, None, None, None, None, None, None, None, None, None, None, None, None, None, None, None, None, None, None, None, None, None, None, None, None, None, None, None, None, None, None, None, None, None, None, None, None, None, None, None, None, None, None, None, None, None, None, None]"
   ]
  },
  {
   "cell_type": "code",
   "execution_count": 160,
   "id": "74b8471c-963e-4f35-806d-0f5999b40f1f",
   "metadata": {},
   "outputs": [],
   "source": [
    "x = [True, True, True, True, True, True, True, True, True, True, True, True, True, True, True, True, True, True, True, True, True, True, True, True, True, True, True, True, True, True, True, True, True, True, True, True]"
   ]
  },
  {
   "cell_type": "code",
   "execution_count": 161,
   "id": "df5e11b6-521b-4a9c-8e81-616eac84a38a",
   "metadata": {},
   "outputs": [
    {
     "data": {
      "text/plain": [
       "True"
      ]
     },
     "execution_count": 161,
     "metadata": {},
     "output_type": "execute_result"
    }
   ],
   "source": [
    "all(x)"
   ]
  },
  {
   "cell_type": "code",
   "execution_count": null,
   "id": "24d2022b-36e8-4973-97b3-df1c5e64561e",
   "metadata": {},
   "outputs": [],
   "source": []
  }
 ],
 "metadata": {
  "kernelspec": {
   "display_name": "Python 3 (ipykernel)",
   "language": "python",
   "name": "python3"
  },
  "language_info": {
   "codemirror_mode": {
    "name": "ipython",
    "version": 3
   },
   "file_extension": ".py",
   "mimetype": "text/x-python",
   "name": "python",
   "nbconvert_exporter": "python",
   "pygments_lexer": "ipython3",
   "version": "3.10.13"
  }
 },
 "nbformat": 4,
 "nbformat_minor": 5
}
