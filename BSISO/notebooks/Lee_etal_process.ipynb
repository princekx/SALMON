{
 "cells": [
  {
   "cell_type": "code",
   "execution_count": 113,
   "id": "8491821e-07fc-4b64-90c7-9ba8e4211a85",
   "metadata": {},
   "outputs": [],
   "source": [
    "import os\n",
    "import numpy as np\n",
    "import iris\n",
    "import iris.coord_categorisation\n",
    "import iris.analysis.cartography\n",
    "import cf_units\n",
    "import matplotlib as mpl\n",
    "import matplotlib.pyplot as plt\n",
    "from matplotlib.colors import BoundaryNorm\n",
    "import matplotlib.patches as mpatches\n",
    "import iris.quickplot as qplt\n",
    "import seaborn as sns\n",
    "import pandas as pd\n",
    "import datetime\n",
    "from iris.coord_categorisation import add_year, \\\n",
    "    add_month_number, add_day_of_month, add_day_of_year\n",
    "import warnings\n",
    "warnings.simplefilter(\"ignore\")\n",
    "%matplotlib tk"
   ]
  },
  {
   "cell_type": "code",
   "execution_count": 2,
   "id": "9fe1e069-36e0-4f21-af36-d1fdb3c5d8ea",
   "metadata": {},
   "outputs": [],
   "source": [
    "def prepare_calendar(cube, tcoord_name='time'):\n",
    "    # Setting up the dates on data\n",
    "    for coord_name, coord_func in [('year', iris.coord_categorisation.add_year),\n",
    "                                   ('month_number', iris.coord_categorisation.add_month_number),\n",
    "                                   ('day_of_month', iris.coord_categorisation.add_day_of_month),\n",
    "                                   ('day_of_year', iris.coord_categorisation.add_day_of_year),\n",
    "                                   ('hour', iris.coord_categorisation.add_hour)]:\n",
    "        if not cube.coords(coord_name):\n",
    "            coord_func(cube, tcoord_name, name=coord_name)\n",
    "    return cube\n",
    "    # Constrain the cubes to May-September period for all years\n",
    "def may_september_constraint(cube):\n",
    "    return cube.extract(iris.Constraint(month_number=lambda month_number: 5 <= month_number <= 9))\n",
    "\n",
    "def create_dates_df(cube):\n",
    "    cube = prepare_calendar(cube, tcoord_name='forecast_time')\n",
    "    cube_dates_dt = [datetime.datetime(y, m, d) for y, m, d in zip(cube.coord('year').points,\n",
    "                                                                   cube.coord('month_number').points,\n",
    "                                                                   cube.coord('day_of_month').points)]\n",
    "    # Extract year, month, and day from each datetime object\n",
    "    data = {\n",
    "    'Year': [dt.year for dt in cube_dates_dt],\n",
    "    'Month': [dt.month for dt in cube_dates_dt],\n",
    "    'Day': [dt.day for dt in cube_dates_dt]\n",
    "    }\n",
    "    \n",
    "    # Create a Pandas DataFrame\n",
    "    df = pd.DataFrame(data)\n",
    "    \n",
    "    # Create a new 'date' column with datetime objects\n",
    "    df['date'] = pd.to_datetime(df[['Year', 'Month', 'Day']])\n",
    "    return df\n",
    "def read_bsiso_eofs():\n",
    "    eof_data_dir = '../data'\n",
    "    eof_data_file = os.path.join(eof_data_dir, 'BSISO.EOFstruc.data')\n",
    "    eofs = pd.read_csv(eof_data_file, delim_whitespace=True)\n",
    "    \n",
    "    nlat = eofs['YY'].max()\n",
    "    nlon = eofs['XX'].max()\n",
    "    lons = np.linspace(40, 160, nlon)\n",
    "    lats = np.linspace(-10.,40., nlat)\n",
    "    \n",
    "    comb_eof1 = np.concatenate((eofs.OLR1, eofs.U8501), axis=0)\n",
    "    comb_eof2 = np.concatenate((eofs.OLR2, eofs.U8502), axis=0)\n",
    "    \n",
    "    return comb_eof1, comb_eof2\n",
    "def calculate_mjo_phase(rmm1, rmm2):\n",
    "    # Calculate the phase angle\n",
    "    phase_angle = np.arctan2(rmm2, rmm1)\n",
    "    \n",
    "    # Convert negative angles to positive\n",
    "    phase_angle = np.where(phase_angle < 0, phase_angle + 2 * np.pi, phase_angle)\n",
    "\n",
    "    # Define the phase categories based on the phase angle\n",
    "    phase = np.zeros(len(phase_angle), dtype=int)\n",
    "    phase = np.where((phase_angle >= 0) & (phase_angle < np.pi / 4), 5,\n",
    "                     np.where((phase_angle >= np.pi / 4) & (phase_angle < np.pi / 2), 6,\n",
    "                              np.where((phase_angle >= np.pi / 2) & (phase_angle < 3 * np.pi / 4), 7,\n",
    "                                       np.where((phase_angle >= 3 * np.pi / 4) & (phase_angle < np.pi), 8,\n",
    "                                                np.where((phase_angle >= np.pi) & (phase_angle < 5 * np.pi / 4), 1,\n",
    "                                                         np.where((phase_angle >= 5 * np.pi / 4) & (phase_angle < 3 * np.pi / 2), 2,\n",
    "                                                                  np.where((phase_angle >= 3 * np.pi / 2) & (phase_angle < 7 * np.pi / 4), 3, 4)))))))\n",
    "\n",
    "    return phase"
   ]
  },
  {
   "cell_type": "code",
   "execution_count": 3,
   "id": "a6c0ce52-99a3-461f-b86c-226763bde849",
   "metadata": {},
   "outputs": [],
   "source": [
    "# compute aread averaged standard deviation of OLR and \n",
    "# Define the region and the time period\n",
    "longitude_range = (40, 160)\n",
    "latitude_range = (-10, 40)\n",
    "time_range = ('2000-05-01', '2020-09-30')\n",
    "grid_spacing = 2.5"
   ]
  },
  {
   "cell_type": "code",
   "execution_count": 4,
   "id": "65c60a26-a843-4e37-87ac-52150e397635",
   "metadata": {},
   "outputs": [],
   "source": [
    "# Load the OLR and U850 data\n",
    "olr_file = '/project/MJO_GCSS/hadgem3/data/obs/SEAPy_data/obs/NOAA_OLR_tropics_24h_mean_2000_2020.nc'\n",
    "u850_file = '/project/MJO_GCSS/hadgem3/data/obs/SEAPy_data/obs/obs_U850.pp.nc'\n",
    "olr_cube = iris.load_cube(olr_file)\n",
    "u850_cube = iris.load_cube(u850_file)\n",
    "\n",
    "olr_cube = olr_cube.intersection(longitude=longitude_range, latitude=latitude_range)\n",
    "u850_cube = u850_cube.intersection(longitude=longitude_range, latitude=latitude_range)"
   ]
  },
  {
   "cell_type": "code",
   "execution_count": 5,
   "id": "ff0aeae5-2eb0-4040-8273-27446720eb0b",
   "metadata": {},
   "outputs": [
    {
     "data": {
      "text/plain": [
       "((7305, 17, 49), (7671, 17, 49))"
      ]
     },
     "execution_count": 5,
     "metadata": {},
     "output_type": "execute_result"
    }
   ],
   "source": [
    "olr_cube.coord('longitude').attributes = {}\n",
    "u850_cube.coord('longitude').attributes = {}\n",
    "u850_cube = u850_cube.regrid(olr_cube, iris.analysis.Linear())\n",
    "u850_cube.shape, olr_cube.shape"
   ]
  },
  {
   "cell_type": "code",
   "execution_count": 6,
   "id": "6c0f4d68-aac7-41ad-8939-1511b744636c",
   "metadata": {},
   "outputs": [],
   "source": [
    "olr_cube = prepare_calendar(olr_cube)\n",
    "u850_cube = prepare_calendar(u850_cube)"
   ]
  },
  {
   "cell_type": "code",
   "execution_count": 7,
   "id": "4d26f5bf-f6a9-4e00-bfca-3fcd1c882c74",
   "metadata": {},
   "outputs": [],
   "source": [
    "olr_cube = may_september_constraint(olr_cube)\n",
    "u850_cube = may_september_constraint(u850_cube)"
   ]
  },
  {
   "cell_type": "code",
   "execution_count": 8,
   "id": "9e762f40-18fd-45a6-9ec3-2f5e9be341f1",
   "metadata": {},
   "outputs": [],
   "source": [
    "olr_sd = olr_cube.collapsed('time', iris.analysis.STD_DEV)\n",
    "u850_sd = u850_cube.collapsed('time', iris.analysis.STD_DEV)"
   ]
  },
  {
   "cell_type": "code",
   "execution_count": 9,
   "id": "462bf8a4-97da-43dd-9598-44c509b83e44",
   "metadata": {},
   "outputs": [],
   "source": [
    "olr_sd_x = olr_sd.collapsed(['latitude', 'longitude'], iris.analysis.MEAN).data\n",
    "u850_sd_x = u850_sd.collapsed(['latitude', 'longitude'], iris.analysis.MEAN).data"
   ]
  },
  {
   "cell_type": "code",
   "execution_count": 10,
   "id": "a7cbe4e0-87c2-4788-8580-430a1475da88",
   "metadata": {},
   "outputs": [
    {
     "data": {
      "text/plain": [
       "(35.367244720458984, 3.917308896882387)"
      ]
     },
     "execution_count": 10,
     "metadata": {},
     "output_type": "execute_result"
    }
   ],
   "source": [
    "float(olr_sd_x), float(u850_sd_x)"
   ]
  },
  {
   "cell_type": "code",
   "execution_count": 11,
   "id": "a79cd7c9-8d75-4231-8a9b-27fe992ad0d5",
   "metadata": {},
   "outputs": [],
   "source": [
    "# These numbers are from https://iprc.soest.hawaii.edu/users/jylee/bsiso/data/PROJ.BSISOEOF.f90\n",
    "pc1_sd = 12.\n",
    "pc2_sd = 10.\n",
    "pc3_sd = 8.8\n",
    "pc4_sd = 8.4"
   ]
  },
  {
   "cell_type": "code",
   "execution_count": 12,
   "id": "dd030486-6421-4908-a826-ac6b42fa27bf",
   "metadata": {},
   "outputs": [
    {
     "data": {
      "text/html": [
       "<div>\n",
       "<style scoped>\n",
       "    .dataframe tbody tr th:only-of-type {\n",
       "        vertical-align: middle;\n",
       "    }\n",
       "\n",
       "    .dataframe tbody tr th {\n",
       "        vertical-align: top;\n",
       "    }\n",
       "\n",
       "    .dataframe thead th {\n",
       "        text-align: right;\n",
       "    }\n",
       "</style>\n",
       "<table border=\"1\" class=\"dataframe\">\n",
       "  <thead>\n",
       "    <tr style=\"text-align: right;\">\n",
       "      <th></th>\n",
       "      <th>index</th>\n",
       "      <th>olr_sd_x</th>\n",
       "      <th>u850_sd_x</th>\n",
       "      <th>pc1_sd</th>\n",
       "      <th>pc2_sd</th>\n",
       "      <th>pc3_sd</th>\n",
       "      <th>pc4_sd</th>\n",
       "    </tr>\n",
       "  </thead>\n",
       "  <tbody>\n",
       "    <tr>\n",
       "      <th>0</th>\n",
       "      <td>0</td>\n",
       "      <td>35.367245</td>\n",
       "      <td>3.917309</td>\n",
       "      <td>12.0</td>\n",
       "      <td>10.0</td>\n",
       "      <td>8.8</td>\n",
       "      <td>8.4</td>\n",
       "    </tr>\n",
       "  </tbody>\n",
       "</table>\n",
       "</div>"
      ],
      "text/plain": [
       "   index   olr_sd_x  u850_sd_x  pc1_sd  pc2_sd  pc3_sd  pc4_sd\n",
       "0      0  35.367245   3.917309    12.0    10.0     8.8     8.4"
      ]
     },
     "execution_count": 12,
     "metadata": {},
     "output_type": "execute_result"
    }
   ],
   "source": [
    "df = pd.DataFrame({'index':[0], 'olr_sd_x': [float(olr_sd_x)], 'u850_sd_x': [float(u850_sd_x)], \n",
    "                   'pc1_sd': [pc1_sd], 'pc2_sd': [pc2_sd], 'pc3_sd': [pc3_sd], 'pc4_sd': [pc4_sd]})\n",
    "df"
   ]
  },
  {
   "cell_type": "code",
   "execution_count": 13,
   "id": "8732d121-4fb2-496b-9283-462a957cf802",
   "metadata": {},
   "outputs": [],
   "source": [
    "# Save to CSV\n",
    "df.to_csv('../data/BSISO_coefficients.csv', index=False)  # S"
   ]
  },
  {
   "cell_type": "code",
   "execution_count": 14,
   "id": "adbce22d-bfad-48fc-81fa-33f0ac4e55c2",
   "metadata": {},
   "outputs": [
    {
     "data": {
      "text/html": [
       "<div>\n",
       "<style scoped>\n",
       "    .dataframe tbody tr th:only-of-type {\n",
       "        vertical-align: middle;\n",
       "    }\n",
       "\n",
       "    .dataframe tbody tr th {\n",
       "        vertical-align: top;\n",
       "    }\n",
       "\n",
       "    .dataframe thead th {\n",
       "        text-align: right;\n",
       "    }\n",
       "</style>\n",
       "<table border=\"1\" class=\"dataframe\">\n",
       "  <thead>\n",
       "    <tr style=\"text-align: right;\">\n",
       "      <th></th>\n",
       "      <th>index</th>\n",
       "      <th>olr_sd_x</th>\n",
       "      <th>u850_sd_x</th>\n",
       "      <th>pc1_sd</th>\n",
       "      <th>pc2_sd</th>\n",
       "      <th>pc3_sd</th>\n",
       "      <th>pc4_sd</th>\n",
       "    </tr>\n",
       "  </thead>\n",
       "  <tbody>\n",
       "    <tr>\n",
       "      <th>0</th>\n",
       "      <td>0</td>\n",
       "      <td>35.367245</td>\n",
       "      <td>3.917309</td>\n",
       "      <td>12.0</td>\n",
       "      <td>10.0</td>\n",
       "      <td>8.8</td>\n",
       "      <td>8.4</td>\n",
       "    </tr>\n",
       "  </tbody>\n",
       "</table>\n",
       "</div>"
      ],
      "text/plain": [
       "   index   olr_sd_x  u850_sd_x  pc1_sd  pc2_sd  pc3_sd  pc4_sd\n",
       "0      0  35.367245   3.917309    12.0    10.0     8.8     8.4"
      ]
     },
     "execution_count": 14,
     "metadata": {},
     "output_type": "execute_result"
    }
   ],
   "source": [
    "df = pd.read_csv('../data/BSISO_coefficients.csv')\n",
    "df                 "
   ]
  },
  {
   "cell_type": "code",
   "execution_count": 154,
   "id": "70d206bd-3b16-49fc-9c5f-05f442930694",
   "metadata": {},
   "outputs": [
    {
     "name": "stdout",
     "output_type": "stream",
     "text": [
      "34.069271087646484 3.586897134780884\n"
     ]
    }
   ],
   "source": [
    "date = datetime.datetime(2024, 7, 19)\n",
    "mem = '001'\n",
    "nanalysis2write=40\n",
    "model='glosea'\n",
    "\n",
    "date_label = date.strftime(\"%Y%m%d\")\n",
    "# Read data\n",
    "olr_cube = iris.load_cube(f'/scratch/hadpx/SEA_monitoring/processed_SEA_data/{model}/MJO/olr/olr_120dm_40sn_nrt_{date_label}_{mem}.nc')\n",
    "u850_cube = iris.load_cube(f'/scratch/hadpx/SEA_monitoring/processed_SEA_data/{model}/MJO/u850/u850_120dm_40sn_nrt_{date_label}_{mem}.nc')\n",
    "\n",
    "reg_constraints = iris.Constraint(latitude=lambda cell: -10 <= cell <= 40) & iris.Constraint(longitude=lambda cell: 40. <= cell <= 160.)\n",
    "\n",
    "olr_cube = olr_cube.extract(constraint=reg_constraints)\n",
    "u850_cube = u850_cube.extract(constraint=reg_constraints)\n",
    "\n",
    "olr_sd = olr_cube.collapsed('forecast_time', iris.analysis.STD_DEV)\n",
    "u850_sd = u850_cube.collapsed('forecast_time', iris.analysis.STD_DEV)\n",
    "\n",
    "olr_sd_x = olr_sd.collapsed(['latitude', 'longitude'], iris.analysis.MEAN).data\n",
    "u850_sd_x = u850_sd.collapsed(['latitude', 'longitude'], iris.analysis.MEAN).data\n",
    "\n",
    "print(float(olr_sd_x), float(u850_sd_x))\n",
    "# Normalization by area averaged temporal standard deviation over the Asian region\n",
    "#olr_cube /= df['olr_sd_x']\n",
    "#u850_cube /= df['u850_sd_x']\n",
    "\n",
    "olr_cube /= 33.04\n",
    "u850_cube /= 4.01 "
   ]
  },
  {
   "cell_type": "markdown",
   "id": "79196358-1d23-4d97-95c6-ca322343e795",
   "metadata": {},
   "source": [
    "The normalization factor used is 33.04 W m-2 for OLR and 4.01 m s-1 for U850. After applying the MV-EOF on the normalized OLR and U850 anomalies, we identified the first four MV-EOF modes as important for representing the BSISO over the ASM region. The percentage variance accounted for by each mode is 7.2, 4.9, 3.8, and 3.5 % respectively (Figs. 2, 3)."
   ]
  },
  {
   "cell_type": "code",
   "execution_count": 155,
   "id": "e8449792-a0b8-4e36-8672-4e82b7835625",
   "metadata": {},
   "outputs": [],
   "source": [
    "#qplt.plot(olr_cube[:, 10, 25])\n",
    "#qplt.plot(u850_cube[:, 10, 25])\n",
    "#qplt.axvline(x=201, color='r', linestyle='--')"
   ]
  },
  {
   "cell_type": "code",
   "execution_count": 156,
   "id": "d313b3e0-af68-4116-90e8-c772148e7c83",
   "metadata": {},
   "outputs": [],
   "source": [
    "pcs = create_dates_df(olr_cube)"
   ]
  },
  {
   "cell_type": "code",
   "execution_count": 157,
   "id": "4bb77c35-c48b-460f-85c5-7d9ad27a3b18",
   "metadata": {},
   "outputs": [
    {
     "name": "stdout",
     "output_type": "stream",
     "text": [
      "70 21 49\n"
     ]
    },
    {
     "data": {
      "text/plain": [
       "((70, 2058), (70, 1029))"
      ]
     },
     "execution_count": 157,
     "metadata": {},
     "output_type": "execute_result"
    }
   ],
   "source": [
    "ntime, nlat_cube, nlon_cube = olr_cube.shape\n",
    "print(ntime, nlat_cube, nlon_cube)\n",
    "#if (nlat_cube == nlat) & (nlon_cube==nlon):\n",
    "#    print('Cube dims match')\n",
    "olr_resh = np.reshape(olr_cube.data, (ntime, nlat_cube*nlon_cube))\n",
    "u850_resh = np.reshape(u850_cube.data, (ntime, nlat_cube*nlon_cube))\n",
    "\n",
    "# Combining the data along the lat-lon dimensions\n",
    "comb_fcast_data = np.concatenate((olr_resh, u850_resh), axis=1)\n",
    "comb_fcast_data.shape, olr_resh.shape"
   ]
  },
  {
   "cell_type": "code",
   "execution_count": 158,
   "id": "9c6473c2-1b02-43f0-a47c-ced5736a9004",
   "metadata": {},
   "outputs": [],
   "source": [
    "#plt.plot(olr_resh[:,560], label='OLR')\n",
    "#plt.plot(u850_resh[:,560], label='U850')\n",
    "#plt.legend()"
   ]
  },
  {
   "cell_type": "code",
   "execution_count": 159,
   "id": "69eb9d31-d20e-481d-8537-5924d165203d",
   "metadata": {},
   "outputs": [
    {
     "data": {
      "text/plain": [
       "((2058,), (70, 2058))"
      ]
     },
     "execution_count": 159,
     "metadata": {},
     "output_type": "execute_result"
    }
   ],
   "source": [
    "# Read Predefined EOF structures\n",
    "comb_eof1, comb_eof2 = read_bsiso_eofs()\n",
    "comb_eof1.shape, comb_fcast_data.shape"
   ]
  },
  {
   "cell_type": "code",
   "execution_count": 160,
   "id": "fd2a3150-3723-4ffe-9b6d-9fa8c70bb7cd",
   "metadata": {},
   "outputs": [
    {
     "data": {
      "text/plain": [
       "(70,)"
      ]
     },
     "execution_count": 160,
     "metadata": {},
     "output_type": "execute_result"
    }
   ],
   "source": [
    "np.dot(comb_fcast_data, comb_eof1).shape"
   ]
  },
  {
   "cell_type": "code",
   "execution_count": 161,
   "id": "0978e395-7f64-43fc-8683-bfeec771f437",
   "metadata": {},
   "outputs": [
    {
     "data": {
      "text/plain": [
       "(13.110736978049466, array([12.]))"
      ]
     },
     "execution_count": 161,
     "metadata": {},
     "output_type": "execute_result"
    }
   ],
   "source": [
    "# Assuming comb_eof1 is a 1D array of shape (2058,)\n",
    "# and comb_fcast_data is a 2D array of shape (261, 2058)\n",
    "pcs['PC1'] = np.dot(comb_fcast_data, comb_eof1)\n",
    "pcs['PC2'] = np.dot(comb_fcast_data, comb_eof2)\n",
    "plt.plot(pcs.PC2[:20]/10., pcs.PC1[:20]/12., '-*')\n",
    "plt.xlim([-4,4])\n",
    "plt.ylim([4,-4])\n",
    "pcs['PC2'].std(), df['pc1_sd'].values"
   ]
  },
  {
   "cell_type": "code",
   "execution_count": 57,
   "id": "e8911e51-7d33-4cbe-a0f5-9c2f4fa1b084",
   "metadata": {},
   "outputs": [],
   "source": [
    "#plt.plot(comb_eof1)"
   ]
  },
  {
   "cell_type": "code",
   "execution_count": 63,
   "id": "338e8381-1acd-4e06-869a-4389147aeb1a",
   "metadata": {},
   "outputs": [],
   "source": [
    "# Normalise PC1 and PC2 by 12, 10\n",
    "pcs['PC1'] = pcs['PC1']/10. #/df['pc1_sd'].values\n",
    "pcs['PC2'] = pcs['PC2']/8. #/df['pc2_sd'].values\n",
    "\n",
    "pcs['8_phases'] = calculate_mjo_phase(pcs['PC1'].values, pcs['PC2'].values)\n",
    "pcs['amp'] = np.sqrt(pcs['PC1'].values**2+pcs['PC2'].values**2)\n",
    "pcs['mem'] = [mem for i in range(len(pcs))]"
   ]
  },
  {
   "cell_type": "code",
   "execution_count": 143,
   "id": "12fd9d6f-7160-4236-8382-bba013e6774a",
   "metadata": {},
   "outputs": [
    {
     "data": {
      "text/plain": [
       "(-4.0, 4.0)"
      ]
     },
     "execution_count": 143,
     "metadata": {},
     "output_type": "execute_result"
    }
   ],
   "source": [
    "plt.plot(pcs.PC1, pcs.PC2)\n",
    "plt.xlim([-4,4])\n",
    "plt.ylim([-4,4])"
   ]
  },
  {
   "cell_type": "code",
   "execution_count": 190,
   "id": "4c6d9de2-e3b8-4477-a86e-971c30afa3c4",
   "metadata": {},
   "outputs": [
    {
     "data": {
      "text/html": [
       "<div>\n",
       "<style scoped>\n",
       "    .dataframe tbody tr th:only-of-type {\n",
       "        vertical-align: middle;\n",
       "    }\n",
       "\n",
       "    .dataframe tbody tr th {\n",
       "        vertical-align: top;\n",
       "    }\n",
       "\n",
       "    .dataframe thead th {\n",
       "        text-align: right;\n",
       "    }\n",
       "</style>\n",
       "<table border=\"1\" class=\"dataframe\">\n",
       "  <thead>\n",
       "    <tr style=\"text-align: right;\">\n",
       "      <th></th>\n",
       "      <th>Year</th>\n",
       "      <th>Month</th>\n",
       "      <th>Day</th>\n",
       "      <th>date</th>\n",
       "      <th>PC1</th>\n",
       "      <th>PC2</th>\n",
       "      <th>8_phases</th>\n",
       "      <th>amp</th>\n",
       "      <th>mem</th>\n",
       "    </tr>\n",
       "  </thead>\n",
       "  <tbody>\n",
       "    <tr>\n",
       "      <th>0</th>\n",
       "      <td>2024</td>\n",
       "      <td>4</td>\n",
       "      <td>6</td>\n",
       "      <td>2024-04-06</td>\n",
       "      <td>-0.138533</td>\n",
       "      <td>-0.259654</td>\n",
       "      <td>2</td>\n",
       "      <td>0.294298</td>\n",
       "      <td>000</td>\n",
       "    </tr>\n",
       "    <tr>\n",
       "      <th>1</th>\n",
       "      <td>2024</td>\n",
       "      <td>4</td>\n",
       "      <td>7</td>\n",
       "      <td>2024-04-07</td>\n",
       "      <td>-0.295820</td>\n",
       "      <td>-0.146650</td>\n",
       "      <td>1</td>\n",
       "      <td>0.330176</td>\n",
       "      <td>000</td>\n",
       "    </tr>\n",
       "    <tr>\n",
       "      <th>2</th>\n",
       "      <td>2024</td>\n",
       "      <td>4</td>\n",
       "      <td>8</td>\n",
       "      <td>2024-04-08</td>\n",
       "      <td>-0.260118</td>\n",
       "      <td>-0.545796</td>\n",
       "      <td>2</td>\n",
       "      <td>0.604611</td>\n",
       "      <td>000</td>\n",
       "    </tr>\n",
       "    <tr>\n",
       "      <th>3</th>\n",
       "      <td>2024</td>\n",
       "      <td>4</td>\n",
       "      <td>9</td>\n",
       "      <td>2024-04-09</td>\n",
       "      <td>-0.142119</td>\n",
       "      <td>-0.379965</td>\n",
       "      <td>2</td>\n",
       "      <td>0.405674</td>\n",
       "      <td>000</td>\n",
       "    </tr>\n",
       "    <tr>\n",
       "      <th>4</th>\n",
       "      <td>2024</td>\n",
       "      <td>4</td>\n",
       "      <td>10</td>\n",
       "      <td>2024-04-10</td>\n",
       "      <td>-0.193734</td>\n",
       "      <td>-0.433561</td>\n",
       "      <td>2</td>\n",
       "      <td>0.474877</td>\n",
       "      <td>000</td>\n",
       "    </tr>\n",
       "    <tr>\n",
       "      <th>...</th>\n",
       "      <td>...</td>\n",
       "      <td>...</td>\n",
       "      <td>...</td>\n",
       "      <td>...</td>\n",
       "      <td>...</td>\n",
       "      <td>...</td>\n",
       "      <td>...</td>\n",
       "      <td>...</td>\n",
       "      <td>...</td>\n",
       "    </tr>\n",
       "    <tr>\n",
       "      <th>65</th>\n",
       "      <td>2024</td>\n",
       "      <td>6</td>\n",
       "      <td>10</td>\n",
       "      <td>2024-06-10</td>\n",
       "      <td>-2.570161</td>\n",
       "      <td>0.511764</td>\n",
       "      <td>8</td>\n",
       "      <td>2.620616</td>\n",
       "      <td>000</td>\n",
       "    </tr>\n",
       "    <tr>\n",
       "      <th>66</th>\n",
       "      <td>2024</td>\n",
       "      <td>6</td>\n",
       "      <td>11</td>\n",
       "      <td>2024-06-11</td>\n",
       "      <td>-2.009357</td>\n",
       "      <td>0.886031</td>\n",
       "      <td>8</td>\n",
       "      <td>2.196034</td>\n",
       "      <td>000</td>\n",
       "    </tr>\n",
       "    <tr>\n",
       "      <th>67</th>\n",
       "      <td>2024</td>\n",
       "      <td>6</td>\n",
       "      <td>12</td>\n",
       "      <td>2024-06-12</td>\n",
       "      <td>-1.817034</td>\n",
       "      <td>1.027767</td>\n",
       "      <td>8</td>\n",
       "      <td>2.087563</td>\n",
       "      <td>000</td>\n",
       "    </tr>\n",
       "    <tr>\n",
       "      <th>68</th>\n",
       "      <td>2024</td>\n",
       "      <td>6</td>\n",
       "      <td>13</td>\n",
       "      <td>2024-06-13</td>\n",
       "      <td>-1.921783</td>\n",
       "      <td>1.107248</td>\n",
       "      <td>8</td>\n",
       "      <td>2.217938</td>\n",
       "      <td>000</td>\n",
       "    </tr>\n",
       "    <tr>\n",
       "      <th>69</th>\n",
       "      <td>2024</td>\n",
       "      <td>6</td>\n",
       "      <td>14</td>\n",
       "      <td>2024-06-14</td>\n",
       "      <td>-2.153681</td>\n",
       "      <td>1.317954</td>\n",
       "      <td>8</td>\n",
       "      <td>2.524945</td>\n",
       "      <td>000</td>\n",
       "    </tr>\n",
       "  </tbody>\n",
       "</table>\n",
       "<p>70 rows × 9 columns</p>\n",
       "</div>"
      ],
      "text/plain": [
       "    Year  Month  Day       date       PC1       PC2  8_phases       amp  mem\n",
       "0   2024      4    6 2024-04-06 -0.138533 -0.259654         2  0.294298  000\n",
       "1   2024      4    7 2024-04-07 -0.295820 -0.146650         1  0.330176  000\n",
       "2   2024      4    8 2024-04-08 -0.260118 -0.545796         2  0.604611  000\n",
       "3   2024      4    9 2024-04-09 -0.142119 -0.379965         2  0.405674  000\n",
       "4   2024      4   10 2024-04-10 -0.193734 -0.433561         2  0.474877  000\n",
       "..   ...    ...  ...        ...       ...       ...       ...       ...  ...\n",
       "65  2024      6   10 2024-06-10 -2.570161  0.511764         8  2.620616  000\n",
       "66  2024      6   11 2024-06-11 -2.009357  0.886031         8  2.196034  000\n",
       "67  2024      6   12 2024-06-12 -1.817034  1.027767         8  2.087563  000\n",
       "68  2024      6   13 2024-06-13 -1.921783  1.107248         8  2.217938  000\n",
       "69  2024      6   14 2024-06-14 -2.153681  1.317954         8  2.524945  000\n",
       "\n",
       "[70 rows x 9 columns]"
      ]
     },
     "execution_count": 190,
     "metadata": {},
     "output_type": "execute_result"
    }
   ],
   "source": [
    "pcs"
   ]
  },
  {
   "cell_type": "code",
   "execution_count": null,
   "id": "9a7edc90-abed-4153-8e2f-bf016bd01e02",
   "metadata": {},
   "outputs": [],
   "source": []
  }
 ],
 "metadata": {
  "kernelspec": {
   "display_name": "Python 3 (ipykernel)",
   "language": "python",
   "name": "python3"
  },
  "language_info": {
   "codemirror_mode": {
    "name": "ipython",
    "version": 3
   },
   "file_extension": ".py",
   "mimetype": "text/x-python",
   "name": "python",
   "nbconvert_exporter": "python",
   "pygments_lexer": "ipython3",
   "version": "3.11.7"
  }
 },
 "nbformat": 4,
 "nbformat_minor": 5
}
