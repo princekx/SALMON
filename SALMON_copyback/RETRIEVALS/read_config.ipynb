{
 "cells": [
  {
   "cell_type": "code",
   "execution_count": 1,
   "id": "6b441d85-18f2-462a-97e6-46793327622e",
   "metadata": {},
   "outputs": [],
   "source": [
    "import yaml"
   ]
  },
  {
   "cell_type": "code",
   "execution_count": 22,
   "id": "68e12f26-dedf-48f7-92db-ae589830b88a",
   "metadata": {},
   "outputs": [],
   "source": [
    "with open('salmon_config.yaml', 'r') as f:\n",
    "    config = yaml.safe_load(f)"
   ]
  },
  {
   "cell_type": "code",
   "execution_count": 23,
   "id": "9c0f88ab-625d-4036-87f6-bd97fc4eb0db",
   "metadata": {},
   "outputs": [],
   "source": [
    "dd = config['analysis']"
   ]
  },
  {
   "cell_type": "code",
   "execution_count": 24,
   "id": "2322cca2-8780-4b91-a3fe-fa4f5e7c0699",
   "metadata": {},
   "outputs": [
    {
     "name": "stdout",
     "output_type": "stream",
     "text": [
      "{'analysis_raw_dir': '/scratch/hadpx/SEA_monitoring/raw_data/analysis/analysis_bucket', 'analysis_moose_dir': 'moose:/opfc/atm/global/prods/', 'analysis_dummy_queryfiles_dir': '/scratch/hadpx/SEA_monitoring/temp', 'mjo': {'analysis_mjo_queryfile': '/home/users/prince.xavier/MJO/Monitoring_new/MJO/analysis/mjo_combined.query', 'analysis_mjo_processed_dir': '/scratch/hadpx/SEA_monitoring/processed_SEA_data/analysis/', 'analysis_mjo_rmm_archive_dir': '/project/MJO_GCSS/SEA_monitoring/processed_MJO_data/analysis/rmms/'}, 'eqwaves': {'analysis_eqwaves_query_file': '/home/users/prince.xavier/MJO/Monitoring_new/EQWAVES/analysis/eqw_combined.query', 'analysis_eqwaves_processed_dir': '/scratch/hadpx/SEA_monitoring/processed_SEA_data/analysis/eqwaves'}}\n"
     ]
    }
   ],
   "source": [
    "config_values={}\n",
    "for option, value in dd.items():\n",
    "    config_values[option] = value\n",
    "print(config_values)"
   ]
  },
  {
   "cell_type": "code",
   "execution_count": 35,
   "id": "b2705b1b-68be-418e-8e21-0000f13a724b",
   "metadata": {},
   "outputs": [],
   "source": [
    "def flatten_dict(d, parent_key=None, sep='_'):\n",
    "    items = []\n",
    "    for k, v in d.items():\n",
    "        #new_key = f\"{parent_key}{sep}{k}\" if not parent_key else k\n",
    "        new_key = k\n",
    "        if isinstance(v, dict):\n",
    "            items.extend(flatten_dict(v, new_key, sep=sep).items())\n",
    "        else:\n",
    "            items.append((new_key, v))\n",
    "    return dict(items)"
   ]
  },
  {
   "cell_type": "code",
   "execution_count": 36,
   "id": "ab311402-a707-48e6-922d-5327276ff0b6",
   "metadata": {},
   "outputs": [
    {
     "data": {
      "text/plain": [
       "{'analysis_raw_dir': '/scratch/hadpx/SEA_monitoring/raw_data/analysis/analysis_bucket',\n",
       " 'analysis_moose_dir': 'moose:/opfc/atm/global/prods/',\n",
       " 'analysis_dummy_queryfiles_dir': '/scratch/hadpx/SEA_monitoring/temp',\n",
       " 'analysis_mjo_queryfile': '/home/users/prince.xavier/MJO/Monitoring_new/MJO/analysis/mjo_combined.query',\n",
       " 'analysis_mjo_processed_dir': '/scratch/hadpx/SEA_monitoring/processed_SEA_data/analysis/',\n",
       " 'analysis_mjo_rmm_archive_dir': '/project/MJO_GCSS/SEA_monitoring/processed_MJO_data/analysis/rmms/',\n",
       " 'analysis_eqwaves_query_file': '/home/users/prince.xavier/MJO/Monitoring_new/EQWAVES/analysis/eqw_combined.query',\n",
       " 'analysis_eqwaves_processed_dir': '/scratch/hadpx/SEA_monitoring/processed_SEA_data/analysis/eqwaves'}"
      ]
     },
     "execution_count": 36,
     "metadata": {},
     "output_type": "execute_result"
    }
   ],
   "source": [
    "flattened_dict = flatten_dict(dd, parent_key=None)\n",
    "flattened_dict"
   ]
  },
  {
   "cell_type": "code",
   "execution_count": null,
   "id": "7d7ac133-5927-4dfc-ac0f-4be3c8060e54",
   "metadata": {},
   "outputs": [],
   "source": []
  }
 ],
 "metadata": {
  "kernelspec": {
   "display_name": "Python 3 (ipykernel)",
   "language": "python",
   "name": "python3"
  },
  "language_info": {
   "codemirror_mode": {
    "name": "ipython",
    "version": 3
   },
   "file_extension": ".py",
   "mimetype": "text/x-python",
   "name": "python",
   "nbconvert_exporter": "python",
   "pygments_lexer": "ipython3",
   "version": "3.11.7"
  }
 },
 "nbformat": 4,
 "nbformat_minor": 5
}
