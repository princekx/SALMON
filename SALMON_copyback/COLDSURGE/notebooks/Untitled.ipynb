{
 "cells": [
  {
   "cell_type": "code",
   "execution_count": 31,
   "id": "481fc14c-d911-4d70-a25a-b09ca97e3f5a",
   "metadata": {},
   "outputs": [],
   "source": [
    "import numpy as np\n",
    "import scipy\n",
    "import matplotlib as mpl"
   ]
  },
  {
   "cell_type": "code",
   "execution_count": 32,
   "id": "a8dc4b59-4bc4-44fe-90f4-20006b2be5a0",
   "metadata": {},
   "outputs": [],
   "source": [
    "def spread_colorbar(C):\n",
    "    x = np.linspace(0, 256, len(C))\n",
    "    xnew = np.arange(256)\n",
    "    fr = scipy.interpolate.interp1d(x, C[:, 0])\n",
    "    fg = scipy.interpolate.interp1d(x, C[:, 1])\n",
    "    fb = scipy.interpolate.interp1d(x, C[:, 2])\n",
    "    C = np.array([fr(xnew).astype(int), fg(xnew).astype(int), fb(xnew).astype(int)]).T\n",
    "    return C"
   ]
  },
  {
   "cell_type": "code",
   "execution_count": null,
   "id": "882760d6-8f48-4f28-a160-29cc6094aa91",
   "metadata": {},
   "outputs": [],
   "source": []
  },
  {
   "cell_type": "code",
   "execution_count": 33,
   "id": "22212727-14a8-496e-a5aa-c541f6cd970e",
   "metadata": {},
   "outputs": [],
   "source": [
    "rgb_values_str = \";R   G   B\\n\" \\\n",
    "                 \"130 32  240\\n\" \\\n",
    "                 \"0   0   150\\n\" \\\n",
    "                 \"0   0   205\\n\" \\\n",
    "                 \"65  105 225\\n\" \\\n",
    "                 \"30  144 255\\n\" \\\n",
    "                 \"0   191 255\\n\" \\\n",
    "                 \"160 210 255\\n\" \\\n",
    "                 \"210 245 255\\n\" \\\n",
    "                 \"255 255 200\\n\" \\\n",
    "                 \"255 225 50\\n\" \\\n",
    "                 \"255 170 0\\n\" \\\n",
    "                 \"255 110 0\\n\" \\\n",
    "                 \"255 0   0\\n\" \\\n",
    "                 \"200 0   0\\n\" \\\n",
    "                 \"160 35  35\\n\" \\\n",
    "                 \"255 105 180\""
   ]
  },
  {
   "cell_type": "code",
   "execution_count": 34,
   "id": "f5b815b7-3f41-4a46-8253-5b2f4ed81f84",
   "metadata": {},
   "outputs": [],
   "source": [
    "lines = rgb_values_str.split('\\n')"
   ]
  },
  {
   "cell_type": "code",
   "execution_count": 35,
   "id": "d3bb2ff5-e058-40ba-aa0b-e913dd47d792",
   "metadata": {},
   "outputs": [
    {
     "data": {
      "text/plain": [
       "';R   G   B'"
      ]
     },
     "execution_count": 35,
     "metadata": {},
     "output_type": "execute_result"
    }
   ],
   "source": [
    "lines.pop(0)"
   ]
  },
  {
   "cell_type": "code",
   "execution_count": 36,
   "id": "d56644ea-8458-4bc7-91cb-d6f3bbb63830",
   "metadata": {},
   "outputs": [
    {
     "data": {
      "text/plain": [
       "['130 32  240',\n",
       " '0   0   150',\n",
       " '0   0   205',\n",
       " '65  105 225',\n",
       " '30  144 255',\n",
       " '0   191 255',\n",
       " '160 210 255',\n",
       " '210 245 255',\n",
       " '255 255 200',\n",
       " '255 225 50',\n",
       " '255 170 0',\n",
       " '255 110 0',\n",
       " '255 0   0',\n",
       " '200 0   0',\n",
       " '160 35  35',\n",
       " '255 105 180']"
      ]
     },
     "execution_count": 36,
     "metadata": {},
     "output_type": "execute_result"
    }
   ],
   "source": [
    "lines"
   ]
  },
  {
   "cell_type": "code",
   "execution_count": 37,
   "id": "04450dd5-f492-456d-bd92-af25b532a20a",
   "metadata": {},
   "outputs": [],
   "source": [
    "# Initialize an empty list to store RGB values\n",
    "rgb_values = []\n",
    "for line in lines:\n",
    "    # Split the line into individual RGB values\n",
    "    r, g, b = map(int, line.split())\n",
    "    # Append the RGB values to the list\n",
    "    rgb_values.append([r, g, b])"
   ]
  },
  {
   "cell_type": "code",
   "execution_count": 38,
   "id": "b3173daa-cfbe-49ed-8194-7e8e2debeadd",
   "metadata": {},
   "outputs": [
    {
     "data": {
      "text/plain": [
       "array([[130,  32, 240],\n",
       "       [  0,   0, 150],\n",
       "       [  0,   0, 205],\n",
       "       [ 65, 105, 225],\n",
       "       [ 30, 144, 255],\n",
       "       [  0, 191, 255],\n",
       "       [160, 210, 255],\n",
       "       [210, 245, 255],\n",
       "       [255, 255, 200],\n",
       "       [255, 225,  50],\n",
       "       [255, 170,   0],\n",
       "       [255, 110,   0],\n",
       "       [255,   0,   0],\n",
       "       [200,   0,   0],\n",
       "       [160,  35,  35],\n",
       "       [255, 105, 180]])"
      ]
     },
     "execution_count": 38,
     "metadata": {},
     "output_type": "execute_result"
    }
   ],
   "source": [
    "# Convert the list to a NumPy array\n",
    "C = np.array(rgb_values)\n",
    "C"
   ]
  },
  {
   "cell_type": "code",
   "execution_count": 39,
   "id": "5e15d27c-4cac-451f-a72b-19988cb2cfa6",
   "metadata": {},
   "outputs": [],
   "source": [
    "C = spread_colorbar(C)"
   ]
  },
  {
   "cell_type": "code",
   "execution_count": 41,
   "id": "720fd5e3-a841-4f0d-af76-4d763403dca5",
   "metadata": {},
   "outputs": [
    {
     "data": {
      "image/png": "[encoded data removed]",
      "text/html": [
       "<div style=\"vertical-align: middle;\"><strong>from_list</strong> </div><div class=\"cmap\"><img alt=\"from_list colormap\" title=\"from_list\" style=\"border: 1px solid #555;\" src=\"data:image/png;base64,iVBORw0KGgoAAAANSUhEUgAAAgAAAABACAYAAABsv8+/AAAAGHRFWHRUaXRsZQBmcm9tX2xpc3QgY29sb3JtYXBDL89FAAAAHnRFWHREZXNjcmlwdGlvbgBmcm9tX2xpc3QgY29sb3JtYXABtCnOAAAAMHRFWHRBdXRob3IATWF0cGxvdGxpYiB2My44LjAsIGh0dHBzOi8vbWF0cGxvdGxpYi5vcmefc/hPAAAAMnRFWHRTb2Z0d2FyZQBNYXRwbG90bGliIHYzLjguMCwgaHR0cHM6Ly9tYXRwbG90bGliLm9yZ7HVZ2gAAAJKSURBVHic7dbLbtNQFIbRHTsphJfgWXlihjQ0FwY+BvlUjtMWxOBfa7J1LjGRUaNv9+3r91tV1fP1Z03zpaqqTm2u77f1bXn+597a/vK5p9vLYlaND879B8/v3xv2w3T6tJt229z389O8Hu7fe+f92zjdu85z2LU5LOfK+WXs7vWff3U+7/f35nW171Vtv5v/6HxeH6avUcc2v8zrYWV/7f7Gc7buHdq98S/P4dH77X2Mu+s06zJ9fndu+23d9uf1WOd2r9+/LPfr/nN+/zvz52r6e67rc5s/lvPWrft7bz7v7s3nl1Obl25O76nO/X43t84fvTe9nmqv5/+t59ley/zf9Gq9tv/W9cr+7Xz/667NrXvvfc511/1Odr9//frD++0Ptj8/7I9VVfW0/9zmse1vrA/L9fz5/nlb6/ZzAgAkEQAAEEgAAEAgAQAAgQQAAAQSAAAQSAAAQCABAACBBAAABBIAABBIAABAIAEAAIEEAAAEEgAAEEgAAEAgAQAAgQQAAAQSAAAQSAAAQCABAACBBAAABBIAABBIAABAIAEAAIEEAAAEEgAAEEgAAEAgAQAAgQQAAAQSAAAQSAAAQCABAACBBAAABBIAABBIAABAIAEAAIEEAAAEEgAAEEgAAEAgAQAAgQQAAAQSAAAQSAAAQCABAACBBAAABBIAABBIAABAIAEAAIEEAAAEEgAAEEgAAEAgAQAAgQQAAAQSAAAQSAAAQCABAACBBAAABBIAABBIAABAIAEAAIEEAAAEEgAAEEgAAECgX/7p8oRV3MI5AAAAAElFTkSuQmCC\"></div><div style=\"vertical-align: middle; max-width: 514px; display: flex; justify-content: space-between;\"><div style=\"float: left;\"><div title=\"#8120efff\" style=\"display: inline-block; width: 1em; height: 1em; margin: 0; vertical-align: middle; border: 1px solid #555; background-color: #8120efff;\"></div> under</div><div style=\"margin: 0 auto; display: inline-block;\">bad <div title=\"#00000000\" style=\"display: inline-block; width: 1em; height: 1em; margin: 0; vertical-align: middle; border: 1px solid #555; background-color: #00000000;\"></div></div><div style=\"float: right;\">over <div title=\"#f864aaff\" style=\"display: inline-block; width: 1em; height: 1em; margin: 0; vertical-align: middle; border: 1px solid #555; background-color: #f864aaff;\"></div></div>"
      ],
      "text/plain": [
       "<matplotlib.colors.ListedColormap at 0x7ff7fe3cfb80>"
      ]
     },
     "execution_count": 41,
     "metadata": {},
     "output_type": "execute_result"
    }
   ],
   "source": [
    "cm = mpl.colors.ListedColormap(C / 256.)\n",
    "cm"
   ]
  },
  {
   "cell_type": "code",
   "execution_count": 43,
   "id": "750c70ac-1d99-429f-9a63-3afdf2896a72",
   "metadata": {},
   "outputs": [
    {
     "data": {
      "image/png": "[encoded data removed]",
      "text/html": [
       "<div style=\"vertical-align: middle;\"><strong>from_list</strong> </div><div class=\"cmap\"><img alt=\"from_list colormap\" title=\"from_list\" style=\"border: 1px solid #555;\" src=\"data:image/png;base64,iVBORw0KGgoAAAANSUhEUgAAAgAAAABACAYAAABsv8+/AAAAGHRFWHRUaXRsZQBmcm9tX2xpc3QgY29sb3JtYXBDL89FAAAAHnRFWHREZXNjcmlwdGlvbgBmcm9tX2xpc3QgY29sb3JtYXABtCnOAAAAMHRFWHRBdXRob3IATWF0cGxvdGxpYiB2My44LjAsIGh0dHBzOi8vbWF0cGxvdGxpYi5vcmefc/hPAAAAMnRFWHRTb2Z0d2FyZQBNYXRwbG90bGliIHYzLjguMCwgaHR0cHM6Ly9tYXRwbG90bGliLm9yZ7HVZ2gAAAJOSURBVHic7dbNbptAGIbRAbtxcp29u15gk9oGumCMxNjUIVW7ec/ZfJqfkIjI1tN9fP8xlVLK+fpRSinlcn0ve9bnur5cmnV73qzb5/XjuJ7DUEop5dDu1/m3+3f3pmneL7NjnYcn89m9rz6nu2281Hlq1lv7e9fP7h2bufUH/7f14fE8buzvvbec9xv36ovp3ubZv9b5tp5ds27v7T5f3xvrP2qoL2ic5hc0THVd92/rob7AcVmvz8fm3tZzlt+z7M/vqX5cyzD+eY5Pzr86L3X+nD/G5b2Zy/5n7z3b33jOpc6uvo9+aNbjev/fnU91PT5eL/vt9+X63mHr/G7/8XlX5/U8PZzDsq73fj2+t/f+0KzHa30xZWjmdWN/773PPmeep+7bar728+f51N/W63mq53f73Utzr/35refO+/VbDgBIIgAAIJAAAIBAAgAAAgkAAAgkAAAgkAAAgEACAAACCQAACCQAACCQAACAQAIAAAIJAAAIJAAAIJAAAIBAAgAAAgkAAAgkAAAgkAAAgEACAAACCQAACCQAACCQAACAQAIAAAIJAAAIJAAAIJAAAIBAAgAAAgkAAAgkAAAgkAAAgEACAAACCQAACCQAACCQAACAQAIAAAIJAAAIJAAAIJAAAIBAAgAAAgkAAAgkAAAgkAAAgEACAAACCQAACCQAACCQAACAQAIAAAIJAAAIJAAAIJAAAIBAAgAAAgkAAAgkAAAgkAAAgEACAAACCQAACCQAACCQAACAQAIAAAIJAAAIJAAAIJAAAIBAvwHcTy0dHyH2SgAAAABJRU5ErkJggg==\"></div><div style=\"vertical-align: middle; max-width: 514px; display: flex; justify-content: space-between;\"><div style=\"float: left;\"><div title=\"#f864aaff\" style=\"display: inline-block; width: 1em; height: 1em; margin: 0; vertical-align: middle; border: 1px solid #555; background-color: #f864aaff;\"></div> under</div><div style=\"margin: 0 auto; display: inline-block;\">bad <div title=\"#00000000\" style=\"display: inline-block; width: 1em; height: 1em; margin: 0; vertical-align: middle; border: 1px solid #555; background-color: #00000000;\"></div></div><div style=\"float: right;\">over <div title=\"#8120efff\" style=\"display: inline-block; width: 1em; height: 1em; margin: 0; vertical-align: middle; border: 1px solid #555; background-color: #8120efff;\"></div></div>"
      ],
      "text/plain": [
       "<matplotlib.colors.ListedColormap at 0x7ff7fe3cfaf0>"
      ]
     },
     "execution_count": 43,
     "metadata": {},
     "output_type": "execute_result"
    }
   ],
   "source": [
    "cm = mpl.colors.ListedColormap(C[::-1] / 256.)\n",
    "cm"
   ]
  },
  {
   "cell_type": "code",
   "execution_count": null,
   "id": "9ea9748d-d5d6-4085-853b-62906ee97e61",
   "metadata": {},
   "outputs": [],
   "source": []
  }
 ],
 "metadata": {
  "kernelspec": {
   "display_name": "Python 3 (ipykernel)",
   "language": "python",
   "name": "python3"
  },
  "language_info": {
   "codemirror_mode": {
    "name": "ipython",
    "version": 3
   },
   "file_extension": ".py",
   "mimetype": "text/x-python",
   "name": "python",
   "nbconvert_exporter": "python",
   "pygments_lexer": "ipython3",
   "version": "3.10.12"
  }
 },
 "nbformat": 4,
 "nbformat_minor": 5
}
