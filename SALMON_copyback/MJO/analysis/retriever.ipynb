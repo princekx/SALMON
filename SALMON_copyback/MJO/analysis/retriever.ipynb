{
 "cells": [
  {
   "cell_type": "code",
   "execution_count": 2,
   "id": "860a1873-bd29-488f-9bf2-3cd0e04f6360",
   "metadata": {},
   "outputs": [],
   "source": [
    "import os, glob, sys\n",
    "import configparser\n",
    "import datetime\n",
    "import numpy as np\n",
    "import uuid\n",
    "from concurrent.futures import ThreadPoolExecutor"
   ]
  },
  {
   "cell_type": "code",
   "execution_count": 8,
   "id": "d30cfeb8-fe3d-4aa3-bc8f-77e4f3d5dce4",
   "metadata": {},
   "outputs": [],
   "source": [
    "class ConfigReader:\n",
    "    def __init__(self):\n",
    "        self.config_values = {}\n",
    "\n",
    "    def read_config_file(self):\n",
    "        \n",
    "        # Navigate to the parent directory\n",
    "        parent_dir = os.getcwd()\n",
    "\n",
    "        # Specify the path to the config file in the parent directory\n",
    "        #config_path = os.path.join(parent_dir, 'config.ini')\n",
    "\n",
    "        # options for jupyter-lab\n",
    "        # Get the current notebook's directory\n",
    "        parent_dir = os.path.dirname(os.path.abspath(''))\n",
    "        #parent_dir = os.path.dirname(notebook_directory)\n",
    "        \n",
    "        # Specify the path to the config file in the parent directory\n",
    "        config_path = os.path.join(parent_dir, 'config.ini')\n",
    "        print(config_path)\n",
    "\n",
    "        # Read the configuration file\n",
    "        config = configparser.ConfigParser()\n",
    "        config.read(config_path)\n",
    "\n",
    "        # Get options in the 'analysis' section and store in the dictionary\n",
    "        for option, value in config.items('analysis'):\n",
    "            self.config_values[option] = value\n",
    "\n",
    "    def check_201_prev_days(self, start_date, num_prev_days=201):\n",
    "        #missing_dates = [\n",
    "        #    date for date in (start_date - datetime.timedelta(days=i) for i in range(num_prev_days))\n",
    "        #    if not all(\n",
    "        #        len(glob.glob(os.path.join(self.config_values['analysis_processed_dir'], date.strftime(\"%Y%m%d\"), \"*.nc\"))) == 2\n",
    "        #    )\n",
    "        #]\n",
    "        missing_dates = [date for date in (start_date - datetime.timedelta(days=i) for i in range(num_prev_days))]\n",
    "        print(missing_dates)\n",
    "        '''\n",
    "        # Process missing dates using ThreadPoolExecutor\n",
    "        with ThreadPoolExecutor(max_workers=5) as executor:  # Set the number of workers as needed\n",
    "            futures = {executor.submit(self.retrieve_analysis_data, missing_date): missing_date for missing_date in missing_dates}\n",
    "\n",
    "        # Check if tasks are completed\n",
    "        completed_tasks = [future for future in futures if future.done()]\n",
    "        print(f\"Completed tasks: {len(completed_tasks)} out of {len(missing_dates)}\")\n",
    "        '''\n",
    "        for date in missing_dates:\n",
    "            self.retrieve_analysis_data(date)\n",
    "\n",
    "    def retrieve_analysis_data(self, date):\n",
    "        print('Retrieving data for date:', date)\n",
    "        self.retrieve_var_data(date)\n",
    "        print('Data retrieval complete.')\n",
    "\n",
    "    def retrieve_var_data(self, date, varname):\n",
    "        query_files_dir = self.config_values['analysis_queryfiles']\n",
    "        moosedir = os.path.join(self.config_values['analysis_moose_dir'], f'{str(date.year)}.pp')\n",
    "        fc_times = np.arange(0, 168, 12)\n",
    "        hr_list = ['00', '12']\n",
    "        \n",
    "        for hr in hr_list:\n",
    "            remote_data_dir = os.path.join(self.config_values['analysis_raw_dir'], varname, \n",
    "                                           str(date.year), f'{date.month:02d}', f'{date.day:02d}')\n",
    "            if not os.path.exists(remote_data_dir):\n",
    "                os.makedirs(remote_data_dir)\n",
    "            for fc in fc_times:\n",
    "                self.retrieve_fc_data(date, varname, hr, fc, remote_data_dir, moosedir)\n",
    "\n",
    "    def retrieve_fc_data(self, date, varname, hr, fc, remote_data_dir, moosedir):\n",
    "        fct = f'{fc:03d}' if fc != 0 else '003'\n",
    "        filemoose = f'prods_op_gl-mn_{date.strftime(\"%Y%m%d\")}_{hr}_{fct}.pp'\n",
    "        if date >= datetime.datetime(2018, 9, 25):\n",
    "            filemoose = f'prods_op_gl-mn_{date.strftime(\"%Y%m%d\")}_{hr}_{fct}.pp'\n",
    "        outfile = f'qg{hr}T{fct}.pp'\n",
    "        file_moose = os.path.join(moosedir, filemoose)\n",
    "        local_query_file1 = os.path.join(self.config_values['analysis_dummy_queryfiles_dir'], \n",
    "                                         f'localquery_{varname}_{uuid.uuid1()}')\n",
    "        self.create_query_file(varname, local_query_file1, filemoose, fct)\n",
    "\n",
    "        #if not self.check_retrieval_complete(outfile, remote_data_dir):\n",
    "        self.retrieve_missing_data(local_query_file1, moosedir, outfile, remote_data_dir)\n",
    "\n",
    "    def create_query_file(self, varname, local_query_file1, filemoose, fct):\n",
    "        query_files_dir = self.config_values['analysis_queryfiles']\n",
    "        replacements = {'fctime': fct, 'filemoose': filemoose}\n",
    "        query_file = os.path.join(query_files_dir, varname)\n",
    "        with open(query_file) as query_infile, open(local_query_file1, 'w') as query_outfile:\n",
    "            for line in query_infile:\n",
    "                for src, target in replacements.items():\n",
    "                    line = line.replace(src, target)\n",
    "                query_outfile.write(line)\n",
    "\n",
    "    def check_retrieval_complete(self, outfile, remote_data_dir):\n",
    "        outfile_path = os.path.join(remote_data_dir, outfile)\n",
    "        return os.path.exists(outfile_path) and os.path.getsize(outfile_path) > 0\n",
    "\n",
    "    def retrieve_missing_data(self, local_query_file1, moosedir, outfile, remote_data_dir):\n",
    "        command = f'/opt/moose-client-wrapper/bin/moo select {local_query_file1} {moosedir} {os.path.join(remote_data_dir, outfile)}'\n",
    "        os.system(command)\n",
    "        print(command)\n",
    "\n",
    "        # Consider using subprocess to capture output/error instead of os.system()\n",
    "        # subprocess.run(command, shell=True)\n",
    "        # You can also handle the specific exceptions to avoid a sudden exit (sys.exit())\n"
   ]
  },
  {
   "cell_type": "code",
   "execution_count": 9,
   "id": "ce78803c-7127-4f46-87cb-05cbf55585b5",
   "metadata": {},
   "outputs": [
    {
     "name": "stdout",
     "output_type": "stream",
     "text": [
      "/home/users/prince.xavier/MJO/Monitoring_new/config.ini\n",
      "[datetime.datetime(2023, 11, 5, 0, 0), datetime.datetime(2023, 11, 4, 0, 0)]\n"
     ]
    },
    {
     "ename": "SystemExit",
     "evalue": "",
     "output_type": "error",
     "traceback": [
      "An exception has occurred, use %tb to see the full traceback.\n",
      "\u001b[0;31mSystemExit\u001b[0m\n"
     ]
    },
    {
     "name": "stderr",
     "output_type": "stream",
     "text": [
      "/opt/scitools/conda/deployments/default-2023_10_10/lib/python3.10/site-packages/IPython/core/interactiveshell.py:3534: UserWarning: To exit: use 'exit', 'quit', or Ctrl-D.\n",
      "  warn(\"To exit: use 'exit', 'quit', or Ctrl-D.\", stacklevel=1)\n"
     ]
    }
   ],
   "source": [
    "# Usage:\n",
    "reader = ConfigReader()\n",
    "reader.read_config_file()\n",
    "values = reader.check_201_prev_days(datetime.datetime(2023, 11, 5), num_prev_days=2)\n",
    "#print(values)"
   ]
  },
  {
   "cell_type": "code",
   "execution_count": null,
   "id": "4f2c57dc-a437-4d5e-8645-c966c8a22cb1",
   "metadata": {},
   "outputs": [],
   "source": []
  },
  {
   "cell_type": "code",
   "execution_count": null,
   "id": "65575612-1c2b-4a83-800d-04321d6e1eb8",
   "metadata": {},
   "outputs": [],
   "source": []
  },
  {
   "cell_type": "code",
   "execution_count": null,
   "id": "45458933-f30d-4d1b-9acc-23992ca68313",
   "metadata": {},
   "outputs": [],
   "source": []
  }
 ],
 "metadata": {
  "kernelspec": {
   "display_name": "Python 3 (ipykernel)",
   "language": "python",
   "name": "python3"
  },
  "language_info": {
   "codemirror_mode": {
    "name": "ipython",
    "version": 3
   },
   "file_extension": ".py",
   "mimetype": "text/x-python",
   "name": "python",
   "nbconvert_exporter": "python",
   "pygments_lexer": "ipython3",
   "version": "3.10.12"
  }
 },
 "nbformat": 4,
 "nbformat_minor": 5
}
