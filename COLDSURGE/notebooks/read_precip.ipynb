{
 "cells": [
  {
   "cell_type": "code",
   "execution_count": 11,
   "id": "7da48f0e-aff6-4a6e-af6d-a0f07c4d6d16",
   "metadata": {},
   "outputs": [],
   "source": [
    "import iris\n",
    "import numpy as np\n",
    "import matplotlib.pyplot as plt\n",
    "import iris.quickplot as qplt\n",
    "import warnings\n",
    "\n",
    "# Set the global warning filter to ignore all warnings\n",
    "warnings.simplefilter(\"ignore\")"
   ]
  },
  {
   "cell_type": "code",
   "execution_count": 76,
   "id": "8db24685-c78d-49fc-853f-ba47c20dd04c",
   "metadata": {},
   "outputs": [],
   "source": [
    "def expand_cubes(cube, ntime):\n",
    "    # Create a new data array with shape (7, 960, 1280)\n",
    "    expanded_data = np.repeat(cube.data[np.newaxis, ...], ntime, axis=0)\n",
    "    expanded_data.shape\n",
    "    \n",
    "    # Create a new time coordinate\n",
    "    time_coord = iris.coords.DimCoord(np.arange(ntime), standard_name='time', units='hours')\n",
    "    \n",
    "    # Create the expanded cube\n",
    "    expanded_cube = iris.cube.Cube(\n",
    "        expanded_data,\n",
    "        long_name=cube.long_name,\n",
    "        var_name=cube.var_name,\n",
    "        units=cube.units,\n",
    "        dim_coords_and_dims=[(time_coord, 0)] + [(coord, i+1) for i, coord in enumerate(cube.dim_coords)]\n",
    "    )\n",
    "    return expanded_cube"
   ]
  },
  {
   "cell_type": "code",
   "execution_count": 143,
   "id": "604cec17-256e-43ef-8d25-30ca0dbe5653",
   "metadata": {},
   "outputs": [
    {
     "data": {
      "text/plain": [
       "8"
      ]
     },
     "execution_count": 143,
     "metadata": {},
     "output_type": "execute_result"
    }
   ],
   "source": [
    "data_files = ['/data/scratch/prince.xavier/SALMON/raw_data/mogreps/mogreps_bucket/20250101/000/englaa_pd000.pp', '/data/scratch/prince.xavier/SALMON/raw_data/mogreps/mogreps_bucket/20250101/000/englaa_pd024.pp', '/data/scratch/prince.xavier/SALMON/raw_data/mogreps/mogreps_bucket/20250101/000/englaa_pd048.pp', '/data/scratch/prince.xavier/SALMON/raw_data/mogreps/mogreps_bucket/20250101/000/englaa_pd072.pp', '/data/scratch/prince.xavier/SALMON/raw_data/mogreps/mogreps_bucket/20250101/000/englaa_pd096.pp', '/data/scratch/prince.xavier/SALMON/raw_data/mogreps/mogreps_bucket/20250101/000/englaa_pd120.pp', '/data/scratch/prince.xavier/SALMON/raw_data/mogreps/mogreps_bucket/20250101/000/englaa_pd144.pp', '/data/scratch/prince.xavier/SALMON/raw_data/mogreps/mogreps_bucket/20250101/000/englaa_pd168.pp']\n",
    "data_files.sort()\n",
    "len(mog_files)"
   ]
  },
  {
   "cell_type": "code",
   "execution_count": 144,
   "id": "26327d7e-cf2b-43e9-99b5-99f84fb870b7",
   "metadata": {},
   "outputs": [],
   "source": [
    "varname = 'precipitation_amount'\n",
    "mem = 0\n",
    "realiz_coord = iris.coords.DimCoord([int(mem)], standard_name='realization',\n",
    "                                                        var_name='realization')\n",
    "                    \n",
    "cubes = []\n",
    "for data_file in data_files:\n",
    "    # Some files have 3 hourly wind data which need to be averaged\n",
    "    cube = iris.load_cube(data_file, varname)\n",
    "    if len(cube.shape) == 3:\n",
    "        cube = cube.collapsed('time', iris.analysis.MEAN)\n",
    "    if cube.coord('forecast_period').bounds is None:\n",
    "        bounds = [[cube.coord('forecast_period').points[0] - 1., cube.coord('forecast_period').points[0] + 1.]]\n",
    "        cube.coord('forecast_period').bounds = bounds\n",
    "    if cube.coord('time').bounds is None:\n",
    "        bounds = [[cube.coord('time').points[0] - 1., cube.coord('time').points[0] + 1.]]\n",
    "        cube.coord('time').bounds = bounds\n",
    "\n",
    "    # Massaging the data for mergine\n",
    "    for coord in ['forecast_reference_time', 'realization', 'time']:\n",
    "        cube.remove_coord(coord) if cube.coords(coord) else None\n",
    "    cube.add_aux_coord(realiz_coord)\n",
    "    cube.coord('forecast_period').points = cube.coord('forecast_period').bounds[:, 1]\n",
    "\n",
    "    cubes.append(cube)"
   ]
  },
  {
   "cell_type": "code",
   "execution_count": 145,
   "id": "db09ad17-72ea-45d2-bb6d-2acacbed9ce7",
   "metadata": {},
   "outputs": [
    {
     "name": "stdout",
     "output_type": "stream",
     "text": [
      "precipitation_amount / (kg m-2)     (latitude: 960; longitude: 1280)\n",
      "    Dimension coordinates:\n",
      "        latitude                             x               -\n",
      "        longitude                            -               x\n",
      "    Scalar coordinates:\n",
      "        forecast_period             0.0 hours\n",
      "        realization                 0\n",
      "    Cell methods:\n",
      "        0                           time: mean (interval: 1 hour)\n",
      "    Attributes:\n",
      "        STASH                       m01s05i226\n",
      "        source                      'Data from Met Office Unified Model'\n",
      "        um_version                  '11.9'\n",
      "precipitation_amount / (kg m-2)     (latitude: 960; longitude: 1280)\n",
      "    Dimension coordinates:\n",
      "        latitude                             x               -\n",
      "        longitude                            -               x\n",
      "    Scalar coordinates:\n",
      "        forecast_period             24.0 hours\n",
      "        realization                 0\n",
      "    Cell methods:\n",
      "        0                           time: mean (interval: 1 hour)\n",
      "    Attributes:\n",
      "        STASH                       m01s05i226\n",
      "        source                      'Data from Met Office Unified Model'\n",
      "        um_version                  '11.9'\n",
      "precipitation_amount / (kg m-2)     (latitude: 960; longitude: 1280)\n",
      "    Dimension coordinates:\n",
      "        latitude                             x               -\n",
      "        longitude                            -               x\n",
      "    Scalar coordinates:\n",
      "        forecast_period             48.0 hours\n",
      "        realization                 0\n",
      "    Cell methods:\n",
      "        0                           time: mean (interval: 1 hour)\n",
      "    Attributes:\n",
      "        STASH                       m01s05i226\n",
      "        source                      'Data from Met Office Unified Model'\n",
      "        um_version                  '11.9'\n",
      "precipitation_amount / (kg m-2)     (latitude: 960; longitude: 1280)\n",
      "    Dimension coordinates:\n",
      "        latitude                             x               -\n",
      "        longitude                            -               x\n",
      "    Scalar coordinates:\n",
      "        forecast_period             72.0 hours\n",
      "        realization                 0\n",
      "    Cell methods:\n",
      "        0                           time: mean (interval: 1 hour)\n",
      "    Attributes:\n",
      "        STASH                       m01s05i226\n",
      "        source                      'Data from Met Office Unified Model'\n",
      "        um_version                  '11.9'\n",
      "precipitation_amount / (kg m-2)     (latitude: 960; longitude: 1280)\n",
      "    Dimension coordinates:\n",
      "        latitude                             x               -\n",
      "        longitude                            -               x\n",
      "    Scalar coordinates:\n",
      "        forecast_period             96.0 hours\n",
      "        realization                 0\n",
      "    Cell methods:\n",
      "        0                           time: mean (interval: 1 hour)\n",
      "    Attributes:\n",
      "        STASH                       m01s05i226\n",
      "        source                      'Data from Met Office Unified Model'\n",
      "        um_version                  '11.9'\n",
      "precipitation_amount / (kg m-2)     (latitude: 960; longitude: 1280)\n",
      "    Dimension coordinates:\n",
      "        latitude                             x               -\n",
      "        longitude                            -               x\n",
      "    Scalar coordinates:\n",
      "        forecast_period             120.0 hours\n",
      "        realization                 0\n",
      "    Cell methods:\n",
      "        0                           time: mean (interval: 1 hour)\n",
      "    Attributes:\n",
      "        STASH                       m01s05i226\n",
      "        source                      'Data from Met Office Unified Model'\n",
      "        um_version                  '11.9'\n",
      "precipitation_amount / (kg m-2)     (latitude: 960; longitude: 1280)\n",
      "    Dimension coordinates:\n",
      "        latitude                             x               -\n",
      "        longitude                            -               x\n",
      "    Scalar coordinates:\n",
      "        forecast_period             144.0 hours\n",
      "        realization                 0\n",
      "    Cell methods:\n",
      "        0                           time: mean (interval: 1 hour)\n",
      "    Attributes:\n",
      "        STASH                       m01s05i226\n",
      "        source                      'Data from Met Office Unified Model'\n",
      "        um_version                  '11.9'\n",
      "precipitation_amount / (kg m-2)     (latitude: 960; longitude: 1280)\n",
      "    Dimension coordinates:\n",
      "        latitude                             x               -\n",
      "        longitude                            -               x\n",
      "    Scalar coordinates:\n",
      "        forecast_period             168.0 hours\n",
      "        realization                 0\n",
      "    Cell methods:\n",
      "        0                           time: mean (interval: 1 hour)\n",
      "    Attributes:\n",
      "        STASH                       m01s05i226\n",
      "        source                      'Data from Met Office Unified Model'\n",
      "        um_version                  '11.9'\n"
     ]
    }
   ],
   "source": [
    "for i, cube in enumerate(cubes):\n",
    "    #print(f\"Cube {i} metadata:\\n{cube.metadata}\\n\")\n",
    "    cube.cell_methods = cubes[0].cell_methods\n",
    "    if cube.coords(\"forecast_period\"):\n",
    "        new_fp = iris.coords.DimCoord(\n",
    "            cube.coord(\"forecast_period\").points, \n",
    "            standard_name=\"forecast_period\",\n",
    "            units=cube.coord(\"forecast_period\").units\n",
    "        )\n",
    "        cube.replace_coord(new_fp)\n",
    "    print(cube)"
   ]
  },
  {
   "cell_type": "code",
   "execution_count": 146,
   "id": "e80838eb-c0f8-4b8c-acfb-785f61bcf82f",
   "metadata": {},
   "outputs": [
    {
     "data": {
      "text/html": [
       "\n",
       "<style>\n",
       "  a.iris {\n",
       "      text-decoration: none !important;\n",
       "  }\n",
       "  table.iris {\n",
       "      white-space: pre;\n",
       "      border: 1px solid;\n",
       "      border-color: #9c9c9c;\n",
       "      font-family: monaco, monospace;\n",
       "  }\n",
       "  th.iris {\n",
       "      background: #303f3f;\n",
       "      color: #e0e0e0;\n",
       "      border-left: 1px solid;\n",
       "      border-color: #9c9c9c;\n",
       "      font-size: 1.05em;\n",
       "      min-width: 50px;\n",
       "      max-width: 125px;\n",
       "  }\n",
       "  tr.iris :first-child {\n",
       "      border-right: 1px solid #9c9c9c !important;\n",
       "  }\n",
       "  td.iris-title {\n",
       "      background: #d5dcdf;\n",
       "      border-top: 1px solid #9c9c9c;\n",
       "      font-weight: bold;\n",
       "  }\n",
       "  .iris-word-cell {\n",
       "      text-align: left !important;\n",
       "      white-space: pre;\n",
       "  }\n",
       "  .iris-subheading-cell {\n",
       "      padding-left: 2em !important;\n",
       "  }\n",
       "  .iris-inclusion-cell {\n",
       "      padding-right: 1em !important;\n",
       "  }\n",
       "  .iris-panel-body {\n",
       "      padding-top: 0px;\n",
       "  }\n",
       "  .iris-panel-title {\n",
       "      padding-left: 3em;\n",
       "  }\n",
       "  .iris-panel-title {\n",
       "      margin-top: 7px;\n",
       "  }\n",
       "</style>\n",
       "<table class=\"iris\" id=\"140529578205568\">\n",
       "    <tr class=\"iris\">\n",
       "<th class=\"iris iris-word-cell\">Precipitation Amount (kg m-2)</th>\n",
       "<th class=\"iris iris-word-cell\">forecast_period</th>\n",
       "<th class=\"iris iris-word-cell\">latitude</th>\n",
       "<th class=\"iris iris-word-cell\">longitude</th>\n",
       "</tr>\n",
       "    <tr class=\"iris\">\n",
       "<td class=\"iris-word-cell iris-subheading-cell\">Shape</td>\n",
       "<td class=\"iris iris-inclusion-cell\">8</td>\n",
       "<td class=\"iris iris-inclusion-cell\">960</td>\n",
       "<td class=\"iris iris-inclusion-cell\">1280</td>\n",
       "</tr>\n",
       "    <tr class=\"iris\">\n",
       "    <td class=\"iris-title iris-word-cell\">Dimension coordinates</td>\n",
       "    <td class=\"iris-title\"></td>\n",
       "    <td class=\"iris-title\"></td>\n",
       "    <td class=\"iris-title\"></td>\n",
       "</tr>\n",
       "<tr class=\"iris\">\n",
       "    <td class=\"iris-word-cell iris-subheading-cell\">\tforecast_period</td>\n",
       "    <td class=\"iris-inclusion-cell\">x</td>\n",
       "    <td class=\"iris-inclusion-cell\">-</td>\n",
       "    <td class=\"iris-inclusion-cell\">-</td>\n",
       "</tr>\n",
       "<tr class=\"iris\">\n",
       "    <td class=\"iris-word-cell iris-subheading-cell\">\tlatitude</td>\n",
       "    <td class=\"iris-inclusion-cell\">-</td>\n",
       "    <td class=\"iris-inclusion-cell\">x</td>\n",
       "    <td class=\"iris-inclusion-cell\">-</td>\n",
       "</tr>\n",
       "<tr class=\"iris\">\n",
       "    <td class=\"iris-word-cell iris-subheading-cell\">\tlongitude</td>\n",
       "    <td class=\"iris-inclusion-cell\">-</td>\n",
       "    <td class=\"iris-inclusion-cell\">-</td>\n",
       "    <td class=\"iris-inclusion-cell\">x</td>\n",
       "</tr>\n",
       "<tr class=\"iris\">\n",
       "    <td class=\"iris-title iris-word-cell\">Scalar coordinates</td>\n",
       "    <td class=\"iris-title\"></td>\n",
       "    <td class=\"iris-title\"></td>\n",
       "    <td class=\"iris-title\"></td>\n",
       "</tr>\n",
       "<tr class=\"iris\">\n",
       "    <td class=\"iris-word-cell iris-subheading-cell\">\trealization</td>\n",
       "    <td class=\"iris-word-cell\" colspan=\"3\">0</td>\n",
       "</tr>\n",
       "<tr class=\"iris\">\n",
       "    <td class=\"iris-title iris-word-cell\">Cell methods</td>\n",
       "    <td class=\"iris-title\"></td>\n",
       "    <td class=\"iris-title\"></td>\n",
       "    <td class=\"iris-title\"></td>\n",
       "</tr>\n",
       "<tr class=\"iris\">\n",
       "    <td class=\"iris-word-cell iris-subheading-cell\">\t0</td>\n",
       "    <td class=\"iris-word-cell\" colspan=\"3\">time: mean (interval: 1 hour)</td>\n",
       "</tr>\n",
       "<tr class=\"iris\">\n",
       "    <td class=\"iris-title iris-word-cell\">Attributes</td>\n",
       "    <td class=\"iris-title\"></td>\n",
       "    <td class=\"iris-title\"></td>\n",
       "    <td class=\"iris-title\"></td>\n",
       "</tr>\n",
       "<tr class=\"iris\">\n",
       "    <td class=\"iris-word-cell iris-subheading-cell\">\tSTASH</td>\n",
       "    <td class=\"iris-word-cell\" colspan=\"3\">m01s05i226</td>\n",
       "</tr>\n",
       "<tr class=\"iris\">\n",
       "    <td class=\"iris-word-cell iris-subheading-cell\">\tsource</td>\n",
       "    <td class=\"iris-word-cell\" colspan=\"3\">&#x27;Data from Met Office Unified Model&#x27;</td>\n",
       "</tr>\n",
       "<tr class=\"iris\">\n",
       "    <td class=\"iris-word-cell iris-subheading-cell\">\tum_version</td>\n",
       "    <td class=\"iris-word-cell\" colspan=\"3\">&#x27;11.9&#x27;</td>\n",
       "</tr>\n",
       "</table>\n",
       "        "
      ],
      "text/plain": [
       "<iris 'Cube' of precipitation_amount / (kg m-2) (forecast_period: 8; latitude: 960; longitude: 1280)>"
      ]
     },
     "execution_count": 146,
     "metadata": {},
     "output_type": "execute_result"
    }
   ],
   "source": [
    "iris.cube.CubeList(cubes).merge_cube()"
   ]
  },
  {
   "cell_type": "code",
   "execution_count": 95,
   "id": "8e118664-a35c-41d3-890a-594557455bc7",
   "metadata": {},
   "outputs": [],
   "source": [
    "cube = iris.load_cube(mog_files, 'precipitation_amount')\n",
    "cube.data[1:] -= cube.data[:-1]"
   ]
  },
  {
   "cell_type": "code",
   "execution_count": 96,
   "id": "599d5109-e725-432b-a0bb-c11daa198a43",
   "metadata": {},
   "outputs": [],
   "source": []
  },
  {
   "cell_type": "code",
   "execution_count": 102,
   "id": "5ba80569-fe56-47a4-b274-1ac64e1c905e",
   "metadata": {},
   "outputs": [],
   "source": [
    "cube = iris.load_cube(mog_files[0], 'precipitation_amount')\n",
    "#cubes = [cube for i in range(7)]\n",
    "cubes = expand_cubes(cube, len(mog_files))\n",
    "time_unit = cube.coord('time').units\n",
    "#cubes.coord('time').units = time_units\n",
    "#print(cubes.coord('time')) "
   ]
  },
  {
   "cell_type": "code",
   "execution_count": 103,
   "id": "e66dac2b-d78c-4621-a004-ae3f9be55f12",
   "metadata": {},
   "outputs": [],
   "source": [
    "for i, data_file in enumerate(mog_files):\n",
    "    # Some files have 3 hourly wind data which need to be averaged\n",
    "    cube = iris.load_cube(data_file, 'precipitation_amount')\n",
    "    if len(cube.shape) == 3:\n",
    "        cube = cube.collapsed('time', iris.analysis.MEAN)\n",
    "    cubes.data[i] = cube.data\n",
    "    cube.add_aux_coord(iris.coords.AuxCoord(cube.coord('time').points[0]+i*24,\n",
    "                                            long_name='forecast_time', units=time_unit))"
   ]
  },
  {
   "cell_type": "code",
   "execution_count": 108,
   "id": "44cdee86-1017-4133-aced-a56cefc8673b",
   "metadata": {
    "scrolled": true
   },
   "outputs": [
    {
     "data": {
      "text/plain": [
       "<DimCoord: time / (hours)  [0, 1, ..., 6, 7]  shape(8,)>"
      ]
     },
     "execution_count": 108,
     "metadata": {},
     "output_type": "execute_result"
    }
   ],
   "source": [
    "cubes.coord('time')"
   ]
  },
  {
   "cell_type": "code",
   "execution_count": 54,
   "id": "adcf8ae9-705b-4efb-9efe-851a476a4133",
   "metadata": {},
   "outputs": [
    {
     "ename": "ConcatenateError",
     "evalue": "failed to concatenate into a single cube.\n  Scalar coordinates values or metadata differ: time, forecast_period != time, forecast_period",
     "output_type": "error",
     "traceback": [
      "\u001b[0;31m---------------------------------------------------------------------------\u001b[0m",
      "\u001b[0;31mConcatenateError\u001b[0m                          Traceback (most recent call last)",
      "Cell \u001b[0;32mIn[54], line 2\u001b[0m\n\u001b[1;32m      1\u001b[0m \u001b[38;5;66;03m#iris.util.equalise_attributes(cubes[:2])\u001b[39;00m\n\u001b[0;32m----> 2\u001b[0m cube \u001b[38;5;241m=\u001b[39m \u001b[43miris\u001b[49m\u001b[38;5;241;43m.\u001b[39;49m\u001b[43mcube\u001b[49m\u001b[38;5;241;43m.\u001b[39;49m\u001b[43mCubeList\u001b[49m\u001b[43m(\u001b[49m\u001b[43mcubes\u001b[49m\u001b[43m[\u001b[49m\u001b[43m:\u001b[49m\u001b[38;5;241;43m2\u001b[39;49m\u001b[43m]\u001b[49m\u001b[43m)\u001b[49m\u001b[38;5;241;43m.\u001b[39;49m\u001b[43mconcatenate_cube\u001b[49m\u001b[43m(\u001b[49m\u001b[43m)\u001b[49m\n",
      "File \u001b[0;32m/data/apps/sss/environments/default-2024_11_26/lib/python3.12/site-packages/iris/cube.py:571\u001b[0m, in \u001b[0;36mCubeList.concatenate_cube\u001b[0;34m(self, check_aux_coords, check_cell_measures, check_ancils, check_derived_coords)\u001b[0m\n\u001b[1;32m    569\u001b[0m unique_names \u001b[38;5;241m=\u001b[39m \u001b[38;5;28mlist\u001b[39m(\u001b[38;5;28mdict\u001b[39m\u001b[38;5;241m.\u001b[39mfromkeys(names))\n\u001b[1;32m    570\u001b[0m \u001b[38;5;28;01mif\u001b[39;00m \u001b[38;5;28mlen\u001b[39m(unique_names) \u001b[38;5;241m==\u001b[39m \u001b[38;5;241m1\u001b[39m:\n\u001b[0;32m--> 571\u001b[0m     res \u001b[38;5;241m=\u001b[39m \u001b[43mconcatenate\u001b[49m\u001b[43m(\u001b[49m\n\u001b[1;32m    572\u001b[0m \u001b[43m        \u001b[49m\u001b[38;5;28;43mself\u001b[39;49m\u001b[43m,\u001b[49m\n\u001b[1;32m    573\u001b[0m \u001b[43m        \u001b[49m\u001b[43merror_on_mismatch\u001b[49m\u001b[38;5;241;43m=\u001b[39;49m\u001b[38;5;28;43;01mTrue\u001b[39;49;00m\u001b[43m,\u001b[49m\n\u001b[1;32m    574\u001b[0m \u001b[43m        \u001b[49m\u001b[43mcheck_aux_coords\u001b[49m\u001b[38;5;241;43m=\u001b[39;49m\u001b[43mcheck_aux_coords\u001b[49m\u001b[43m,\u001b[49m\n\u001b[1;32m    575\u001b[0m \u001b[43m        \u001b[49m\u001b[43mcheck_cell_measures\u001b[49m\u001b[38;5;241;43m=\u001b[39;49m\u001b[43mcheck_cell_measures\u001b[49m\u001b[43m,\u001b[49m\n\u001b[1;32m    576\u001b[0m \u001b[43m        \u001b[49m\u001b[43mcheck_ancils\u001b[49m\u001b[38;5;241;43m=\u001b[39;49m\u001b[43mcheck_ancils\u001b[49m\u001b[43m,\u001b[49m\n\u001b[1;32m    577\u001b[0m \u001b[43m        \u001b[49m\u001b[43mcheck_derived_coords\u001b[49m\u001b[38;5;241;43m=\u001b[39;49m\u001b[43mcheck_derived_coords\u001b[49m\u001b[43m,\u001b[49m\n\u001b[1;32m    578\u001b[0m \u001b[43m    \u001b[49m\u001b[43m)\u001b[49m\n\u001b[1;32m    579\u001b[0m     n_res_cubes \u001b[38;5;241m=\u001b[39m \u001b[38;5;28mlen\u001b[39m(res)\n\u001b[1;32m    580\u001b[0m     \u001b[38;5;28;01mif\u001b[39;00m n_res_cubes \u001b[38;5;241m==\u001b[39m \u001b[38;5;241m1\u001b[39m:\n",
      "File \u001b[0;32m/data/apps/sss/environments/default-2024_11_26/lib/python3.12/site-packages/iris/_concatenate.py:615\u001b[0m, in \u001b[0;36mconcatenate\u001b[0;34m(cubes, error_on_mismatch, check_aux_coords, check_cell_measures, check_ancils, check_derived_coords)\u001b[0m\n\u001b[1;32m    613\u001b[0m \u001b[38;5;66;03m# Register cube with an existing proto-cube.\u001b[39;00m\n\u001b[1;32m    614\u001b[0m \u001b[38;5;28;01mfor\u001b[39;00m proto_cube \u001b[38;5;129;01min\u001b[39;00m proto_cubes:\n\u001b[0;32m--> 615\u001b[0m     registered \u001b[38;5;241m=\u001b[39m \u001b[43mproto_cube\u001b[49m\u001b[38;5;241;43m.\u001b[39;49m\u001b[43mregister\u001b[49m\u001b[43m(\u001b[49m\n\u001b[1;32m    616\u001b[0m \u001b[43m        \u001b[49m\u001b[43mcube_signature\u001b[49m\u001b[43m,\u001b[49m\n\u001b[1;32m    617\u001b[0m \u001b[43m        \u001b[49m\u001b[43mhashes\u001b[49m\u001b[43m,\u001b[49m\n\u001b[1;32m    618\u001b[0m \u001b[43m        \u001b[49m\u001b[43maxis\u001b[49m\u001b[43m,\u001b[49m\n\u001b[1;32m    619\u001b[0m \u001b[43m        \u001b[49m\u001b[43merror_on_mismatch\u001b[49m\u001b[43m,\u001b[49m\n\u001b[1;32m    620\u001b[0m \u001b[43m        \u001b[49m\u001b[43mcheck_aux_coords\u001b[49m\u001b[43m,\u001b[49m\n\u001b[1;32m    621\u001b[0m \u001b[43m        \u001b[49m\u001b[43mcheck_cell_measures\u001b[49m\u001b[43m,\u001b[49m\n\u001b[1;32m    622\u001b[0m \u001b[43m        \u001b[49m\u001b[43mcheck_ancils\u001b[49m\u001b[43m,\u001b[49m\n\u001b[1;32m    623\u001b[0m \u001b[43m        \u001b[49m\u001b[43mcheck_derived_coords\u001b[49m\u001b[43m,\u001b[49m\n\u001b[1;32m    624\u001b[0m \u001b[43m    \u001b[49m\u001b[43m)\u001b[49m\n\u001b[1;32m    625\u001b[0m     \u001b[38;5;28;01mif\u001b[39;00m registered:\n\u001b[1;32m    626\u001b[0m         axis \u001b[38;5;241m=\u001b[39m proto_cube\u001b[38;5;241m.\u001b[39maxis\n",
      "File \u001b[0;32m/data/apps/sss/environments/default-2024_11_26/lib/python3.12/site-packages/iris/_concatenate.py:1168\u001b[0m, in \u001b[0;36m_ProtoCube.register\u001b[0;34m(self, cube_signature, hashes, axis, error_on_mismatch, check_aux_coords, check_cell_measures, check_ancils, check_derived_coords)\u001b[0m\n\u001b[1;32m   1165\u001b[0m     \u001b[38;5;28;01mraise\u001b[39;00m \u001b[38;5;167;01mValueError\u001b[39;00m(msg)\n\u001b[1;32m   1167\u001b[0m \u001b[38;5;66;03m# Check for compatible cube signatures.\u001b[39;00m\n\u001b[0;32m-> 1168\u001b[0m match \u001b[38;5;241m=\u001b[39m \u001b[38;5;28;43mself\u001b[39;49m\u001b[38;5;241;43m.\u001b[39;49m\u001b[43m_cube_signature\u001b[49m\u001b[38;5;241;43m.\u001b[39;49m\u001b[43mmatch\u001b[49m\u001b[43m(\u001b[49m\u001b[43mcube_signature\u001b[49m\u001b[43m,\u001b[49m\u001b[43m \u001b[49m\u001b[43merror_on_mismatch\u001b[49m\u001b[43m)\u001b[49m\n\u001b[1;32m   1169\u001b[0m mismatch_error_msg \u001b[38;5;241m=\u001b[39m \u001b[38;5;28;01mNone\u001b[39;00m\n\u001b[1;32m   1171\u001b[0m \u001b[38;5;66;03m# Check for compatible coordinate signatures.\u001b[39;00m\n",
      "File \u001b[0;32m/data/apps/sss/environments/default-2024_11_26/lib/python3.12/site-packages/iris/_concatenate.py:869\u001b[0m, in \u001b[0;36m_CubeSignature.match\u001b[0;34m(self, other, error_on_mismatch)\u001b[0m\n\u001b[1;32m    867\u001b[0m match \u001b[38;5;241m=\u001b[39m \u001b[38;5;129;01mnot\u001b[39;00m \u001b[38;5;28mbool\u001b[39m(msgs)\n\u001b[1;32m    868\u001b[0m \u001b[38;5;28;01mif\u001b[39;00m error_on_mismatch \u001b[38;5;129;01mand\u001b[39;00m \u001b[38;5;129;01mnot\u001b[39;00m match:\n\u001b[0;32m--> 869\u001b[0m     \u001b[38;5;28;01mraise\u001b[39;00m iris\u001b[38;5;241m.\u001b[39mexceptions\u001b[38;5;241m.\u001b[39mConcatenateError(msgs)\n\u001b[1;32m    870\u001b[0m \u001b[38;5;28;01mreturn\u001b[39;00m match\n",
      "\u001b[0;31mConcatenateError\u001b[0m: failed to concatenate into a single cube.\n  Scalar coordinates values or metadata differ: time, forecast_period != time, forecast_period"
     ]
    }
   ],
   "source": [
    "#iris.util.equalise_attributes(cubes[:2])\n",
    "cube = iris.cube.CubeList(cubes[:2]).concatenate_cube()"
   ]
  },
  {
   "cell_type": "code",
   "execution_count": 26,
   "id": "2e419c1d-56ba-4bd3-bdb5-5e25782fec1d",
   "metadata": {},
   "outputs": [
    {
     "name": "stdout",
     "output_type": "stream",
     "text": [
      "precipitation_amount / (kg m-2)     (latitude: 960; longitude: 1280)\n",
      "    Dimension coordinates:\n",
      "        latitude                             x               -\n",
      "        longitude                            -               x\n",
      "    Scalar coordinates:\n",
      "        forecast_period             -1.5 hours, bound=(-3.0, 0.0) hours\n",
      "        forecast_reference_time     2025-01-01 12:00:00\n",
      "        time                        2025-01-01 10:30:00, bound=(2025-01-01 09:00:00, 2025-01-01 12:00:00)\n",
      "    Cell methods:\n",
      "        0                           time: mean (interval: 1 hour)\n",
      "    Attributes:\n",
      "        STASH                       m01s05i226\n",
      "        source                      'Data from Met Office Unified Model'\n",
      "        um_version                  '11.9'\n",
      "precipitation_amount / (kg m-2)     (latitude: 960; longitude: 1280)\n",
      "    Dimension coordinates:\n",
      "        latitude                             x               -\n",
      "        longitude                            -               x\n",
      "    Scalar coordinates:\n",
      "        forecast_period             10.5 hours, bound=(-3.0, 24.0) hours\n",
      "        forecast_reference_time     2025-01-01 12:00:00\n",
      "        time                        2025-01-01 22:30:00, bound=(2025-01-01 09:00:00, 2025-01-02 12:00:00)\n",
      "    Cell methods:\n",
      "        0                           time: mean (interval: 1 hour)\n",
      "        1                           time: mean\n",
      "    Attributes:\n",
      "        STASH                       m01s05i226\n",
      "        source                      'Data from Met Office Unified Model'\n",
      "        um_version                  '11.9'\n"
     ]
    }
   ],
   "source": [
    "print(cubes[0])\n",
    "print(cubes[1])"
   ]
  },
  {
   "cell_type": "code",
   "execution_count": 41,
   "id": "126acb3b-6e62-4eca-91e7-20bf6941ffe8",
   "metadata": {},
   "outputs": [
    {
     "name": "stdout",
     "output_type": "stream",
     "text": [
      "Cube 0 Cell Methods: ()\n",
      "Cube 1 Cell Methods: ()\n"
     ]
    }
   ],
   "source": [
    "for i, cube in enumerate(cubes[:2]):\n",
    "    cube.cell_methods = ()\n",
    "    print(f\"Cube {i} Cell Methods:\", cube.cell_methods)"
   ]
  },
  {
   "cell_type": "code",
   "execution_count": 42,
   "id": "ba95662b-adc0-4935-a004-04439c356cfe",
   "metadata": {},
   "outputs": [
    {
     "ename": "MergeError",
     "evalue": "failed to merge into a single cube.\n  Coordinates in cube.aux_coords (scalar) differ by dtype or class (i.e. DimCoord vs AuxCoord).",
     "output_type": "error",
     "traceback": [
      "\u001b[0;31m---------------------------------------------------------------------------\u001b[0m",
      "\u001b[0;31mMergeError\u001b[0m                                Traceback (most recent call last)",
      "Cell \u001b[0;32mIn[42], line 9\u001b[0m\n\u001b[1;32m      7\u001b[0m     cube\u001b[38;5;241m.\u001b[39mcoord(\u001b[38;5;124m\"\u001b[39m\u001b[38;5;124mforecast_period\u001b[39m\u001b[38;5;124m\"\u001b[39m)\u001b[38;5;241m.\u001b[39mpoints \u001b[38;5;241m=\u001b[39m cubes[\u001b[38;5;241m0\u001b[39m]\u001b[38;5;241m.\u001b[39mcoord(\u001b[38;5;124m\"\u001b[39m\u001b[38;5;124mforecast_period\u001b[39m\u001b[38;5;124m\"\u001b[39m)\u001b[38;5;241m.\u001b[39mpoints\n\u001b[1;32m      8\u001b[0m iris\u001b[38;5;241m.\u001b[39mutil\u001b[38;5;241m.\u001b[39mequalise_attributes(cubes[:\u001b[38;5;241m2\u001b[39m])\n\u001b[0;32m----> 9\u001b[0m cube \u001b[38;5;241m=\u001b[39m \u001b[43miris\u001b[49m\u001b[38;5;241;43m.\u001b[39;49m\u001b[43mcube\u001b[49m\u001b[38;5;241;43m.\u001b[39;49m\u001b[43mCubeList\u001b[49m\u001b[43m(\u001b[49m\u001b[43mcubes\u001b[49m\u001b[43m[\u001b[49m\u001b[43m:\u001b[49m\u001b[38;5;241;43m2\u001b[39;49m\u001b[43m]\u001b[49m\u001b[43m)\u001b[49m\u001b[38;5;241;43m.\u001b[39;49m\u001b[43mmerge_cube\u001b[49m\u001b[43m(\u001b[49m\u001b[43m)\u001b[49m\n\u001b[1;32m     10\u001b[0m cube\n",
      "File \u001b[0;32m/data/apps/sss/environments/default-2024_11_26/lib/python3.12/site-packages/iris/cube.py:417\u001b[0m, in \u001b[0;36mCubeList.merge_cube\u001b[0;34m(self)\u001b[0m\n\u001b[1;32m    415\u001b[0m proto_cube \u001b[38;5;241m=\u001b[39m iris\u001b[38;5;241m.\u001b[39m_merge\u001b[38;5;241m.\u001b[39mProtoCube(\u001b[38;5;28mself\u001b[39m[\u001b[38;5;241m0\u001b[39m])\n\u001b[1;32m    416\u001b[0m \u001b[38;5;28;01mfor\u001b[39;00m c \u001b[38;5;129;01min\u001b[39;00m \u001b[38;5;28mself\u001b[39m[\u001b[38;5;241m1\u001b[39m:]:\n\u001b[0;32m--> 417\u001b[0m     \u001b[43mproto_cube\u001b[49m\u001b[38;5;241;43m.\u001b[39;49m\u001b[43mregister\u001b[49m\u001b[43m(\u001b[49m\u001b[43mc\u001b[49m\u001b[43m,\u001b[49m\u001b[43m \u001b[49m\u001b[43merror_on_mismatch\u001b[49m\u001b[38;5;241;43m=\u001b[39;49m\u001b[38;5;28;43;01mTrue\u001b[39;49;00m\u001b[43m)\u001b[49m\n\u001b[1;32m    419\u001b[0m \u001b[38;5;66;03m# Extract the merged cube from the ProtoCube.\u001b[39;00m\n\u001b[1;32m    420\u001b[0m (merged_cube,) \u001b[38;5;241m=\u001b[39m proto_cube\u001b[38;5;241m.\u001b[39mmerge()\n",
      "File \u001b[0;32m/data/apps/sss/environments/default-2024_11_26/lib/python3.12/site-packages/iris/_merge.py:1297\u001b[0m, in \u001b[0;36mProtoCube.register\u001b[0;34m(self, cube, error_on_mismatch)\u001b[0m\n\u001b[1;32m   1295\u001b[0m \u001b[38;5;28;01mif\u001b[39;00m match:\n\u001b[1;32m   1296\u001b[0m     coord_payload \u001b[38;5;241m=\u001b[39m \u001b[38;5;28mself\u001b[39m\u001b[38;5;241m.\u001b[39m_extract_coord_payload(cube)\n\u001b[0;32m-> 1297\u001b[0m     match \u001b[38;5;241m=\u001b[39m \u001b[43mcoord_payload\u001b[49m\u001b[38;5;241;43m.\u001b[39;49m\u001b[43mmatch_signature\u001b[49m\u001b[43m(\u001b[49m\n\u001b[1;32m   1298\u001b[0m \u001b[43m        \u001b[49m\u001b[38;5;28;43mself\u001b[39;49m\u001b[38;5;241;43m.\u001b[39;49m\u001b[43m_coord_signature\u001b[49m\u001b[43m,\u001b[49m\u001b[43m \u001b[49m\u001b[43merror_on_mismatch\u001b[49m\n\u001b[1;32m   1299\u001b[0m \u001b[43m    \u001b[49m\u001b[43m)\u001b[49m\n\u001b[1;32m   1300\u001b[0m \u001b[38;5;28;01mif\u001b[39;00m match:\n\u001b[1;32m   1301\u001b[0m     \u001b[38;5;66;03m# Register the cube as a source-cube for this ProtoCube.\u001b[39;00m\n\u001b[1;32m   1302\u001b[0m     \u001b[38;5;28mself\u001b[39m\u001b[38;5;241m.\u001b[39m_add_cube(cube, coord_payload)\n",
      "File \u001b[0;32m/data/apps/sss/environments/default-2024_11_26/lib/python3.12/site-packages/iris/_merge.py:271\u001b[0m, in \u001b[0;36m_CoordPayload.match_signature\u001b[0;34m(self, signature, error_on_mismatch)\u001b[0m\n\u001b[1;32m    269\u001b[0m match \u001b[38;5;241m=\u001b[39m \u001b[38;5;129;01mnot\u001b[39;00m \u001b[38;5;28mbool\u001b[39m(msgs)\n\u001b[1;32m    270\u001b[0m \u001b[38;5;28;01mif\u001b[39;00m error_on_mismatch \u001b[38;5;129;01mand\u001b[39;00m \u001b[38;5;129;01mnot\u001b[39;00m match:\n\u001b[0;32m--> 271\u001b[0m     \u001b[38;5;28;01mraise\u001b[39;00m iris\u001b[38;5;241m.\u001b[39mexceptions\u001b[38;5;241m.\u001b[39mMergeError(msgs)\n\u001b[1;32m    272\u001b[0m \u001b[38;5;28;01mreturn\u001b[39;00m match\n",
      "\u001b[0;31mMergeError\u001b[0m: failed to merge into a single cube.\n  Coordinates in cube.aux_coords (scalar) differ by dtype or class (i.e. DimCoord vs AuxCoord)."
     ]
    }
   ],
   "source": [
    "#iris.cube.CubeList(cubes[:2]).concatenate_cube()\n",
    "# Print cube summaries\n",
    "#for i, cube in enumerate(cubes[:2]):\n",
    "#    print(f\"Cube {i} Summary:\\n\", cube.summary(True))\n",
    "for cube in cubes[:2]:\n",
    "    cube.coord(\"time\").points = cubes[0].coord(\"time\").points\n",
    "    cube.coord(\"forecast_period\").points = cubes[0].coord(\"forecast_period\").points\n",
    "iris.util.equalise_attributes(cubes[:2])\n",
    "cube = iris.cube.CubeList(cubes[:2]).merge_cube()\n",
    "cube"
   ]
  },
  {
   "cell_type": "code",
   "execution_count": 5,
   "id": "562e96e4-a146-4d67-a7ef-3b71f0dabf85",
   "metadata": {},
   "outputs": [],
   "source": [
    "mem = 1\n",
    "realiz_coord = iris.coords.DimCoord([mem], standard_name='realization', var_name='realization')"
   ]
  },
  {
   "cell_type": "code",
   "execution_count": 6,
   "id": "5200b4a7-809a-433c-8c3d-bf8bc4df74bf",
   "metadata": {},
   "outputs": [],
   "source": [
    "#cube.add_aux_coord(realiz_coord)\n",
    "if cube.coords('realization'):\n",
    "    cube.remove_coord('realization')\n",
    "cube.add_aux_coord(realiz_coord)\n",
    "cube.coord('forecast_period').points = cube.coord('forecast_period').bounds[:,1]\n",
    "#cube.coord('forecast_period').points"
   ]
  },
  {
   "cell_type": "code",
   "execution_count": 7,
   "id": "bcb1af29-be32-46a0-9f6e-618502087c11",
   "metadata": {},
   "outputs": [
    {
     "data": {
      "text/plain": [
       "6.0096383e-05"
      ]
     },
     "execution_count": 7,
     "metadata": {},
     "output_type": "execute_result"
    },
    {
     "data": {
      "image/png": "[encoded data removed]",
      "text/plain": [
       "<Figure size 640x480 with 1 Axes>"
      ]
     },
     "metadata": {},
     "output_type": "display_data"
    }
   ],
   "source": [
    "#plt.plot(cube.data[1:, 100, 100] - cube.data[:-1, 100, 100], '*-')\n",
    "plt.plot(cube.data[:, 100, 100], '*-')\n",
    "cube.data[:, 10, 100].min()"
   ]
  },
  {
   "cell_type": "code",
   "execution_count": null,
   "id": "08b1384f-3864-475c-b69f-c368d7ef8b89",
   "metadata": {},
   "outputs": [],
   "source": []
  }
 ],
 "metadata": {
  "kernelspec": {
   "display_name": "Python 3 (ipykernel)",
   "language": "python",
   "name": "python3"
  },
  "language_info": {
   "codemirror_mode": {
    "name": "ipython",
    "version": 3
   },
   "file_extension": ".py",
   "mimetype": "text/x-python",
   "name": "python",
   "nbconvert_exporter": "python",
   "pygments_lexer": "ipython3",
   "version": "3.12.7"
  }
 },
 "nbformat": 4,
 "nbformat_minor": 5
}
