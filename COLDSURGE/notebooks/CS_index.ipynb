{
 "cells": [
  {
   "cell_type": "code",
   "execution_count": 1,
   "id": "d20e9835-f38f-4202-9ac4-2c5386fb3e91",
   "metadata": {},
   "outputs": [],
   "source": [
    "import os, sys\n",
    "import glob\n",
    "import iris\n",
    "import datetime\n",
    "import numpy as np\n",
    "import matplotlib.pyplot as plt\n",
    "import iris.quickplot as qplt\n",
    "import iris.plot as iplt\n",
    "import warnings\n",
    "warnings.filterwarnings(\"ignore\")\n",
    "%matplotlib tk"
   ]
  },
  {
   "cell_type": "code",
   "execution_count": 2,
   "id": "4c47b6d8-b05e-48c6-9f54-8dd0b2531516",
   "metadata": {},
   "outputs": [],
   "source": [
    "def get_file_name(date, varname):\n",
    "    forecast_out_dir = '/scratch/hadpx/SEA_monitoring/processed_MJO_data/mogreps/coldsurge'\n",
    "    concated_dir = os.path.join(forecast_out_dir, varname)\n",
    "    file_name = os.path.join(concated_dir,\n",
    "                                    f'{varname}_ColdSurge_24h_allMember_{date.strftime(\"%Y%m%d\")}.nc')\n",
    "    return file_name\n",
    "    \n",
    "def extract_and_collapse(cube, box):\n",
    "    extracted_cube = cube.intersection(latitude=(box[2], box[3]), longitude=(box[0], box[1]))\n",
    "    return extracted_cube.collapsed(('latitude', 'longitude'), iris.analysis.MEAN)"
   ]
  },
  {
   "cell_type": "code",
   "execution_count": 3,
   "id": "bd2efa6c-5007-4d1a-9315-a1ad19e77b95",
   "metadata": {},
   "outputs": [],
   "source": [
    "date = datetime.date(2024, 2, 11)\n",
    "u850_file_name = get_file_name(date, 'u850')\n",
    "v850_file_name = get_file_name(date, 'v850')"
   ]
  },
  {
   "cell_type": "code",
   "execution_count": 4,
   "id": "597f6400-c30e-42ad-b7d1-0698f9a041b3",
   "metadata": {},
   "outputs": [],
   "source": [
    "u850_cube = iris.load_cube(u850_file_name)\n",
    "u850_cube = u850_cube.intersection(longitude=(90, 135))\n",
    "v850_cube = iris.load_cube(v850_file_name)\n",
    "v850_cube = v850_cube.intersection(longitude=(90, 135))"
   ]
  },
  {
   "cell_type": "code",
   "execution_count": 5,
   "id": "d828c779-6637-4670-80f9-ccc7c72951c0",
   "metadata": {},
   "outputs": [],
   "source": [
    "# Compute speed\n",
    "speed_cube = (u850_cube ** 2 + v850_cube ** 2) ** 0.5"
   ]
  },
  {
   "cell_type": "code",
   "execution_count": 6,
   "id": "f9d5bc78-d68c-45a9-b526-4ab719e7b3d8",
   "metadata": {},
   "outputs": [],
   "source": [
    "# Cold surge identification\n",
    "chang_box = [107, 115, 5, 10]  # CP Chang's 2nd domain\n",
    "\n",
    "# Hattori box for cross equatorial surges\n",
    "hattori_box = [105, 115, -5, 5]\n",
    "\n",
    "Chang_threshold = 9.0  # 10 # wind speed m/s\n",
    "Hattori_threshold = -2.0  # m/s meridional wind\n",
    "\n",
    "u850_ba = extract_and_collapse(u850_cube, chang_box)\n",
    "v850_ba = extract_and_collapse(v850_cube, chang_box)\n",
    "speed_ba = extract_and_collapse(speed_cube, chang_box)\n",
    "v850_hattori = extract_and_collapse(v850_cube, hattori_box)"
   ]
  },
  {
   "cell_type": "code",
   "execution_count": 7,
   "id": "d17437a0-e4bf-4169-b0c3-f4da8683e4c2",
   "metadata": {},
   "outputs": [
    {
     "data": {
      "text/plain": [
       "<matplotlib.quiver.Quiver at 0x7fab6578ca00>"
      ]
     },
     "execution_count": 7,
     "metadata": {},
     "output_type": "execute_result"
    }
   ],
   "source": [
    "qplt.contourf(speed_cube[0, 1])\n",
    "iplt.quiver(u850_cube[0, 1, ::5, ::5], v850_cube[0, 1, ::5, ::5], scale=300)  # Adjust scale as needed"
   ]
  },
  {
   "cell_type": "code",
   "execution_count": 8,
   "id": "33c6ed4a-f206-4f5e-bcc3-b55b39215dce",
   "metadata": {},
   "outputs": [
    {
     "name": "stdout",
     "output_type": "stream",
     "text": [
      "[100.0, 100.0, 100.0, 72.2, 94.4, 94.4, 30.6, 0.0] [100.0, 33.3, 2.8, 0.0, 33.3, 75.0, 0.0, 0.0]\n"
     ]
    },
    {
     "data": {
      "text/plain": [
       "<matplotlib.legend.Legend at 0x7fab6538d570>"
      ]
     },
     "execution_count": 8,
     "metadata": {},
     "output_type": "execute_result"
    }
   ],
   "source": [
    "mask1 = (u850_ba.data < 0.) & (v850_ba.data < 0.) & (speed_ba.data >= Chang_threshold)\n",
    "mask2 = mask1 & (v850_hattori.data <= Hattori_threshold)\n",
    "cs_prob = [round(p, 1) for p in 100.*np.sum(mask1, axis=0)/float(len(mask1))]\n",
    "ces_prob = [round(p, 1) for p in 100.*np.sum(mask2, axis=0)/float(len(mask2))]\n",
    "print(cs_prob, ces_prob)\n",
    "\n",
    "mem = 1\n",
    "plt.plot(u850_ba[mem].data, label='u')\n",
    "plt.plot(v850_ba[mem].data, label='v')\n",
    "plt.plot(speed_ba[mem].data, label='s')\n",
    "plt.plot(v850_hattori[mem].data, label='hattori')\n",
    "plt.plot(mask1[mem]*10, 'b*', label='cs')\n",
    "plt.plot(mask2[mem]*10, 'o', label='ces', alpha=0.5)\n",
    "plt.legend()"
   ]
  },
  {
   "cell_type": "code",
   "execution_count": 9,
   "id": "bc516bb0-56dd-4207-977f-9621c6bd1683",
   "metadata": {},
   "outputs": [
    {
     "data": {
      "text/plain": [
       "<matplotlib.legend.Legend at 0x7fab65092620>"
      ]
     },
     "execution_count": 9,
     "metadata": {},
     "output_type": "execute_result"
    }
   ],
   "source": [
    "fig, ax1 = plt.subplots()\n",
    "\n",
    "for mem in range(36):\n",
    "    if mem == 1:\n",
    "        ax1.plot(u850_ba[mem].data, color='b', alpha=0.2, label='u850')\n",
    "        ax1.plot(v850_ba[mem].data, color='r', alpha=0.4, label='v850')\n",
    "        ax1.plot(speed_ba[mem].data, color='g', alpha=0.4, label='speed850')\n",
    "        ax1.plot(v850_hattori[mem].data, color='orange', alpha=0.4, label='v850 Eq.')\n",
    "    else:\n",
    "        ax1.plot(u850_ba[mem].data, color='b', alpha=0.2)\n",
    "        ax1.plot(v850_ba[mem].data, color='r', alpha=0.4)\n",
    "        ax1.plot(speed_ba[mem].data, color='g', alpha=0.4)\n",
    "        ax1.plot(v850_hattori[mem].data, color='orange', alpha=0.4)\n",
    "ax1.set_xlabel('u850')\n",
    "ax1.set_ylabel('v850')\n",
    "ax1.axhline(0, color='grey', linestyle='--')\n",
    "ax1.axhline(9, color='grey', linestyle='--')\n",
    "ax1.axhline(-2, color='grey', linestyle='--')\n",
    "ax1.set_xlim([0, 7])\n",
    "ax1.legend()\n",
    "\n",
    "# Create a twin Axes object sharing the same x-axis\n",
    "ax2 = ax1.twinx()\n",
    "ax2.bar(range(8), cs_prob, color='blue', alpha=0.2, label='CS prob')\n",
    "ax2.bar(range(8), ces_prob, color='orange', alpha=0.5, label='CES prob')\n",
    "# Add legends\n",
    "#ax1.legend(loc='upper left')  # Legend for Variable 1\n",
    "ax2.legend(loc='upper left')  # Legend for Variable 2\n",
    "\n",
    "#plt.ylim([-15, 15])#\n",
    "#plt.plot([])"
   ]
  },
  {
   "cell_type": "code",
   "execution_count": 150,
   "id": "80c569c8-4e67-49f7-80e3-08f16c161f1e",
   "metadata": {},
   "outputs": [
    {
     "data": {
      "text/plain": [
       "<matplotlib.quiver.Quiver at 0x7f7e981585e0>"
      ]
     },
     "execution_count": 150,
     "metadata": {},
     "output_type": "execute_result"
    }
   ],
   "source": [
    "mem=1\n",
    "#plt.quiver(u850_ba[mem].data, v850_ba[mem].data)\n",
    "plt.quiver(np.ma.masked_array(u850_ba[mem].data, mask=~mask2[mem]), np.ma.masked_array(v850_ba[mem].data, mask=~mask2[mem]), color='red')"
   ]
  },
  {
   "cell_type": "code",
   "execution_count": 63,
   "id": "88230e00-ec10-4af9-8a3a-b07a7270c3af",
   "metadata": {},
   "outputs": [
    {
     "data": {
      "text/plain": [
       "<matplotlib.colorbar.Colorbar at 0x7f7e9b58ece0>"
      ]
     },
     "execution_count": 63,
     "metadata": {},
     "output_type": "execute_result"
    },
    {
     "data": {
      "image/png": "[encoded data removed]",
      "text/plain": [
       "<Figure size 640x480 with 2 Axes>"
      ]
     },
     "metadata": {},
     "output_type": "display_data"
    }
   ],
   "source": [
    "plt.pcolormesh(mask1)\n",
    "plt.colorbar()"
   ]
  },
  {
   "cell_type": "code",
   "execution_count": 64,
   "id": "df32f124-2689-41e4-ad9b-7d908c6a105f",
   "metadata": {},
   "outputs": [
    {
     "data": {
      "text/plain": [
       "<matplotlib.colorbar.Colorbar at 0x7f7e9b43b730>"
      ]
     },
     "execution_count": 64,
     "metadata": {},
     "output_type": "execute_result"
    },
    {
     "data": {
      "image/png": "[encoded data removed]",
      "text/plain": [
       "<Figure size 640x480 with 2 Axes>"
      ]
     },
     "metadata": {},
     "output_type": "display_data"
    }
   ],
   "source": [
    "plt.pcolormesh(mask2)\n",
    "plt.colorbar()"
   ]
  },
  {
   "cell_type": "code",
   "execution_count": 81,
   "id": "9cd56fa9-0721-4696-b197-e67af3189d41",
   "metadata": {},
   "outputs": [
    {
     "data": {
      "text/plain": [
       "([100.0, 100.0, 100.0, 72.2, 94.4, 94.4, 30.6, 0.0],\n",
       " [100.0, 33.3, 2.8, 0.0, 33.3, 75.0, 0.0, 0.0])"
      ]
     },
     "execution_count": 81,
     "metadata": {},
     "output_type": "execute_result"
    }
   ],
   "source": []
  },
  {
   "cell_type": "code",
   "execution_count": 75,
   "id": "b7489137-951b-4e28-84ee-8d2744f78b3a",
   "metadata": {},
   "outputs": [
    {
     "data": {
      "text/plain": [
       "33.33"
      ]
     },
     "execution_count": 75,
     "metadata": {},
     "output_type": "execute_result"
    }
   ],
   "source": [
    "round(33.333, 2)"
   ]
  },
  {
   "cell_type": "code",
   "execution_count": null,
   "id": "57aa1844-772e-4c9a-9cd8-9338ca363313",
   "metadata": {},
   "outputs": [],
   "source": []
  }
 ],
 "metadata": {
  "kernelspec": {
   "display_name": "Python 3 (ipykernel)",
   "language": "python",
   "name": "python3"
  },
  "language_info": {
   "codemirror_mode": {
    "name": "ipython",
    "version": 3
   },
   "file_extension": ".py",
   "mimetype": "text/x-python",
   "name": "python",
   "nbconvert_exporter": "python",
   "pygments_lexer": "ipython3",
   "version": "3.10.12"
  }
 },
 "nbformat": 4,
 "nbformat_minor": 5
}
